{
  "nbformat": 4,
  "nbformat_minor": 0,
  "metadata": {
    "colab": {
      "name": "voiceNet.ipynb",
      "provenance": [],
      "collapsed_sections": []
    },
    "kernelspec": {
      "name": "python3",
      "display_name": "Python 3"
    },
    "language_info": {
      "name": "python"
    },
    "accelerator": "GPU"
  },
  "cells": [
    {
      "cell_type": "markdown",
      "source": [
        "The code is written by Emil Vardar"
      ],
      "metadata": {
        "id": "5M1ptPjKaZWC"
      }
    },
    {
      "cell_type": "code",
      "execution_count": 1,
      "metadata": {
        "colab": {
          "base_uri": "https://localhost:8080/"
        },
        "id": "TeA-tGnkSYQg",
        "outputId": "c654588e-cc78-4959-8f8e-a7f9ab927d8b"
      },
      "outputs": [
        {
          "output_type": "stream",
          "name": "stdout",
          "text": [
            "Mounted at /content/drive\n"
          ]
        }
      ],
      "source": [
        "from google.colab import drive\n",
        "drive.mount('/content/drive')"
      ]
    },
    {
      "cell_type": "markdown",
      "source": [
        "Import all the necessary packages"
      ],
      "metadata": {
        "id": "GAuolw55SgeQ"
      }
    },
    {
      "cell_type": "code",
      "source": [
        "from __future__ import absolute_import, division, print_function, unicode_literals\n",
        "import tensorflow as tf\n",
        "from tensorflow.keras import datasets, layers, models\n",
        "from tensorflow.keras.models import Model\n",
        "\n",
        "from tensorflow.keras.layers import Input, MaxPooling2D, Dense, Activation, ZeroPadding2D, BatchNormalization, Flatten, Conv2D\n",
        "from tensorflow.keras.layers import AveragePooling2D, Dropout, GlobalMaxPooling2D, GlobalAveragePooling2D\n",
        "from tensorflow.keras.metrics import Recall, Precision, Accuracy\n",
        "from tensorflow.keras.optimizers import Adam, SGD "
      ],
      "metadata": {
        "id": "GhYo7XCHScnn"
      },
      "execution_count": 2,
      "outputs": []
    },
    {
      "cell_type": "code",
      "source": [
        "import json\n",
        "import numpy as np\n",
        "import argparse\n",
        "import os \n",
        "from os.path import isfile, join\n",
        "import h5py\n",
        "import random\n",
        "import pickle\n",
        "\n",
        "\n",
        "!pip3 install pickle5\n",
        "import pickle5 as p\n",
        "import matplotlib.pyplot as plt"
      ],
      "metadata": {
        "colab": {
          "base_uri": "https://localhost:8080/"
        },
        "id": "EyRwTcqaSmK_",
        "outputId": "8a120a18-6718-4e05-f30e-20880e6e7519"
      },
      "execution_count": 3,
      "outputs": [
        {
          "output_type": "stream",
          "name": "stdout",
          "text": [
            "Looking in indexes: https://pypi.org/simple, https://us-python.pkg.dev/colab-wheels/public/simple/\n",
            "Collecting pickle5\n",
            "  Downloading pickle5-0.0.12-cp37-cp37m-manylinux_2_5_x86_64.manylinux1_x86_64.whl (256 kB)\n",
            "\u001b[K     |████████████████████████████████| 256 kB 7.8 MB/s \n",
            "\u001b[?25hInstalling collected packages: pickle5\n",
            "Successfully installed pickle5-0.0.12\n"
          ]
        }
      ]
    },
    {
      "cell_type": "markdown",
      "source": [
        "Redefine the German dataset model so that we can load its weight properly"
      ],
      "metadata": {
        "id": "yNoLjW1kS2m8"
      }
    },
    {
      "cell_type": "code",
      "source": [
        "initializer = tf.keras.initializers.GlorotNormal() # Xavier initialization\n",
        "\n",
        "model = models.Sequential()\n",
        "\n",
        "model.add(layers.Conv2D(16, (3, 3), activation='relu', padding='same', input_shape=(224, 224, 3), name = 'conv_1', kernel_initializer=initializer))\n",
        "model.add(layers.BatchNormalization())\n",
        "model.add(layers.MaxPooling2D((2, 2)))\n",
        "\n",
        "model.add(layers.Conv2D(16, (3, 3), strides=(2, 2), activation='relu', padding='same', name = 'conv_2', kernel_initializer=initializer))\n",
        "model.add(layers.BatchNormalization())\n",
        "model.add(layers.MaxPooling2D((2, 2)))\n",
        "\n",
        "model.add(layers.Conv2D(8, (3, 3), strides=(2, 2), activation='relu', padding='same', name= 'conv_3', kernel_initializer=initializer))\n",
        "model.add(layers.BatchNormalization())\n",
        "\n",
        "model.add(layers.Conv2D(4, (3, 3), activation='relu', padding='same', name= 'conv_4'))\n",
        "model.add(layers.BatchNormalization())\n",
        "model.add(layers.Dropout(rate = 0.3))\n",
        "model.add(layers.AveragePooling2D((2, 2)))\n",
        "\n",
        "model.add(layers.Flatten())\n",
        "model.add(layers.Dense(16, activation='elu', name='Dense_layer'))\n",
        "model.add(layers.BatchNormalization())\n",
        "model.add(layers.Dropout(rate = 0.3))\n",
        "model.add(layers.Dense(1, activation='sigmoid'))"
      ],
      "metadata": {
        "id": "7vu8AMRSS2E4"
      },
      "execution_count": 4,
      "outputs": []
    },
    {
      "cell_type": "code",
      "source": [
        "model.load_weights('/content/drive/MyDrive/CS230_Code_Data/Dataset/german_model.h5')"
      ],
      "metadata": {
        "id": "cWv_741bSuYE"
      },
      "execution_count": 5,
      "outputs": []
    },
    {
      "cell_type": "markdown",
      "source": [
        "To do the transfer learning extract only the first layers of the pre-train model. More specifically take the first layers up until (and included) the 4th convolutional layer."
      ],
      "metadata": {
        "id": "v5XU_V4YS_50"
      }
    },
    {
      "cell_type": "code",
      "source": [
        "base_model = model\n",
        "prefinal_model = Model(inputs=base_model.input, outputs=base_model.get_layer('conv_4').output, name = 'prefinal_model')\n",
        "prefinal_model.summary()"
      ],
      "metadata": {
        "colab": {
          "base_uri": "https://localhost:8080/"
        },
        "id": "FnTqW8Z4Sz4O",
        "outputId": "00362f89-f4bc-4624-8824-3b9b75fa3248"
      },
      "execution_count": 6,
      "outputs": [
        {
          "output_type": "stream",
          "name": "stdout",
          "text": [
            "Model: \"prefinal_model\"\n",
            "_________________________________________________________________\n",
            " Layer (type)                Output Shape              Param #   \n",
            "=================================================================\n",
            " conv_1_input (InputLayer)   [(None, 224, 224, 3)]     0         \n",
            "                                                                 \n",
            " conv_1 (Conv2D)             (None, 224, 224, 16)      448       \n",
            "                                                                 \n",
            " batch_normalization (BatchN  (None, 224, 224, 16)     64        \n",
            " ormalization)                                                   \n",
            "                                                                 \n",
            " max_pooling2d (MaxPooling2D  (None, 112, 112, 16)     0         \n",
            " )                                                               \n",
            "                                                                 \n",
            " conv_2 (Conv2D)             (None, 56, 56, 16)        2320      \n",
            "                                                                 \n",
            " batch_normalization_1 (Batc  (None, 56, 56, 16)       64        \n",
            " hNormalization)                                                 \n",
            "                                                                 \n",
            " max_pooling2d_1 (MaxPooling  (None, 28, 28, 16)       0         \n",
            " 2D)                                                             \n",
            "                                                                 \n",
            " conv_3 (Conv2D)             (None, 14, 14, 8)         1160      \n",
            "                                                                 \n",
            " batch_normalization_2 (Batc  (None, 14, 14, 8)        32        \n",
            " hNormalization)                                                 \n",
            "                                                                 \n",
            " conv_4 (Conv2D)             (None, 14, 14, 4)         292       \n",
            "                                                                 \n",
            "=================================================================\n",
            "Total params: 4,380\n",
            "Trainable params: 4,300\n",
            "Non-trainable params: 80\n",
            "_________________________________________________________________\n"
          ]
        }
      ]
    },
    {
      "cell_type": "markdown",
      "source": [
        "Then add new layers on top of the one given above"
      ],
      "metadata": {
        "id": "U4QtJKL6TVJ8"
      }
    },
    {
      "cell_type": "code",
      "source": [
        "X = prefinal_model.output    # x is the output of the last layer of cutted_layer (x=features on layer block4_conv3)\n",
        "\n",
        "X = Dropout(0.3)(X)\n",
        "X = BatchNormalization()(X)\n",
        "X = MaxPooling2D((2,2))(X)\n",
        "X = Flatten()(X)\n",
        "X = Dropout(0.3)(X)\n",
        "X = Dense(16, activation='elu')(X) \n",
        "#X = Dense(4, activation='elu')(X) \n",
        "prediction = Dense(1, activation='sigmoid')(X) \n"
      ],
      "metadata": {
        "id": "7rv_9AEgTTb4"
      },
      "execution_count": 7,
      "outputs": []
    },
    {
      "cell_type": "code",
      "source": [
        "final_model = Model(inputs=base_model.input, outputs=prediction, name = 'final_model')\n",
        "final_model.summary()"
      ],
      "metadata": {
        "colab": {
          "base_uri": "https://localhost:8080/"
        },
        "id": "vWjhpFuVUM0V",
        "outputId": "1a5c47e5-29a7-4c9d-812c-11f937b2a1ee"
      },
      "execution_count": 8,
      "outputs": [
        {
          "output_type": "stream",
          "name": "stdout",
          "text": [
            "Model: \"final_model\"\n",
            "_________________________________________________________________\n",
            " Layer (type)                Output Shape              Param #   \n",
            "=================================================================\n",
            " conv_1_input (InputLayer)   [(None, 224, 224, 3)]     0         \n",
            "                                                                 \n",
            " conv_1 (Conv2D)             (None, 224, 224, 16)      448       \n",
            "                                                                 \n",
            " batch_normalization (BatchN  (None, 224, 224, 16)     64        \n",
            " ormalization)                                                   \n",
            "                                                                 \n",
            " max_pooling2d (MaxPooling2D  (None, 112, 112, 16)     0         \n",
            " )                                                               \n",
            "                                                                 \n",
            " conv_2 (Conv2D)             (None, 56, 56, 16)        2320      \n",
            "                                                                 \n",
            " batch_normalization_1 (Batc  (None, 56, 56, 16)       64        \n",
            " hNormalization)                                                 \n",
            "                                                                 \n",
            " max_pooling2d_1 (MaxPooling  (None, 28, 28, 16)       0         \n",
            " 2D)                                                             \n",
            "                                                                 \n",
            " conv_3 (Conv2D)             (None, 14, 14, 8)         1160      \n",
            "                                                                 \n",
            " batch_normalization_2 (Batc  (None, 14, 14, 8)        32        \n",
            " hNormalization)                                                 \n",
            "                                                                 \n",
            " conv_4 (Conv2D)             (None, 14, 14, 4)         292       \n",
            "                                                                 \n",
            " dropout_2 (Dropout)         (None, 14, 14, 4)         0         \n",
            "                                                                 \n",
            " batch_normalization_5 (Batc  (None, 14, 14, 4)        16        \n",
            " hNormalization)                                                 \n",
            "                                                                 \n",
            " max_pooling2d_2 (MaxPooling  (None, 7, 7, 4)          0         \n",
            " 2D)                                                             \n",
            "                                                                 \n",
            " flatten_1 (Flatten)         (None, 196)               0         \n",
            "                                                                 \n",
            " dropout_3 (Dropout)         (None, 196)               0         \n",
            "                                                                 \n",
            " dense_1 (Dense)             (None, 16)                3152      \n",
            "                                                                 \n",
            " dense_2 (Dense)             (None, 1)                 17        \n",
            "                                                                 \n",
            "=================================================================\n",
            "Total params: 7,565\n",
            "Trainable params: 7,477\n",
            "Non-trainable params: 88\n",
            "_________________________________________________________________\n"
          ]
        }
      ]
    },
    {
      "cell_type": "markdown",
      "source": [
        "Don't freeze any of the layers"
      ],
      "metadata": {
        "id": "YFrv-Ev4VlJ-"
      }
    },
    {
      "cell_type": "code",
      "source": [
        "for layer in prefinal_model.layers:\n",
        "    layer.trainable = True"
      ],
      "metadata": {
        "id": "YC8apUghT-3Y"
      },
      "execution_count": 9,
      "outputs": []
    },
    {
      "cell_type": "markdown",
      "source": [
        "Import the datasets that has been preprocessed. The imports are dictionaries of type:\n",
        "train_data_dict = {'spectogram:' np.array of shape (224, 224, 3), 'patient:' the id of the patient so that they are not lost, 'status:' 0(healthy) or 1(pathological)}"
      ],
      "metadata": {
        "id": "RJGGi4gwWOYb"
      }
    },
    {
      "cell_type": "code",
      "source": [
        "with open('/content/drive/MyDrive/CS230_Code_Data/train_data', 'rb') as su:\n",
        "    train_data_dict = pickle.load(su)\n",
        "\n",
        "with open('/content/drive/MyDrive/CS230_Code_Data/test_data', 'rb') as su:\n",
        "    test_data_dict = pickle.load(su)\n",
        "\n",
        "with open('/content/drive/MyDrive/CS230_Code_Data/val_data', 'rb') as su:\n",
        "    val_data_dict = pickle.load(su)\n"
      ],
      "metadata": {
        "id": "Sij0kSvkVnmE"
      },
      "execution_count": 10,
      "outputs": []
    },
    {
      "cell_type": "code",
      "source": [
        "print(len(train_data_dict))\n",
        "print(len(test_data_dict))\n",
        "print(len(val_data_dict))"
      ],
      "metadata": {
        "colab": {
          "base_uri": "https://localhost:8080/"
        },
        "id": "V5RlmBp1WsEZ",
        "outputId": "7fc4888a-f3bf-480c-e5ab-2c03abb94263"
      },
      "execution_count": 11,
      "outputs": [
        {
          "output_type": "stream",
          "name": "stdout",
          "text": [
            "3039\n",
            "536\n",
            "566\n"
          ]
        }
      ]
    },
    {
      "cell_type": "code",
      "source": [
        "print('The ratio of the train dataset is:', len(train_data_dict)/(len(train_data_dict) + len(test_data_dict) + len(val_data_dict)))"
      ],
      "metadata": {
        "colab": {
          "base_uri": "https://localhost:8080/"
        },
        "id": "mUoEmLEJWtIr",
        "outputId": "d76ea4e9-b515-4753-cdf0-761f8acd6c6d"
      },
      "execution_count": 12,
      "outputs": [
        {
          "output_type": "stream",
          "name": "stdout",
          "text": [
            "The ratio of the train dataset is: 0.7338807051436851\n"
          ]
        }
      ]
    },
    {
      "cell_type": "markdown",
      "source": [
        "Transfor the spectograms and the status to a keras interpretable form"
      ],
      "metadata": {
        "id": "8DYj4MUYW6eW"
      }
    },
    {
      "cell_type": "code",
      "source": [
        "def matrix_creator(dataset, augment = False):\n",
        "    X = []\n",
        "    y = []\n",
        "    for person in dataset:\n",
        "        spectogram = person['spectogram'] \n",
        "        status = int(person['status'])       \n",
        "        X.append(spectogram)\n",
        "        y.append(status)\n",
        "\n",
        "    X = np.array(X)\n",
        "    y = np.array(y)\n",
        "\n",
        "    y = y.reshape((y.shape[0],1))\n",
        "    return X, y"
      ],
      "metadata": {
        "id": "63iOiFhWW2nS"
      },
      "execution_count": 13,
      "outputs": []
    },
    {
      "cell_type": "code",
      "source": [
        "train_data, train_labels = matrix_creator(train_data_dict)  \n",
        "test_data, test_labels = matrix_creator(test_data_dict)\n",
        "val_data, val_labels = matrix_creator(val_data_dict)"
      ],
      "metadata": {
        "id": "_4AzLdiXW8cb"
      },
      "execution_count": 14,
      "outputs": []
    },
    {
      "cell_type": "code",
      "source": [
        "print(train_data.shape)\n",
        "print(test_data.shape)\n",
        "print(val_data.shape)"
      ],
      "metadata": {
        "colab": {
          "base_uri": "https://localhost:8080/"
        },
        "id": "dRDsstvRXjxZ",
        "outputId": "00060598-86eb-48b4-e114-19cd045abdc3"
      },
      "execution_count": 15,
      "outputs": [
        {
          "output_type": "stream",
          "name": "stdout",
          "text": [
            "(3039, 224, 224, 3)\n",
            "(536, 224, 224, 3)\n",
            "(566, 224, 224, 3)\n"
          ]
        }
      ]
    },
    {
      "cell_type": "markdown",
      "source": [
        "See an example spectogram"
      ],
      "metadata": {
        "id": "xf9AL-UGXmcJ"
      }
    },
    {
      "cell_type": "code",
      "source": [
        "image = train_data[18]\n",
        "plt.imshow(image)\n",
        "plt.show()"
      ],
      "metadata": {
        "colab": {
          "base_uri": "https://localhost:8080/",
          "height": 269
        },
        "id": "Myqxd4FLXkuT",
        "outputId": "769b404b-cd0a-492c-a595-d9662207231c"
      },
      "execution_count": 16,
      "outputs": [
        {
          "output_type": "display_data",
          "data": {
            "text/plain": [
              "<Figure size 432x288 with 1 Axes>"
            ],
            "image/png": "[encoded data removed]"
          },
          "metadata": {
            "needs_background": "light"
          }
        }
      ]
    },
    {
      "cell_type": "markdown",
      "source": [
        "Further train the base model on the stanford dataset. \n",
        "We are using Adam as optimizer with lr=5e-5. The loss function is weighted binary cross entropy. "
      ],
      "metadata": {
        "id": "CxaBShEkXza0"
      }
    },
    {
      "cell_type": "code",
      "source": [
        "opt = Adam(learning_rate=5e-5, beta_1 = 0.9, beta_2 = 0.999)\n",
        "final_model.compile(optimizer = opt, loss='binary_crossentropy', metrics=['accuracy', Precision(), Recall()])"
      ],
      "metadata": {
        "id": "6JowR00iXqeC"
      },
      "execution_count": 17,
      "outputs": []
    },
    {
      "cell_type": "code",
      "source": [
        "history = final_model.fit(train_data, train_labels, epochs=40, batch_size=16, class_weight={0:5, 1:2}, validation_data=(val_data, val_labels))"
      ],
      "metadata": {
        "colab": {
          "base_uri": "https://localhost:8080/"
        },
        "id": "2RZ0jjgGYCGx",
        "outputId": "9b774f82-1b4f-4acf-a2b8-680526c92b96"
      },
      "execution_count": 18,
      "outputs": [
        {
          "output_type": "stream",
          "name": "stdout",
          "text": [
            "Epoch 1/40\n",
            "190/190 [==============================] - 23s 22ms/step - loss: 3.0752 - accuracy: 0.4715 - precision: 0.6491 - recall: 0.3803 - val_loss: 0.8631 - val_accuracy: 0.4399 - val_precision: 0.6333 - val_recall: 0.2178\n",
            "Epoch 2/40\n",
            "190/190 [==============================] - 3s 17ms/step - loss: 2.6958 - accuracy: 0.4900 - precision: 0.6810 - recall: 0.3828 - val_loss: 0.7762 - val_accuracy: 0.4700 - val_precision: 0.6369 - val_recall: 0.3266\n",
            "Epoch 3/40\n",
            "190/190 [==============================] - 3s 18ms/step - loss: 2.5579 - accuracy: 0.4850 - precision: 0.6785 - recall: 0.3720 - val_loss: 0.7521 - val_accuracy: 0.4859 - val_precision: 0.6790 - val_recall: 0.3152\n",
            "Epoch 4/40\n",
            "190/190 [==============================] - 3s 16ms/step - loss: 2.4124 - accuracy: 0.4916 - precision: 0.6930 - recall: 0.3700 - val_loss: 0.7073 - val_accuracy: 0.5283 - val_precision: 0.6916 - val_recall: 0.4241\n",
            "Epoch 5/40\n",
            "190/190 [==============================] - 3s 16ms/step - loss: 2.2673 - accuracy: 0.5123 - precision: 0.7109 - recall: 0.4018 - val_loss: 0.7178 - val_accuracy: 0.5283 - val_precision: 0.7500 - val_recall: 0.3524\n",
            "Epoch 6/40\n",
            "190/190 [==============================] - 4s 19ms/step - loss: 2.2474 - accuracy: 0.5015 - precision: 0.7153 - recall: 0.3679 - val_loss: 0.7090 - val_accuracy: 0.5283 - val_precision: 0.7595 - val_recall: 0.3438\n",
            "Epoch 7/40\n",
            "190/190 [==============================] - 4s 19ms/step - loss: 2.1871 - accuracy: 0.5021 - precision: 0.7133 - recall: 0.3720 - val_loss: 0.6924 - val_accuracy: 0.5406 - val_precision: 0.7730 - val_recall: 0.3610\n",
            "Epoch 8/40\n",
            "190/190 [==============================] - 3s 16ms/step - loss: 2.1371 - accuracy: 0.5084 - precision: 0.7292 - recall: 0.3695 - val_loss: 0.6866 - val_accuracy: 0.5636 - val_precision: 0.7865 - val_recall: 0.4011\n",
            "Epoch 9/40\n",
            "190/190 [==============================] - 3s 16ms/step - loss: 2.1036 - accuracy: 0.5268 - precision: 0.7428 - recall: 0.3993 - val_loss: 0.6786 - val_accuracy: 0.5671 - val_precision: 0.7857 - val_recall: 0.4097\n",
            "Epoch 10/40\n",
            "190/190 [==============================] - 3s 16ms/step - loss: 2.0963 - accuracy: 0.5173 - precision: 0.7578 - recall: 0.3618 - val_loss: 0.6778 - val_accuracy: 0.5654 - val_precision: 0.8199 - val_recall: 0.3782\n",
            "Epoch 11/40\n",
            "190/190 [==============================] - 3s 17ms/step - loss: 2.0797 - accuracy: 0.5123 - precision: 0.7382 - recall: 0.3695 - val_loss: 0.6678 - val_accuracy: 0.5760 - val_precision: 0.8385 - val_recall: 0.3868\n",
            "Epoch 12/40\n",
            "190/190 [==============================] - 3s 18ms/step - loss: 1.9953 - accuracy: 0.5482 - precision: 0.7945 - recall: 0.3972 - val_loss: 0.6475 - val_accuracy: 0.5936 - val_precision: 0.8115 - val_recall: 0.4441\n",
            "Epoch 13/40\n",
            "190/190 [==============================] - 3s 16ms/step - loss: 2.0096 - accuracy: 0.5462 - precision: 0.7821 - recall: 0.4039 - val_loss: 0.6675 - val_accuracy: 0.5724 - val_precision: 0.8591 - val_recall: 0.3668\n",
            "Epoch 14/40\n",
            "190/190 [==============================] - 3s 16ms/step - loss: 1.9837 - accuracy: 0.5522 - precision: 0.7934 - recall: 0.4065 - val_loss: 0.6652 - val_accuracy: 0.5742 - val_precision: 0.8803 - val_recall: 0.3582\n",
            "Epoch 15/40\n",
            "190/190 [==============================] - 3s 16ms/step - loss: 1.9723 - accuracy: 0.5673 - precision: 0.8048 - recall: 0.4281 - val_loss: 0.6476 - val_accuracy: 0.6042 - val_precision: 0.8307 - val_recall: 0.4499\n",
            "Epoch 16/40\n",
            "190/190 [==============================] - 3s 16ms/step - loss: 1.9737 - accuracy: 0.5518 - precision: 0.7903 - recall: 0.4085 - val_loss: 0.6571 - val_accuracy: 0.5813 - val_precision: 0.8373 - val_recall: 0.3983\n",
            "Epoch 17/40\n",
            "190/190 [==============================] - 3s 16ms/step - loss: 1.9674 - accuracy: 0.5574 - precision: 0.8114 - recall: 0.4024 - val_loss: 0.6538 - val_accuracy: 0.5936 - val_precision: 0.8480 - val_recall: 0.4155\n",
            "Epoch 18/40\n",
            "190/190 [==============================] - 3s 15ms/step - loss: 1.9463 - accuracy: 0.5640 - precision: 0.8041 - recall: 0.4219 - val_loss: 0.6425 - val_accuracy: 0.6042 - val_precision: 0.8571 - val_recall: 0.4298\n",
            "Epoch 19/40\n",
            "190/190 [==============================] - 3s 16ms/step - loss: 1.9563 - accuracy: 0.5614 - precision: 0.8032 - recall: 0.4173 - val_loss: 0.6487 - val_accuracy: 0.6060 - val_precision: 0.8621 - val_recall: 0.4298\n",
            "Epoch 20/40\n",
            "190/190 [==============================] - 3s 17ms/step - loss: 1.9204 - accuracy: 0.5670 - precision: 0.8119 - recall: 0.4214 - val_loss: 0.6408 - val_accuracy: 0.6025 - val_precision: 0.8370 - val_recall: 0.4413\n",
            "Epoch 21/40\n",
            "190/190 [==============================] - 3s 16ms/step - loss: 1.9174 - accuracy: 0.5689 - precision: 0.8206 - recall: 0.4183 - val_loss: 0.6352 - val_accuracy: 0.5989 - val_precision: 0.8466 - val_recall: 0.4269\n",
            "Epoch 22/40\n",
            "190/190 [==============================] - 3s 16ms/step - loss: 1.8961 - accuracy: 0.5870 - precision: 0.8161 - recall: 0.4584 - val_loss: 0.6210 - val_accuracy: 0.6360 - val_precision: 0.8178 - val_recall: 0.5272\n",
            "Epoch 23/40\n",
            "190/190 [==============================] - 3s 16ms/step - loss: 1.9036 - accuracy: 0.5851 - precision: 0.8174 - recall: 0.4532 - val_loss: 0.6264 - val_accuracy: 0.6201 - val_precision: 0.8350 - val_recall: 0.4785\n",
            "Epoch 24/40\n",
            "190/190 [==============================] - 3s 16ms/step - loss: 1.9190 - accuracy: 0.5775 - precision: 0.8189 - recall: 0.4368 - val_loss: 0.6132 - val_accuracy: 0.6396 - val_precision: 0.8194 - val_recall: 0.5330\n",
            "Epoch 25/40\n",
            "190/190 [==============================] - 3s 16ms/step - loss: 1.8751 - accuracy: 0.5851 - precision: 0.8265 - recall: 0.4455 - val_loss: 0.6158 - val_accuracy: 0.6237 - val_precision: 0.8400 - val_recall: 0.4814\n",
            "Epoch 26/40\n",
            "190/190 [==============================] - 3s 17ms/step - loss: 1.8780 - accuracy: 0.5877 - precision: 0.8341 - recall: 0.4445 - val_loss: 0.6042 - val_accuracy: 0.6537 - val_precision: 0.8097 - val_recall: 0.5731\n",
            "Epoch 27/40\n",
            "190/190 [==============================] - 3s 16ms/step - loss: 1.8679 - accuracy: 0.5989 - precision: 0.8350 - recall: 0.4656 - val_loss: 0.6199 - val_accuracy: 0.6148 - val_precision: 0.8619 - val_recall: 0.4470\n",
            "Epoch 28/40\n",
            "190/190 [==============================] - 3s 16ms/step - loss: 1.8617 - accuracy: 0.5893 - precision: 0.8311 - recall: 0.4502 - val_loss: 0.6052 - val_accuracy: 0.6378 - val_precision: 0.8462 - val_recall: 0.5043\n",
            "Epoch 29/40\n",
            "190/190 [==============================] - 3s 16ms/step - loss: 1.8369 - accuracy: 0.6061 - precision: 0.8458 - recall: 0.4707 - val_loss: 0.5981 - val_accuracy: 0.6343 - val_precision: 0.7910 - val_recall: 0.5530\n",
            "Epoch 30/40\n",
            "190/190 [==============================] - 3s 16ms/step - loss: 1.8377 - accuracy: 0.6005 - precision: 0.8285 - recall: 0.4743 - val_loss: 0.6035 - val_accuracy: 0.6325 - val_precision: 0.8079 - val_recall: 0.5301\n",
            "Epoch 31/40\n",
            "190/190 [==============================] - 3s 16ms/step - loss: 1.8488 - accuracy: 0.6134 - precision: 0.8373 - recall: 0.4918 - val_loss: 0.6127 - val_accuracy: 0.6343 - val_precision: 0.8318 - val_recall: 0.5100\n",
            "Epoch 32/40\n",
            "190/190 [==============================] - 3s 16ms/step - loss: 1.8145 - accuracy: 0.6137 - precision: 0.8496 - recall: 0.4820 - val_loss: 0.5915 - val_accuracy: 0.6608 - val_precision: 0.8153 - val_recall: 0.5817\n",
            "Epoch 33/40\n",
            "190/190 [==============================] - 3s 16ms/step - loss: 1.8307 - accuracy: 0.6045 - precision: 0.8363 - recall: 0.4753 - val_loss: 0.5835 - val_accuracy: 0.6820 - val_precision: 0.8314 - val_recall: 0.6074\n",
            "Epoch 34/40\n",
            "190/190 [==============================] - 3s 16ms/step - loss: 1.8056 - accuracy: 0.6265 - precision: 0.8463 - recall: 0.5092 - val_loss: 0.5959 - val_accuracy: 0.6749 - val_precision: 0.8837 - val_recall: 0.5444\n",
            "Epoch 35/40\n",
            "190/190 [==============================] - 3s 17ms/step - loss: 1.8116 - accuracy: 0.6097 - precision: 0.8486 - recall: 0.4753 - val_loss: 0.6029 - val_accuracy: 0.6290 - val_precision: 0.8294 - val_recall: 0.5014\n",
            "Epoch 36/40\n",
            "190/190 [==============================] - 3s 16ms/step - loss: 1.7992 - accuracy: 0.6170 - precision: 0.8412 - recall: 0.4954 - val_loss: 0.5780 - val_accuracy: 0.6714 - val_precision: 0.8354 - val_recall: 0.5817\n",
            "Epoch 37/40\n",
            "190/190 [==============================] - 3s 16ms/step - loss: 1.8124 - accuracy: 0.6190 - precision: 0.8456 - recall: 0.4954 - val_loss: 0.6096 - val_accuracy: 0.6343 - val_precision: 0.8737 - val_recall: 0.4756\n",
            "Epoch 38/40\n",
            "190/190 [==============================] - 3s 17ms/step - loss: 1.7752 - accuracy: 0.6295 - precision: 0.8528 - recall: 0.5092 - val_loss: 0.5904 - val_accuracy: 0.6625 - val_precision: 0.8376 - val_recall: 0.5616\n",
            "Epoch 39/40\n",
            "190/190 [==============================] - 3s 17ms/step - loss: 1.7992 - accuracy: 0.6282 - precision: 0.8604 - recall: 0.5005 - val_loss: 0.5922 - val_accuracy: 0.6502 - val_precision: 0.8578 - val_recall: 0.5186\n",
            "Epoch 40/40\n",
            "190/190 [==============================] - 3s 16ms/step - loss: 1.7833 - accuracy: 0.6354 - precision: 0.8539 - recall: 0.5195 - val_loss: 0.5890 - val_accuracy: 0.6519 - val_precision: 0.8304 - val_recall: 0.5473\n"
          ]
        }
      ]
    },
    {
      "cell_type": "code",
      "source": [
        "acc_first_train = history.history[\"accuracy\"]\n",
        "acc_first_val = history.history[\"val_accuracy\"]"
      ],
      "metadata": {
        "id": "EWQTWtDAYCo5"
      },
      "execution_count": 19,
      "outputs": []
    },
    {
      "cell_type": "markdown",
      "source": [
        "Further train the model by decreasing the learning rate to 1e-5 and decreasing the weights for the weighted binary cross entropy function"
      ],
      "metadata": {
        "id": "9bgDbQ2NYH4F"
      }
    },
    {
      "cell_type": "code",
      "source": [
        "opt = Adam(learning_rate=1e-5, beta_1 = 0.9, beta_2 = 0.999) # decrease the learning rate and run for 20 more epochs\n",
        "history = final_model.fit(train_data, train_labels, epochs=40, batch_size=16, class_weight={0:3.5, 1:2}, validation_data=(val_data, val_labels))"
      ],
      "metadata": {
        "colab": {
          "base_uri": "https://localhost:8080/"
        },
        "id": "EkyrLH4xYG7J",
        "outputId": "6ff5acc3-c81f-46c4-de81-1e4462c03997"
      },
      "execution_count": 20,
      "outputs": [
        {
          "output_type": "stream",
          "name": "stdout",
          "text": [
            "Epoch 1/40\n",
            "190/190 [==============================] - 4s 17ms/step - loss: 1.5149 - accuracy: 0.6611 - precision: 0.8095 - recall: 0.6156 - val_loss: 0.5645 - val_accuracy: 0.6855 - val_precision: 0.7879 - val_recall: 0.6705\n",
            "Epoch 2/40\n",
            "190/190 [==============================] - 3s 16ms/step - loss: 1.4911 - accuracy: 0.6788 - precision: 0.8178 - recall: 0.6413 - val_loss: 0.5611 - val_accuracy: 0.6767 - val_precision: 0.7986 - val_recall: 0.6361\n",
            "Epoch 3/40\n",
            "190/190 [==============================] - 3s 16ms/step - loss: 1.4896 - accuracy: 0.6765 - precision: 0.8125 - recall: 0.6434 - val_loss: 0.5672 - val_accuracy: 0.6767 - val_precision: 0.7902 - val_recall: 0.6476\n",
            "Epoch 4/40\n",
            "190/190 [==============================] - 3s 16ms/step - loss: 1.4704 - accuracy: 0.6834 - precision: 0.8237 - recall: 0.6434 - val_loss: 0.5592 - val_accuracy: 0.7014 - val_precision: 0.7103 - val_recall: 0.8711\n",
            "Epoch 5/40\n",
            "190/190 [==============================] - 3s 16ms/step - loss: 1.4908 - accuracy: 0.6788 - precision: 0.8035 - recall: 0.6598 - val_loss: 0.5484 - val_accuracy: 0.7138 - val_precision: 0.7968 - val_recall: 0.7192\n",
            "Epoch 6/40\n",
            "190/190 [==============================] - 3s 16ms/step - loss: 1.4777 - accuracy: 0.6884 - precision: 0.8212 - recall: 0.6562 - val_loss: 0.5548 - val_accuracy: 0.6979 - val_precision: 0.7928 - val_recall: 0.6905\n",
            "Epoch 7/40\n",
            "190/190 [==============================] - 3s 16ms/step - loss: 1.4916 - accuracy: 0.6739 - precision: 0.8127 - recall: 0.6377 - val_loss: 0.5621 - val_accuracy: 0.6749 - val_precision: 0.8313 - val_recall: 0.5931\n",
            "Epoch 8/40\n",
            "190/190 [==============================] - 3s 16ms/step - loss: 1.4955 - accuracy: 0.6785 - precision: 0.8108 - recall: 0.6495 - val_loss: 0.5677 - val_accuracy: 0.6696 - val_precision: 0.7935 - val_recall: 0.6275\n",
            "Epoch 9/40\n",
            "190/190 [==============================] - 3s 16ms/step - loss: 1.5041 - accuracy: 0.6677 - precision: 0.8083 - recall: 0.6305 - val_loss: 0.5518 - val_accuracy: 0.6926 - val_precision: 0.7966 - val_recall: 0.6734\n",
            "Epoch 10/40\n",
            "190/190 [==============================] - 3s 16ms/step - loss: 1.4649 - accuracy: 0.6897 - precision: 0.8188 - recall: 0.6619 - val_loss: 0.5451 - val_accuracy: 0.6961 - val_precision: 0.7846 - val_recall: 0.6991\n",
            "Epoch 11/40\n",
            "190/190 [==============================] - 3s 18ms/step - loss: 1.4846 - accuracy: 0.6742 - precision: 0.8191 - recall: 0.6305 - val_loss: 0.5469 - val_accuracy: 0.6802 - val_precision: 0.7642 - val_recall: 0.6963\n",
            "Epoch 12/40\n",
            "190/190 [==============================] - 3s 16ms/step - loss: 1.4769 - accuracy: 0.6828 - precision: 0.8176 - recall: 0.6495 - val_loss: 0.5475 - val_accuracy: 0.6926 - val_precision: 0.7907 - val_recall: 0.6819\n",
            "Epoch 13/40\n",
            "190/190 [==============================] - 3s 16ms/step - loss: 1.4692 - accuracy: 0.6834 - precision: 0.8142 - recall: 0.6552 - val_loss: 0.5608 - val_accuracy: 0.6696 - val_precision: 0.8068 - val_recall: 0.6103\n",
            "Epoch 14/40\n",
            "190/190 [==============================] - 3s 16ms/step - loss: 1.4450 - accuracy: 0.6992 - precision: 0.8308 - recall: 0.6660 - val_loss: 0.5412 - val_accuracy: 0.6961 - val_precision: 0.7864 - val_recall: 0.6963\n",
            "Epoch 15/40\n",
            "190/190 [==============================] - 3s 16ms/step - loss: 1.4606 - accuracy: 0.6871 - precision: 0.8183 - recall: 0.6572 - val_loss: 0.5433 - val_accuracy: 0.7085 - val_precision: 0.7788 - val_recall: 0.7364\n",
            "Epoch 16/40\n",
            "190/190 [==============================] - 3s 16ms/step - loss: 1.4460 - accuracy: 0.6973 - precision: 0.8218 - recall: 0.6732 - val_loss: 0.5485 - val_accuracy: 0.7032 - val_precision: 0.8068 - val_recall: 0.6819\n",
            "Epoch 17/40\n",
            "190/190 [==============================] - 3s 16ms/step - loss: 1.4394 - accuracy: 0.6979 - precision: 0.8146 - recall: 0.6840 - val_loss: 0.5649 - val_accuracy: 0.6678 - val_precision: 0.8182 - val_recall: 0.5931\n",
            "Epoch 18/40\n",
            "190/190 [==============================] - 3s 16ms/step - loss: 1.4456 - accuracy: 0.6979 - precision: 0.8351 - recall: 0.6583 - val_loss: 0.5338 - val_accuracy: 0.7155 - val_precision: 0.7749 - val_recall: 0.7593\n",
            "Epoch 19/40\n",
            "190/190 [==============================] - 3s 16ms/step - loss: 1.4364 - accuracy: 0.7009 - precision: 0.8326 - recall: 0.6670 - val_loss: 0.5368 - val_accuracy: 0.7208 - val_precision: 0.7817 - val_recall: 0.7593\n",
            "Epoch 20/40\n",
            "190/190 [==============================] - 3s 17ms/step - loss: 1.4474 - accuracy: 0.6828 - precision: 0.8143 - recall: 0.6536 - val_loss: 0.5280 - val_accuracy: 0.7332 - val_precision: 0.7765 - val_recall: 0.7966\n",
            "Epoch 21/40\n",
            "190/190 [==============================] - 3s 16ms/step - loss: 1.4459 - accuracy: 0.6904 - precision: 0.8236 - recall: 0.6572 - val_loss: 0.5375 - val_accuracy: 0.7297 - val_precision: 0.7707 - val_recall: 0.7994\n",
            "Epoch 22/40\n",
            "190/190 [==============================] - 3s 16ms/step - loss: 1.4308 - accuracy: 0.7065 - precision: 0.8249 - recall: 0.6876 - val_loss: 0.5547 - val_accuracy: 0.6908 - val_precision: 0.8129 - val_recall: 0.6476\n",
            "Epoch 23/40\n",
            "190/190 [==============================] - 3s 16ms/step - loss: 1.4416 - accuracy: 0.6976 - precision: 0.8269 - recall: 0.6675 - val_loss: 0.5295 - val_accuracy: 0.7226 - val_precision: 0.7892 - val_recall: 0.7507\n",
            "Epoch 24/40\n",
            "190/190 [==============================] - 3s 16ms/step - loss: 1.4269 - accuracy: 0.6979 - precision: 0.8299 - recall: 0.6644 - val_loss: 0.5399 - val_accuracy: 0.7032 - val_precision: 0.7855 - val_recall: 0.7135\n",
            "Epoch 25/40\n",
            "190/190 [==============================] - 3s 16ms/step - loss: 1.4455 - accuracy: 0.6986 - precision: 0.8327 - recall: 0.6624 - val_loss: 0.5245 - val_accuracy: 0.7279 - val_precision: 0.7928 - val_recall: 0.7564\n",
            "Epoch 26/40\n",
            "190/190 [==============================] - 3s 16ms/step - loss: 1.4120 - accuracy: 0.7094 - precision: 0.8271 - recall: 0.6906 - val_loss: 0.5470 - val_accuracy: 0.6855 - val_precision: 0.8043 - val_recall: 0.6476\n",
            "Epoch 27/40\n",
            "190/190 [==============================] - 3s 16ms/step - loss: 1.4059 - accuracy: 0.7078 - precision: 0.8391 - recall: 0.6727 - val_loss: 0.5349 - val_accuracy: 0.7085 - val_precision: 0.7949 - val_recall: 0.7106\n",
            "Epoch 28/40\n",
            "190/190 [==============================] - 3s 16ms/step - loss: 1.4008 - accuracy: 0.7078 - precision: 0.8352 - recall: 0.6773 - val_loss: 0.5328 - val_accuracy: 0.7208 - val_precision: 0.7903 - val_recall: 0.7450\n",
            "Epoch 29/40\n",
            "190/190 [==============================] - 3s 16ms/step - loss: 1.4248 - accuracy: 0.6930 - precision: 0.8245 - recall: 0.6614 - val_loss: 0.5459 - val_accuracy: 0.7067 - val_precision: 0.8081 - val_recall: 0.6877\n",
            "Epoch 30/40\n",
            "190/190 [==============================] - 3s 16ms/step - loss: 1.4248 - accuracy: 0.6930 - precision: 0.8228 - recall: 0.6634 - val_loss: 0.5399 - val_accuracy: 0.6926 - val_precision: 0.7869 - val_recall: 0.6877\n",
            "Epoch 31/40\n",
            "190/190 [==============================] - 3s 16ms/step - loss: 1.3963 - accuracy: 0.7131 - precision: 0.8377 - recall: 0.6845 - val_loss: 0.5334 - val_accuracy: 0.7085 - val_precision: 0.7857 - val_recall: 0.7249\n",
            "Epoch 32/40\n",
            "190/190 [==============================] - 3s 16ms/step - loss: 1.3925 - accuracy: 0.7144 - precision: 0.8455 - recall: 0.6778 - val_loss: 0.5292 - val_accuracy: 0.7085 - val_precision: 0.7987 - val_recall: 0.7049\n",
            "Epoch 33/40\n",
            "190/190 [==============================] - 3s 16ms/step - loss: 1.3941 - accuracy: 0.7134 - precision: 0.8417 - recall: 0.6804 - val_loss: 0.5369 - val_accuracy: 0.7049 - val_precision: 0.7917 - val_recall: 0.7077\n",
            "Epoch 34/40\n",
            "190/190 [==============================] - 3s 16ms/step - loss: 1.3847 - accuracy: 0.7173 - precision: 0.8433 - recall: 0.6860 - val_loss: 0.5416 - val_accuracy: 0.7032 - val_precision: 0.7855 - val_recall: 0.7135\n",
            "Epoch 35/40\n",
            "190/190 [==============================] - 3s 16ms/step - loss: 1.3929 - accuracy: 0.7170 - precision: 0.8373 - recall: 0.6927 - val_loss: 0.5491 - val_accuracy: 0.6767 - val_precision: 0.8168 - val_recall: 0.6132\n",
            "Epoch 36/40\n",
            "190/190 [==============================] - 3s 16ms/step - loss: 1.4183 - accuracy: 0.6986 - precision: 0.8366 - recall: 0.6578 - val_loss: 0.5410 - val_accuracy: 0.6908 - val_precision: 0.7788 - val_recall: 0.6963\n",
            "Epoch 37/40\n",
            "190/190 [==============================] - 3s 16ms/step - loss: 1.3859 - accuracy: 0.7121 - precision: 0.8353 - recall: 0.6855 - val_loss: 0.5369 - val_accuracy: 0.7085 - val_precision: 0.7875 - val_recall: 0.7221\n",
            "Epoch 38/40\n",
            "190/190 [==============================] - 3s 16ms/step - loss: 1.3770 - accuracy: 0.7150 - precision: 0.8426 - recall: 0.6824 - val_loss: 0.5313 - val_accuracy: 0.6979 - val_precision: 0.8007 - val_recall: 0.6791\n",
            "Epoch 39/40\n",
            "190/190 [==============================] - 3s 16ms/step - loss: 1.3701 - accuracy: 0.7081 - precision: 0.8383 - recall: 0.6742 - val_loss: 0.5304 - val_accuracy: 0.7173 - val_precision: 0.7962 - val_recall: 0.7278\n",
            "Epoch 40/40\n",
            "190/190 [==============================] - 3s 17ms/step - loss: 1.3887 - accuracy: 0.7141 - precision: 0.8415 - recall: 0.6819 - val_loss: 0.5397 - val_accuracy: 0.6996 - val_precision: 0.8055 - val_recall: 0.6762\n"
          ]
        }
      ]
    },
    {
      "cell_type": "code",
      "source": [
        "acc_second_train = history.history[\"accuracy\"]\n",
        "acc_second_val = history.history[\"val_accuracy\"]"
      ],
      "metadata": {
        "id": "LQ86IvApYcQz"
      },
      "execution_count": 21,
      "outputs": []
    },
    {
      "cell_type": "code",
      "source": [
        "opt = Adam(learning_rate=5e-6, beta_1 = 0.9, beta_2 = 0.999) # decrease the learning rate and run for 20 more epochs\n",
        "history = final_model.fit(train_data, train_labels, epochs=10, batch_size=16, class_weight={0:3.5, 1:2}, validation_data=(val_data, val_labels))"
      ],
      "metadata": {
        "colab": {
          "base_uri": "https://localhost:8080/"
        },
        "id": "LB8jTnHWXt3H",
        "outputId": "6fd12cb2-9da5-4696-8b6e-cd4594ebcd31"
      },
      "execution_count": 22,
      "outputs": [
        {
          "output_type": "stream",
          "name": "stdout",
          "text": [
            "Epoch 1/10\n",
            "190/190 [==============================] - 3s 17ms/step - loss: 1.3790 - accuracy: 0.7150 - precision: 0.8413 - recall: 0.6840 - val_loss: 0.5549 - val_accuracy: 0.6802 - val_precision: 0.8231 - val_recall: 0.6132\n",
            "Epoch 2/10\n",
            "190/190 [==============================] - 3s 17ms/step - loss: 1.3576 - accuracy: 0.7259 - precision: 0.8429 - recall: 0.7030 - val_loss: 0.5459 - val_accuracy: 0.6890 - val_precision: 0.7912 - val_recall: 0.6734\n",
            "Epoch 3/10\n",
            "190/190 [==============================] - 3s 16ms/step - loss: 1.3287 - accuracy: 0.7272 - precision: 0.8502 - recall: 0.6968 - val_loss: 0.5297 - val_accuracy: 0.7155 - val_precision: 0.7655 - val_recall: 0.7765\n",
            "Epoch 4/10\n",
            "190/190 [==============================] - 3s 17ms/step - loss: 1.3861 - accuracy: 0.7170 - precision: 0.8303 - recall: 0.7014 - val_loss: 0.5581 - val_accuracy: 0.6802 - val_precision: 0.8387 - val_recall: 0.5960\n",
            "Epoch 5/10\n",
            "190/190 [==============================] - 3s 17ms/step - loss: 1.3398 - accuracy: 0.7292 - precision: 0.8455 - recall: 0.7061 - val_loss: 0.5352 - val_accuracy: 0.7226 - val_precision: 0.7824 - val_recall: 0.7622\n",
            "Epoch 6/10\n",
            "190/190 [==============================] - 3s 16ms/step - loss: 1.3590 - accuracy: 0.7206 - precision: 0.8509 - recall: 0.6835 - val_loss: 0.5385 - val_accuracy: 0.6908 - val_precision: 0.7959 - val_recall: 0.6705\n",
            "Epoch 7/10\n",
            "190/190 [==============================] - 3s 17ms/step - loss: 1.3383 - accuracy: 0.7262 - precision: 0.8530 - recall: 0.6917 - val_loss: 0.5402 - val_accuracy: 0.7032 - val_precision: 0.7785 - val_recall: 0.7249\n",
            "Epoch 8/10\n",
            "190/190 [==============================] - 3s 16ms/step - loss: 1.3456 - accuracy: 0.7233 - precision: 0.8460 - recall: 0.6942 - val_loss: 0.5515 - val_accuracy: 0.6661 - val_precision: 0.8125 - val_recall: 0.5960\n",
            "Epoch 9/10\n",
            "190/190 [==============================] - 3s 17ms/step - loss: 1.3304 - accuracy: 0.7292 - precision: 0.8494 - recall: 0.7014 - val_loss: 0.5394 - val_accuracy: 0.7173 - val_precision: 0.7589 - val_recall: 0.7937\n",
            "Epoch 10/10\n",
            "190/190 [==============================] - 3s 16ms/step - loss: 1.3681 - accuracy: 0.7157 - precision: 0.8335 - recall: 0.6948 - val_loss: 0.5393 - val_accuracy: 0.7067 - val_precision: 0.7764 - val_recall: 0.7364\n"
          ]
        }
      ]
    },
    {
      "cell_type": "code",
      "source": [
        "acc_third_train = history.history[\"accuracy\"]\n",
        "acc_third_val = history.history[\"val_accuracy\"]"
      ],
      "metadata": {
        "id": "QXstKmgQXw0E"
      },
      "execution_count": 23,
      "outputs": []
    },
    {
      "cell_type": "markdown",
      "source": [
        "Let's look at the accuracy and F1 score for when the chunks in the test set is seen as individuals. Observe that the test set accuracy here is much lower after we have processed the chunks together to indicate whether one patient has pathological voice or not"
      ],
      "metadata": {
        "id": "cn07OnICYe9I"
      }
    },
    {
      "cell_type": "code",
      "source": [
        "test_loss, test_acc, test_prec, test_recall = final_model.evaluate(test_data, test_labels)\n",
        "print('acc:', test_acc)\n",
        "print('recall:', test_recall)\n",
        "print('precision:', test_prec)\n"
      ],
      "metadata": {
        "colab": {
          "base_uri": "https://localhost:8080/"
        },
        "id": "Guf06qRdYdNd",
        "outputId": "1f4a0948-c375-43b6-cfa8-368ce4a71f28"
      },
      "execution_count": 24,
      "outputs": [
        {
          "output_type": "stream",
          "name": "stdout",
          "text": [
            "17/17 [==============================] - 0s 16ms/step - loss: 0.4621 - accuracy: 0.7948 - precision: 0.8307 - recall: 0.8722\n",
            "acc: 0.7947761416435242\n",
            "recall: 0.8722222447395325\n",
            "precision: 0.8306878209114075\n"
          ]
        }
      ]
    },
    {
      "cell_type": "code",
      "source": [
        "import matplotlib.pyplot as plt\n",
        "\n",
        "f = plt.figure(figsize=(10,6))\n",
        "acc_train = acc_first_train + acc_second_train + acc_third_train\n",
        "acc_val = acc_first_val + acc_second_val + acc_third_val\n",
        "plt.plot(acc_train, label=\"train accuracy\")\n",
        "plt.plot(acc_val, label=\"val accuracy\")\n",
        "plt.xlabel('epoch', fontsize=14)\n",
        "plt.ylabel('accuracy', fontsize=14)\n",
        "plt.title('accuracy history', fontsize=14)\n",
        "plt.legend(fontsize='large')\n",
        "\n",
        "f.savefig('accuracy_history.pdf', bbox_inches='tight')"
      ],
      "metadata": {
        "colab": {
          "base_uri": "https://localhost:8080/",
          "height": 409
        },
        "id": "D8TPuSUBYwRs",
        "outputId": "1a66a57f-afe5-41e2-d3cd-0411d3a6630a"
      },
      "execution_count": 25,
      "outputs": [
        {
          "output_type": "display_data",
          "data": {
            "text/plain": [
              "<Figure size 720x432 with 1 Axes>"
            ],
            "image/png": "[encoded data removed]"
          },
          "metadata": {
            "needs_background": "light"
          }
        }
      ]
    },
    {
      "cell_type": "markdown",
      "source": [
        "Process the chunks together so that they indicate if one person is pathological or not. Do it also for the validaiton dataset so that we have 2 differnet results. Observe that the code given below is quite bad and unnecesarily complicated. However, since we did not have enough time left on the project, we could not make it more efficient. "
      ],
      "metadata": {
        "id": "dDtyxFpPY_4s"
      }
    },
    {
      "cell_type": "code",
      "source": [
        "amount = {}\n",
        "prediction_dict = {}\n",
        "keys = []\n",
        "\n",
        "for test_data in test_data_dict:\n",
        "    patient = test_data['patient']\n",
        "    spectogram = test_data['spectogram']\n",
        "    spectogram = np.expand_dims(spectogram, axis = 0)\n",
        "    prediction = final_model.predict(spectogram)\n",
        "    prediction = np.round(prediction[0])\n",
        "    if patient not in prediction_dict:\n",
        "        prediction_dict[patient] = prediction[0]\n",
        "        amount[patient] = 1\n",
        "        keys.append(patient)\n",
        "    else:     \n",
        "        prediction_dict[patient] = prediction_dict[patient] + prediction[0]\n",
        "        amount[patient] = amount[patient] + 1\n"
      ],
      "metadata": {
        "id": "xE_qtP2kY8z4"
      },
      "execution_count": 26,
      "outputs": []
    },
    {
      "cell_type": "code",
      "source": [
        "amount_val = {}\n",
        "prediction_dict_val = {}\n",
        "keys_val = []\n",
        "\n",
        "for val_data in val_data_dict:\n",
        "    patient = val_data['patient']\n",
        "    spectogram = val_data['spectogram']\n",
        "    spectogram = np.expand_dims(spectogram, axis = 0)\n",
        "    prediction = final_model.predict(spectogram)\n",
        "    prediction = np.round(prediction[0])\n",
        "    if patient not in prediction_dict_val:\n",
        "        prediction_dict_val[patient] = prediction[0]\n",
        "        amount_val[patient] = 1\n",
        "        keys_val.append(patient)\n",
        "    else:     \n",
        "        prediction_dict_val[patient] = prediction_dict_val[patient] + prediction[0]\n",
        "        amount_val[patient] = amount_val[patient] + 1\n"
      ],
      "metadata": {
        "id": "TztmBuW4ZQqE"
      },
      "execution_count": 27,
      "outputs": []
    },
    {
      "cell_type": "code",
      "source": [
        "predicted_values = {}\n",
        "for patient in amount:\n",
        "    mean = prediction_dict[patient]/amount[patient]\n",
        "    if mean > 0.5:\n",
        "        predicted_values[patient] = 1\n",
        "    else: \n",
        "        predicted_values[patient] = 0"
      ],
      "metadata": {
        "id": "TBZO2IhNZeqo"
      },
      "execution_count": 28,
      "outputs": []
    },
    {
      "cell_type": "code",
      "source": [
        "predicted_values_val = {}\n",
        "for patient in amount_val:\n",
        "    mean = prediction_dict_val[patient]/amount_val[patient]\n",
        "    if mean > 0.5:\n",
        "        predicted_values_val[patient] = 1\n",
        "    else: \n",
        "        predicted_values_val[patient] = 0"
      ],
      "metadata": {
        "id": "gYBv-oAnZgCJ"
      },
      "execution_count": 29,
      "outputs": []
    },
    {
      "cell_type": "code",
      "source": [
        "print(predicted_values)\n",
        "print(predicted_values_val)"
      ],
      "metadata": {
        "colab": {
          "base_uri": "https://localhost:8080/"
        },
        "id": "73M59GthZlYe",
        "outputId": "04f84756-0026-482b-9fcf-9c2b6a5b03ba"
      },
      "execution_count": 30,
      "outputs": [
        {
          "output_type": "stream",
          "name": "stdout",
          "text": [
            "{'PT033ENSS': 1, 'PT076_ENSS': 1, 'LA9019_ENSS': 0, 'PT109_ENSS': 0, 'NYU1007_ENSS': 0, 'LA9027_ENSS': 0, 'NYU1025_ENSS': 1, 'LA9004_ENSS': 1, 'PT054_ENSS': 1, 'SJ5004ENSS': 0, 'PT014ENSS': 1, 'PT032ENSS': 1, 'PT121_ENSS': 1, 'SJ2016_ENSS': 1, 'PT113_ENSS': 0, 'BL10_ENSS': 0, 'PT118_ENSS': 1, 'LA9015_ENSS': 0, 'BL06_ENSS': 1, 'PT017ENSS': 1, 'PT094_ENSS': 1, 'PT122_ENSS': 1, 'PT123_ENSS': 1, 'PT087_ENSS': 1, 'PT024ENSS': 0, 'NYU1018_ENSS': 0, 'BL08_ENSS': 0, 'LA7008_ENSS': 1, 'PT100_ENSS': 1, 'PT072_ENSS': 1, 'PT018ENSS': 1, 'PT046_ENSS': 1, 'Sj30003_E_NSS': 0, 'PT010ENSS': 1, 'SJ4002_eNSS': 0, 'PT080_ENSS': 1, 'NYU1020_ENSS': 0}\n",
            "{'LA9012_ENSS': 0, 'PT102_ENSS': 0, 'PT098_ENSS': 0, 'PT136_ENSS': 1, 'PT093_ENSS': 1, 'PT015ENSS': 1, 'SJ7001_ENSS': 0, 'Sj4007_eNSS': 0, 'LA9002_ENSS': 1, 'SJ5006ENSS': 1, 'Sj6004_ENSS': 0, 'LA8001_ENSS': 0, 'SJ2011_ENSS': 0, 'PT067_ENSS': 0, 'SJ4001_eNSS': 0, 'LA9014_ENSS': 0, 'PT104_ENSS': 1, 'PT038_ENSS': 1, 'SJ5002ENSS': 0, 'PT012ENSS': 1, 'LA1001ENSS': 0, 'Sj4005_eNSS': 1, 'Sj4004_eNSS': 0, 'PT129_ENSS': 0, 'LA9007_ENSS': 1, 'Sj6001_ENSS': 0, 'PT074_ENSS': 1, 'SJ2003_ENSS': 0, 'PT009_ENSS': 1, 'PT008_ENSS': 1, 'PT005_ENSS': 0, 'NYU1002_ENSS': 1, 'Sj5001ENSS': 1, 'PT047_ENSS': 1, 'LA1003ENSS': 1, 'BL13_ENSS': 1, 'SJ2012_ENSS': 1, 'PT050_ENSS': 1, 'PT051_ENSS': 1, 'PT111_ENSS': 1}\n"
          ]
        }
      ]
    },
    {
      "cell_type": "code",
      "source": [
        "path_to_protocol51 = '/content/drive/MyDrive/CS230_Code_Data/Dataset/pandas_audio_labels.pkl'\n",
        "\n",
        "with open(path_to_protocol51, \"rb\") as fh:\n",
        "  stanford = p.load(fh)"
      ],
      "metadata": {
        "id": "y1ZJ3DN-ZnWV"
      },
      "execution_count": 31,
      "outputs": []
    },
    {
      "cell_type": "code",
      "source": [
        "def find_status(Condition):\n",
        "    \"\"\"Extract the status of the patient\n",
        "    0: Normal\n",
        "    1: Pathological\"\"\"\n",
        "    Condition = str(Condition)\n",
        "    if (Condition == \"Normal\"):\n",
        "        return 0\n",
        "    else:\n",
        "        return 1"
      ],
      "metadata": {
        "id": "HCqsfpYnZoYN"
      },
      "execution_count": 32,
      "outputs": []
    },
    {
      "cell_type": "code",
      "source": [
        "def find_gt_labels(gt_labels, pandas_data, keys): \n",
        "    for index, rows in pandas_data.iterrows():\n",
        "        if rows.File_Name in keys:\n",
        "            status = find_status(rows.GRBAS_Category)\n",
        "            gt_labels[rows.File_Name] = status\n",
        "    return gt_labels"
      ],
      "metadata": {
        "id": "5Xfz-WfeZpcX"
      },
      "execution_count": 33,
      "outputs": []
    },
    {
      "cell_type": "code",
      "source": [
        "gt_labels = {}\n",
        "gt_labels = find_gt_labels(gt_labels, stanford, keys)\n",
        "\n",
        "gt_labels_val = {}\n",
        "gt_labels_val = find_gt_labels(gt_labels_val, stanford, keys_val)"
      ],
      "metadata": {
        "id": "b6UDDAM7ZqRc"
      },
      "execution_count": 34,
      "outputs": []
    },
    {
      "cell_type": "code",
      "source": [
        "print(gt_labels)\n",
        "print(predicted_values)\n",
        "\n",
        "print(gt_labels_val)\n",
        "print(predicted_values_val)"
      ],
      "metadata": {
        "colab": {
          "base_uri": "https://localhost:8080/"
        },
        "id": "bO9ngLq0ZuXb",
        "outputId": "d64bdcd0-5d61-4a11-f32d-7b3977a32798"
      },
      "execution_count": 35,
      "outputs": [
        {
          "output_type": "stream",
          "name": "stdout",
          "text": [
            "{'PT033ENSS': 0, 'PT076_ENSS': 1, 'LA9019_ENSS': 0, 'PT109_ENSS': 0, 'NYU1007_ENSS': 0, 'LA9027_ENSS': 1, 'NYU1025_ENSS': 1, 'LA9004_ENSS': 1, 'PT054_ENSS': 1, 'SJ5004ENSS': 0, 'PT014ENSS': 1, 'PT032ENSS': 1, 'PT121_ENSS': 1, 'SJ2016_ENSS': 1, 'PT113_ENSS': 0, 'BL10_ENSS': 0, 'PT118_ENSS': 1, 'LA9015_ENSS': 0, 'BL06_ENSS': 1, 'PT017ENSS': 1, 'PT094_ENSS': 1, 'PT122_ENSS': 1, 'PT123_ENSS': 1, 'PT087_ENSS': 1, 'PT024ENSS': 0, 'NYU1018_ENSS': 1, 'BL08_ENSS': 0, 'LA7008_ENSS': 1, 'PT100_ENSS': 1, 'PT072_ENSS': 1, 'PT018ENSS': 1, 'PT046_ENSS': 1, 'Sj30003_E_NSS': 1, 'PT010ENSS': 0, 'SJ4002_eNSS': 0, 'PT080_ENSS': 1, 'NYU1020_ENSS': 0}\n",
            "{'PT033ENSS': 1, 'PT076_ENSS': 1, 'LA9019_ENSS': 0, 'PT109_ENSS': 0, 'NYU1007_ENSS': 0, 'LA9027_ENSS': 0, 'NYU1025_ENSS': 1, 'LA9004_ENSS': 1, 'PT054_ENSS': 1, 'SJ5004ENSS': 0, 'PT014ENSS': 1, 'PT032ENSS': 1, 'PT121_ENSS': 1, 'SJ2016_ENSS': 1, 'PT113_ENSS': 0, 'BL10_ENSS': 0, 'PT118_ENSS': 1, 'LA9015_ENSS': 0, 'BL06_ENSS': 1, 'PT017ENSS': 1, 'PT094_ENSS': 1, 'PT122_ENSS': 1, 'PT123_ENSS': 1, 'PT087_ENSS': 1, 'PT024ENSS': 0, 'NYU1018_ENSS': 0, 'BL08_ENSS': 0, 'LA7008_ENSS': 1, 'PT100_ENSS': 1, 'PT072_ENSS': 1, 'PT018ENSS': 1, 'PT046_ENSS': 1, 'Sj30003_E_NSS': 0, 'PT010ENSS': 1, 'SJ4002_eNSS': 0, 'PT080_ENSS': 1, 'NYU1020_ENSS': 0}\n",
            "{'LA9012_ENSS': 0, 'PT102_ENSS': 1, 'PT098_ENSS': 0, 'PT136_ENSS': 1, 'PT093_ENSS': 0, 'PT015ENSS': 1, 'SJ7001_ENSS': 0, 'Sj4007_eNSS': 1, 'LA9002_ENSS': 1, 'SJ5006ENSS': 1, 'Sj6004_ENSS': 1, 'LA8001_ENSS': 1, 'SJ2011_ENSS': 0, 'PT067_ENSS': 0, 'SJ4001_eNSS': 0, 'LA9014_ENSS': 0, 'PT104_ENSS': 1, 'PT038_ENSS': 1, 'SJ5002ENSS': 1, 'PT012ENSS': 1, 'LA1001ENSS': 0, 'Sj4005_eNSS': 1, 'Sj4004_eNSS': 0, 'PT129_ENSS': 0, 'LA9007_ENSS': 1, 'Sj6001_ENSS': 0, 'PT074_ENSS': 1, 'SJ2003_ENSS': 0, 'PT009_ENSS': 1, 'PT008_ENSS': 1, 'PT005_ENSS': 0, 'NYU1002_ENSS': 1, 'Sj5001ENSS': 1, 'PT047_ENSS': 1, 'LA1003ENSS': 1, 'BL13_ENSS': 1, 'SJ2012_ENSS': 0, 'PT050_ENSS': 1, 'PT051_ENSS': 1, 'PT111_ENSS': 0}\n",
            "{'LA9012_ENSS': 0, 'PT102_ENSS': 0, 'PT098_ENSS': 0, 'PT136_ENSS': 1, 'PT093_ENSS': 1, 'PT015ENSS': 1, 'SJ7001_ENSS': 0, 'Sj4007_eNSS': 0, 'LA9002_ENSS': 1, 'SJ5006ENSS': 1, 'Sj6004_ENSS': 0, 'LA8001_ENSS': 0, 'SJ2011_ENSS': 0, 'PT067_ENSS': 0, 'SJ4001_eNSS': 0, 'LA9014_ENSS': 0, 'PT104_ENSS': 1, 'PT038_ENSS': 1, 'SJ5002ENSS': 0, 'PT012ENSS': 1, 'LA1001ENSS': 0, 'Sj4005_eNSS': 1, 'Sj4004_eNSS': 0, 'PT129_ENSS': 0, 'LA9007_ENSS': 1, 'Sj6001_ENSS': 0, 'PT074_ENSS': 1, 'SJ2003_ENSS': 0, 'PT009_ENSS': 1, 'PT008_ENSS': 1, 'PT005_ENSS': 0, 'NYU1002_ENSS': 1, 'Sj5001ENSS': 1, 'PT047_ENSS': 1, 'LA1003ENSS': 1, 'BL13_ENSS': 1, 'SJ2012_ENSS': 1, 'PT050_ENSS': 1, 'PT051_ENSS': 1, 'PT111_ENSS': 1}\n"
          ]
        }
      ]
    },
    {
      "cell_type": "code",
      "source": [
        "count = 0\n",
        "tp = 0\n",
        "tn = 0\n",
        "fp = 0\n",
        "fn = 0\n",
        "for key in predicted_values:\n",
        "    count += 1\n",
        "    our_est = predicted_values[key]\n",
        "    gt = gt_labels[key]\n",
        "    if gt == 1 and gt == our_est:\n",
        "        tp += 1\n",
        "    elif gt == 1 and gt != our_est:\n",
        "        fn += 1\n",
        "    elif gt == 0 and gt == our_est:\n",
        "        tn += 1\n",
        "    else:\n",
        "        fp += 1\n",
        "\n",
        "\n",
        "acc = (tp + tn)/count\n",
        "prec = tp/(tp + fp)\n",
        "recall = tp/(tp + fn)\n",
        "print('Accuracy for the test set is:', acc)\n",
        "print('F1 score for the test set is:', (2*prec*recall)/(prec+ recall))"
      ],
      "metadata": {
        "colab": {
          "base_uri": "https://localhost:8080/"
        },
        "id": "EL-HIDVxZw-R",
        "outputId": "d57de97f-ef97-40a5-f8d8-5761cf711825"
      },
      "execution_count": 36,
      "outputs": [
        {
          "output_type": "stream",
          "name": "stdout",
          "text": [
            "Accuracy for the test set is: 0.8648648648648649\n",
            "F1 score for the test set is: 0.8936170212765957\n"
          ]
        }
      ]
    },
    {
      "cell_type": "code",
      "source": [
        "count = 0\n",
        "tp = 0\n",
        "tn = 0\n",
        "fp = 0\n",
        "fn = 0\n",
        "for key in predicted_values_val:\n",
        "    count += 1\n",
        "    our_est = predicted_values_val[key]\n",
        "    gt = gt_labels_val[key]\n",
        "    if gt == 1 and gt == our_est:\n",
        "        tp += 1\n",
        "    elif gt == 1 and gt != our_est:\n",
        "        fn += 1\n",
        "    elif gt == 0 and gt == our_est:\n",
        "        tn += 1\n",
        "    else:\n",
        "        fp += 1\n",
        "\n",
        "\n",
        "acc = (tp + tn)/count\n",
        "prec = tp/(tp + fp)\n",
        "recall = tp/(tp + fn)\n",
        "print('Accuracy for the validaiton set is:', acc)\n",
        "print('F1 score for the validaiton set is:', (2*prec*recall)/(prec+ recall))"
      ],
      "metadata": {
        "colab": {
          "base_uri": "https://localhost:8080/"
        },
        "id": "q7QYEpSVZyQb",
        "outputId": "61cc0bf9-39f5-4f02-b2da-b2632095bea5"
      },
      "execution_count": 37,
      "outputs": [
        {
          "output_type": "stream",
          "name": "stdout",
          "text": [
            "Accuracy for the validaiton set is: 0.8\n",
            "F1 score for the validaiton set is: 0.8260869565217391\n"
          ]
        }
      ]
    },
    {
      "cell_type": "code",
      "source": [
        ""
      ],
      "metadata": {
        "id": "QNNg9VmvaTqK"
      },
      "execution_count": 37,
      "outputs": []
    }
  ]
}