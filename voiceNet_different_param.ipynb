{
  "nbformat": 4,
  "nbformat_minor": 0,
  "metadata": {
    "colab": {
      "name": "voiceNet.ipynb",
      "provenance": [],
      "collapsed_sections": []
    },
    "kernelspec": {
      "name": "python3",
      "display_name": "Python 3"
    },
    "language_info": {
      "name": "python"
    },
    "accelerator": "GPU"
  },
  "cells": [
    {
      "cell_type": "markdown",
      "source": [
        "The code is written by Emil Vardar"
      ],
      "metadata": {
        "id": "5M1ptPjKaZWC"
      }
    },
    {
      "cell_type": "code",
      "execution_count": 1,
      "metadata": {
        "colab": {
          "base_uri": "https://localhost:8080/"
        },
        "id": "TeA-tGnkSYQg",
        "outputId": "e16ea795-2a58-4935-ac36-f64a750dbeef"
      },
      "outputs": [
        {
          "output_type": "stream",
          "name": "stdout",
          "text": [
            "Drive already mounted at /content/drive; to attempt to forcibly remount, call drive.mount(\"/content/drive\", force_remount=True).\n"
          ]
        }
      ],
      "source": [
        "from google.colab import drive\n",
        "drive.mount('/content/drive')"
      ]
    },
    {
      "cell_type": "markdown",
      "source": [
        "Import all the necessary packages"
      ],
      "metadata": {
        "id": "GAuolw55SgeQ"
      }
    },
    {
      "cell_type": "code",
      "source": [
        "from __future__ import absolute_import, division, print_function, unicode_literals\n",
        "import tensorflow as tf\n",
        "from tensorflow.keras import datasets, layers, models\n",
        "from tensorflow.keras.models import Model\n",
        "\n",
        "from tensorflow.keras.layers import Input, MaxPooling2D, Dense, Activation, ZeroPadding2D, BatchNormalization, Flatten, Conv2D\n",
        "from tensorflow.keras.layers import AveragePooling2D, Dropout, GlobalMaxPooling2D, GlobalAveragePooling2D\n",
        "from tensorflow.keras.metrics import Recall, Precision, Accuracy\n",
        "from tensorflow.keras.optimizers import Adam, SGD "
      ],
      "metadata": {
        "id": "GhYo7XCHScnn"
      },
      "execution_count": 2,
      "outputs": []
    },
    {
      "cell_type": "code",
      "source": [
        "import json\n",
        "import numpy as np\n",
        "import argparse\n",
        "import os \n",
        "from os.path import isfile, join\n",
        "import h5py\n",
        "import random\n",
        "import pickle\n",
        "!pip3 install pickle5\n",
        "import pickle5 as p\n",
        "import matplotlib.pyplot as plt"
      ],
      "metadata": {
        "colab": {
          "base_uri": "https://localhost:8080/"
        },
        "id": "EyRwTcqaSmK_",
        "outputId": "f84e1aec-be11-4732-83d4-22fe74718060"
      },
      "execution_count": 3,
      "outputs": [
        {
          "output_type": "stream",
          "name": "stdout",
          "text": [
            "Looking in indexes: https://pypi.org/simple, https://us-python.pkg.dev/colab-wheels/public/simple/\n",
            "Requirement already satisfied: pickle5 in /usr/local/lib/python3.7/dist-packages (0.0.12)\n"
          ]
        }
      ]
    },
    {
      "cell_type": "markdown",
      "source": [
        "Redefine the German dataset model so that we can load its weight properly"
      ],
      "metadata": {
        "id": "yNoLjW1kS2m8"
      }
    },
    {
      "cell_type": "code",
      "source": [
        "initializer = tf.keras.initializers.GlorotNormal() # Xavier initialization\n",
        "\n",
        "model = models.Sequential()\n",
        "\n",
        "model.add(layers.Conv2D(16, (3, 3), activation='relu', padding='same', input_shape=(224, 224, 3), name = 'conv_1', kernel_initializer=initializer))\n",
        "model.add(layers.BatchNormalization())\n",
        "model.add(layers.MaxPooling2D((2, 2)))\n",
        "\n",
        "model.add(layers.Conv2D(16, (3, 3), strides=(2, 2), activation='relu', padding='same', name = 'conv_2', kernel_initializer=initializer))\n",
        "model.add(layers.BatchNormalization())\n",
        "model.add(layers.MaxPooling2D((2, 2)))\n",
        "\n",
        "model.add(layers.Conv2D(8, (3, 3), strides=(2, 2), activation='relu', padding='same', name= 'conv_3', kernel_initializer=initializer))\n",
        "model.add(layers.BatchNormalization())\n",
        "\n",
        "model.add(layers.Conv2D(4, (3, 3), activation='relu', padding='same', name= 'conv_4'))\n",
        "model.add(layers.BatchNormalization())\n",
        "model.add(layers.Dropout(rate = 0.3))\n",
        "model.add(layers.AveragePooling2D((2, 2)))\n",
        "\n",
        "model.add(layers.Flatten())\n",
        "model.add(layers.Dense(16, activation='elu', name='Dense_layer'))\n",
        "model.add(layers.BatchNormalization())\n",
        "model.add(layers.Dropout(rate = 0.3))\n",
        "model.add(layers.Dense(1, activation='sigmoid'))"
      ],
      "metadata": {
        "id": "7vu8AMRSS2E4"
      },
      "execution_count": 4,
      "outputs": []
    },
    {
      "cell_type": "code",
      "source": [
        "model.load_weights('/content/drive/MyDrive/CS230_Code_Data/Dataset/german_model.h5')"
      ],
      "metadata": {
        "id": "cWv_741bSuYE"
      },
      "execution_count": 5,
      "outputs": []
    },
    {
      "cell_type": "markdown",
      "source": [
        "To do the transfer learning extract only the first layers of the pre-train model. More specifically take the first layers up until (and included) the 4th convolutional layer."
      ],
      "metadata": {
        "id": "v5XU_V4YS_50"
      }
    },
    {
      "cell_type": "code",
      "source": [
        "base_model = model\n",
        "prefinal_model = Model(inputs=base_model.input, outputs=base_model.get_layer('conv_4').output, name = 'prefinal_model')\n",
        "prefinal_model.summary()"
      ],
      "metadata": {
        "colab": {
          "base_uri": "https://localhost:8080/"
        },
        "id": "FnTqW8Z4Sz4O",
        "outputId": "669d7098-ba99-476f-bd6a-3ddca90103a4"
      },
      "execution_count": 6,
      "outputs": [
        {
          "output_type": "stream",
          "name": "stdout",
          "text": [
            "Model: \"prefinal_model\"\n",
            "_________________________________________________________________\n",
            " Layer (type)                Output Shape              Param #   \n",
            "=================================================================\n",
            " conv_1_input (InputLayer)   [(None, 224, 224, 3)]     0         \n",
            "                                                                 \n",
            " conv_1 (Conv2D)             (None, 224, 224, 16)      448       \n",
            "                                                                 \n",
            " batch_normalization (BatchN  (None, 224, 224, 16)     64        \n",
            " ormalization)                                                   \n",
            "                                                                 \n",
            " max_pooling2d (MaxPooling2D  (None, 112, 112, 16)     0         \n",
            " )                                                               \n",
            "                                                                 \n",
            " conv_2 (Conv2D)             (None, 56, 56, 16)        2320      \n",
            "                                                                 \n",
            " batch_normalization_1 (Batc  (None, 56, 56, 16)       64        \n",
            " hNormalization)                                                 \n",
            "                                                                 \n",
            " max_pooling2d_1 (MaxPooling  (None, 28, 28, 16)       0         \n",
            " 2D)                                                             \n",
            "                                                                 \n",
            " conv_3 (Conv2D)             (None, 14, 14, 8)         1160      \n",
            "                                                                 \n",
            " batch_normalization_2 (Batc  (None, 14, 14, 8)        32        \n",
            " hNormalization)                                                 \n",
            "                                                                 \n",
            " conv_4 (Conv2D)             (None, 14, 14, 4)         292       \n",
            "                                                                 \n",
            "=================================================================\n",
            "Total params: 4,380\n",
            "Trainable params: 4,300\n",
            "Non-trainable params: 80\n",
            "_________________________________________________________________\n"
          ]
        }
      ]
    },
    {
      "cell_type": "markdown",
      "source": [
        "Then add new layers on top of the one given above"
      ],
      "metadata": {
        "id": "U4QtJKL6TVJ8"
      }
    },
    {
      "cell_type": "code",
      "source": [
        "X = prefinal_model.output    # x is the output of the last layer of cutted_layer (x=features on layer block4_conv3)\n",
        "\n",
        "X = Dropout(0.3)(X)\n",
        "X = BatchNormalization()(X)\n",
        "X = MaxPooling2D((2,2))(X)\n",
        "X = Flatten()(X)\n",
        "X = Dropout(0.3)(X)\n",
        "X = Dense(16, activation='elu')(X) \n",
        "#X = Dense(4, activation='elu')(X) \n",
        "prediction = Dense(1, activation='sigmoid')(X) \n"
      ],
      "metadata": {
        "id": "7rv_9AEgTTb4"
      },
      "execution_count": 7,
      "outputs": []
    },
    {
      "cell_type": "code",
      "source": [
        "final_model = Model(inputs=base_model.input, outputs=prediction, name = 'final_model')\n",
        "final_model.summary()"
      ],
      "metadata": {
        "colab": {
          "base_uri": "https://localhost:8080/"
        },
        "id": "vWjhpFuVUM0V",
        "outputId": "717fa4c0-564a-4213-b5a8-bbaa6134421d"
      },
      "execution_count": 8,
      "outputs": [
        {
          "output_type": "stream",
          "name": "stdout",
          "text": [
            "Model: \"final_model\"\n",
            "_________________________________________________________________\n",
            " Layer (type)                Output Shape              Param #   \n",
            "=================================================================\n",
            " conv_1_input (InputLayer)   [(None, 224, 224, 3)]     0         \n",
            "                                                                 \n",
            " conv_1 (Conv2D)             (None, 224, 224, 16)      448       \n",
            "                                                                 \n",
            " batch_normalization (BatchN  (None, 224, 224, 16)     64        \n",
            " ormalization)                                                   \n",
            "                                                                 \n",
            " max_pooling2d (MaxPooling2D  (None, 112, 112, 16)     0         \n",
            " )                                                               \n",
            "                                                                 \n",
            " conv_2 (Conv2D)             (None, 56, 56, 16)        2320      \n",
            "                                                                 \n",
            " batch_normalization_1 (Batc  (None, 56, 56, 16)       64        \n",
            " hNormalization)                                                 \n",
            "                                                                 \n",
            " max_pooling2d_1 (MaxPooling  (None, 28, 28, 16)       0         \n",
            " 2D)                                                             \n",
            "                                                                 \n",
            " conv_3 (Conv2D)             (None, 14, 14, 8)         1160      \n",
            "                                                                 \n",
            " batch_normalization_2 (Batc  (None, 14, 14, 8)        32        \n",
            " hNormalization)                                                 \n",
            "                                                                 \n",
            " conv_4 (Conv2D)             (None, 14, 14, 4)         292       \n",
            "                                                                 \n",
            " dropout_2 (Dropout)         (None, 14, 14, 4)         0         \n",
            "                                                                 \n",
            " batch_normalization_5 (Batc  (None, 14, 14, 4)        16        \n",
            " hNormalization)                                                 \n",
            "                                                                 \n",
            " max_pooling2d_2 (MaxPooling  (None, 7, 7, 4)          0         \n",
            " 2D)                                                             \n",
            "                                                                 \n",
            " flatten_1 (Flatten)         (None, 196)               0         \n",
            "                                                                 \n",
            " dropout_3 (Dropout)         (None, 196)               0         \n",
            "                                                                 \n",
            " dense_1 (Dense)             (None, 16)                3152      \n",
            "                                                                 \n",
            " dense_2 (Dense)             (None, 1)                 17        \n",
            "                                                                 \n",
            "=================================================================\n",
            "Total params: 7,565\n",
            "Trainable params: 7,477\n",
            "Non-trainable params: 88\n",
            "_________________________________________________________________\n"
          ]
        }
      ]
    },
    {
      "cell_type": "markdown",
      "source": [
        "Don't freeze any of the layers"
      ],
      "metadata": {
        "id": "YFrv-Ev4VlJ-"
      }
    },
    {
      "cell_type": "code",
      "source": [
        "for layer in prefinal_model.layers:\n",
        "    layer.trainable = True"
      ],
      "metadata": {
        "id": "YC8apUghT-3Y"
      },
      "execution_count": 9,
      "outputs": []
    },
    {
      "cell_type": "markdown",
      "source": [
        "Import the datasets that has been preprocessed. The imports are dictionaries of type:\n",
        "train_data_dict = {'spectogram:' np.array of shape (224, 224, 3), 'patient:' the id of the patient so that they are not lost, 'status:' 0(healthy) or 1(pathological)}"
      ],
      "metadata": {
        "id": "RJGGi4gwWOYb"
      }
    },
    {
      "cell_type": "code",
      "source": [
        "with open('/content/drive/MyDrive/CS230_Code_Data/train_data', 'rb') as su:\n",
        "    train_data_dict = pickle.load(su)\n",
        "\n",
        "with open('/content/drive/MyDrive/CS230_Code_Data/test_data', 'rb') as su:\n",
        "    test_data_dict = pickle.load(su)\n",
        "\n",
        "with open('/content/drive/MyDrive/CS230_Code_Data/val_data', 'rb') as su:\n",
        "    val_data_dict = pickle.load(su)\n"
      ],
      "metadata": {
        "id": "Sij0kSvkVnmE"
      },
      "execution_count": 10,
      "outputs": []
    },
    {
      "cell_type": "code",
      "source": [
        "print(len(train_data_dict))\n",
        "print(len(test_data_dict))\n",
        "print(len(val_data_dict))"
      ],
      "metadata": {
        "colab": {
          "base_uri": "https://localhost:8080/"
        },
        "id": "V5RlmBp1WsEZ",
        "outputId": "79264b6b-9ffb-4d89-f7eb-f2f7ac804240"
      },
      "execution_count": 11,
      "outputs": [
        {
          "output_type": "stream",
          "name": "stdout",
          "text": [
            "3039\n",
            "536\n",
            "566\n"
          ]
        }
      ]
    },
    {
      "cell_type": "code",
      "source": [
        "print('The ratio of the train dataset is:', len(train_data_dict)/(len(train_data_dict) + len(test_data_dict) + len(val_data_dict)))"
      ],
      "metadata": {
        "colab": {
          "base_uri": "https://localhost:8080/"
        },
        "id": "mUoEmLEJWtIr",
        "outputId": "b805d23a-36d3-47e5-d64e-269253f70af3"
      },
      "execution_count": 12,
      "outputs": [
        {
          "output_type": "stream",
          "name": "stdout",
          "text": [
            "The ratio of the train dataset is: 0.7338807051436851\n"
          ]
        }
      ]
    },
    {
      "cell_type": "markdown",
      "source": [
        "Transfor the spectograms and the status to a keras interpretable form"
      ],
      "metadata": {
        "id": "8DYj4MUYW6eW"
      }
    },
    {
      "cell_type": "code",
      "source": [
        "def matrix_creator(dataset, augment = False):\n",
        "    X = []\n",
        "    y = []\n",
        "    for person in dataset:\n",
        "        spectogram = person['spectogram'] \n",
        "        status = int(person['status'])       \n",
        "        X.append(spectogram)\n",
        "        y.append(status)\n",
        "\n",
        "    X = np.array(X)\n",
        "    y = np.array(y)\n",
        "\n",
        "    y = y.reshape((y.shape[0],1))\n",
        "    return X, y"
      ],
      "metadata": {
        "id": "63iOiFhWW2nS"
      },
      "execution_count": 13,
      "outputs": []
    },
    {
      "cell_type": "code",
      "source": [
        "train_data, train_labels = matrix_creator(train_data_dict)  \n",
        "test_data, test_labels = matrix_creator(test_data_dict)\n",
        "val_data, val_labels = matrix_creator(val_data_dict)"
      ],
      "metadata": {
        "id": "_4AzLdiXW8cb"
      },
      "execution_count": 14,
      "outputs": []
    },
    {
      "cell_type": "code",
      "source": [
        "print(train_data.shape)\n",
        "print(test_data.shape)\n",
        "print(val_data.shape)"
      ],
      "metadata": {
        "colab": {
          "base_uri": "https://localhost:8080/"
        },
        "id": "dRDsstvRXjxZ",
        "outputId": "79ec9936-9eb0-4f55-f0f9-6c9778528e80"
      },
      "execution_count": 15,
      "outputs": [
        {
          "output_type": "stream",
          "name": "stdout",
          "text": [
            "(3039, 224, 224, 3)\n",
            "(536, 224, 224, 3)\n",
            "(566, 224, 224, 3)\n"
          ]
        }
      ]
    },
    {
      "cell_type": "markdown",
      "source": [
        "See an example spectogram"
      ],
      "metadata": {
        "id": "xf9AL-UGXmcJ"
      }
    },
    {
      "cell_type": "code",
      "source": [
        "image = train_data[18]\n",
        "plt.imshow(image)\n",
        "plt.show()"
      ],
      "metadata": {
        "colab": {
          "base_uri": "https://localhost:8080/",
          "height": 269
        },
        "id": "Myqxd4FLXkuT",
        "outputId": "313967ae-1e30-4e0b-c5db-379aca73f1e2"
      },
      "execution_count": 16,
      "outputs": [
        {
          "output_type": "display_data",
          "data": {
            "text/plain": [
              "<Figure size 432x288 with 1 Axes>"
            ],
            "image/png": "[encoded data removed]"
          },
          "metadata": {
            "needs_background": "light"
          }
        }
      ]
    },
    {
      "cell_type": "markdown",
      "source": [
        "Further train the base model on the stanford dataset. \n",
        "We are using Adam as optimizer with lr=5e-5. The loss function is weighted binary cross entropy. "
      ],
      "metadata": {
        "id": "CxaBShEkXza0"
      }
    },
    {
      "cell_type": "code",
      "source": [
        "opt = Adam(learning_rate=5e-5, beta_1 = 0.95, beta_2 = 0.999)\n",
        "final_model.compile(optimizer = opt, loss='binary_crossentropy', metrics=['accuracy', Precision(), Recall()])"
      ],
      "metadata": {
        "id": "6JowR00iXqeC"
      },
      "execution_count": 17,
      "outputs": []
    },
    {
      "cell_type": "code",
      "source": [
        "history = final_model.fit(train_data, train_labels, epochs=30, batch_size=16, class_weight={0:5, 1:2}, validation_data=(val_data, val_labels))"
      ],
      "metadata": {
        "colab": {
          "base_uri": "https://localhost:8080/"
        },
        "id": "2RZ0jjgGYCGx",
        "outputId": "6cfef272-6384-40cf-db86-8c299a119dbf"
      },
      "execution_count": 18,
      "outputs": [
        {
          "output_type": "stream",
          "name": "stdout",
          "text": [
            "Epoch 1/30\n",
            "190/190 [==============================] - 11s 25ms/step - loss: 2.7968 - accuracy: 0.4525 - precision: 0.6404 - recall: 0.3304 - val_loss: 0.6917 - val_accuracy: 0.5530 - val_precision: 0.6283 - val_recall: 0.6734\n",
            "Epoch 2/30\n",
            "190/190 [==============================] - 3s 16ms/step - loss: 2.4269 - accuracy: 0.4827 - precision: 0.6771 - recall: 0.3674 - val_loss: 0.6643 - val_accuracy: 0.6007 - val_precision: 0.6511 - val_recall: 0.7593\n",
            "Epoch 3/30\n",
            "190/190 [==============================] - 3s 16ms/step - loss: 2.3320 - accuracy: 0.4880 - precision: 0.6826 - recall: 0.3746 - val_loss: 0.6587 - val_accuracy: 0.5954 - val_precision: 0.6676 - val_recall: 0.6848\n",
            "Epoch 4/30\n",
            "190/190 [==============================] - 3s 16ms/step - loss: 2.2991 - accuracy: 0.4801 - precision: 0.6766 - recall: 0.3602 - val_loss: 0.6502 - val_accuracy: 0.6078 - val_precision: 0.6667 - val_recall: 0.7278\n",
            "Epoch 5/30\n",
            "190/190 [==============================] - 3s 15ms/step - loss: 2.2094 - accuracy: 0.4975 - precision: 0.6971 - recall: 0.3808 - val_loss: 0.6498 - val_accuracy: 0.6166 - val_precision: 0.7050 - val_recall: 0.6504\n",
            "Epoch 6/30\n",
            "190/190 [==============================] - 3s 16ms/step - loss: 2.1953 - accuracy: 0.4933 - precision: 0.7097 - recall: 0.3530 - val_loss: 0.6379 - val_accuracy: 0.6131 - val_precision: 0.6438 - val_recall: 0.8338\n",
            "Epoch 7/30\n",
            "190/190 [==============================] - 3s 16ms/step - loss: 2.1602 - accuracy: 0.5094 - precision: 0.7177 - recall: 0.3854 - val_loss: 0.6340 - val_accuracy: 0.6360 - val_precision: 0.6757 - val_recall: 0.7880\n",
            "Epoch 8/30\n",
            "190/190 [==============================] - 3s 16ms/step - loss: 2.0956 - accuracy: 0.5265 - precision: 0.7493 - recall: 0.3916 - val_loss: 0.6346 - val_accuracy: 0.6166 - val_precision: 0.6964 - val_recall: 0.6705\n",
            "Epoch 9/30\n",
            "190/190 [==============================] - 3s 16ms/step - loss: 2.0610 - accuracy: 0.5321 - precision: 0.7417 - recall: 0.4132 - val_loss: 0.6288 - val_accuracy: 0.6290 - val_precision: 0.7050 - val_recall: 0.6848\n",
            "Epoch 10/30\n",
            "190/190 [==============================] - 3s 16ms/step - loss: 2.0440 - accuracy: 0.5308 - precision: 0.7481 - recall: 0.4029 - val_loss: 0.6261 - val_accuracy: 0.6290 - val_precision: 0.6834 - val_recall: 0.7421\n",
            "Epoch 11/30\n",
            "190/190 [==============================] - 3s 16ms/step - loss: 2.0341 - accuracy: 0.5499 - precision: 0.7651 - recall: 0.4286 - val_loss: 0.6228 - val_accuracy: 0.6466 - val_precision: 0.7041 - val_recall: 0.7364\n",
            "Epoch 12/30\n",
            "190/190 [==============================] - 3s 16ms/step - loss: 2.0314 - accuracy: 0.5459 - precision: 0.7635 - recall: 0.4214 - val_loss: 0.6151 - val_accuracy: 0.6519 - val_precision: 0.6969 - val_recall: 0.7708\n",
            "Epoch 13/30\n",
            "190/190 [==============================] - 3s 16ms/step - loss: 2.0239 - accuracy: 0.5400 - precision: 0.7585 - recall: 0.4132 - val_loss: 0.6178 - val_accuracy: 0.6608 - val_precision: 0.7093 - val_recall: 0.7622\n",
            "Epoch 14/30\n",
            "190/190 [==============================] - 3s 16ms/step - loss: 1.9985 - accuracy: 0.5686 - precision: 0.7916 - recall: 0.4430 - val_loss: 0.6151 - val_accuracy: 0.6590 - val_precision: 0.7021 - val_recall: 0.7765\n",
            "Epoch 15/30\n",
            "190/190 [==============================] - 3s 16ms/step - loss: 1.9851 - accuracy: 0.5545 - precision: 0.7721 - recall: 0.4317 - val_loss: 0.6117 - val_accuracy: 0.6519 - val_precision: 0.6767 - val_recall: 0.8338\n",
            "Epoch 16/30\n",
            "190/190 [==============================] - 3s 16ms/step - loss: 1.9569 - accuracy: 0.5785 - precision: 0.8042 - recall: 0.4517 - val_loss: 0.6088 - val_accuracy: 0.6608 - val_precision: 0.6967 - val_recall: 0.7966\n",
            "Epoch 17/30\n",
            "190/190 [==============================] - 3s 16ms/step - loss: 1.9777 - accuracy: 0.5670 - precision: 0.7848 - recall: 0.4460 - val_loss: 0.6075 - val_accuracy: 0.6678 - val_precision: 0.7124 - val_recall: 0.7736\n",
            "Epoch 18/30\n",
            "190/190 [==============================] - 3s 16ms/step - loss: 1.9330 - accuracy: 0.5716 - precision: 0.8038 - recall: 0.4378 - val_loss: 0.6065 - val_accuracy: 0.6555 - val_precision: 0.6719 - val_recall: 0.8625\n",
            "Epoch 19/30\n",
            "190/190 [==============================] - 3s 16ms/step - loss: 1.9476 - accuracy: 0.5699 - precision: 0.7918 - recall: 0.4455 - val_loss: 0.6064 - val_accuracy: 0.6519 - val_precision: 0.6564 - val_recall: 0.9140\n",
            "Epoch 20/30\n",
            "190/190 [==============================] - 3s 17ms/step - loss: 1.9453 - accuracy: 0.5663 - precision: 0.7735 - recall: 0.4563 - val_loss: 0.6056 - val_accuracy: 0.6714 - val_precision: 0.7173 - val_recall: 0.7708\n",
            "Epoch 21/30\n",
            "190/190 [==============================] - 3s 17ms/step - loss: 1.9262 - accuracy: 0.5758 - precision: 0.7915 - recall: 0.4584 - val_loss: 0.6036 - val_accuracy: 0.6678 - val_precision: 0.7147 - val_recall: 0.7679\n",
            "Epoch 22/30\n",
            "190/190 [==============================] - 3s 16ms/step - loss: 1.8870 - accuracy: 0.5962 - precision: 0.8295 - recall: 0.4651 - val_loss: 0.6028 - val_accuracy: 0.6767 - val_precision: 0.6895 - val_recall: 0.8653\n",
            "Epoch 23/30\n",
            "190/190 [==============================] - 3s 16ms/step - loss: 1.9350 - accuracy: 0.5890 - precision: 0.8044 - recall: 0.4733 - val_loss: 0.6060 - val_accuracy: 0.6555 - val_precision: 0.7406 - val_recall: 0.6791\n",
            "Epoch 24/30\n",
            "190/190 [==============================] - 3s 16ms/step - loss: 1.9229 - accuracy: 0.5785 - precision: 0.8048 - recall: 0.4512 - val_loss: 0.6019 - val_accuracy: 0.6784 - val_precision: 0.7125 - val_recall: 0.8023\n",
            "Epoch 25/30\n",
            "190/190 [==============================] - 3s 18ms/step - loss: 1.8765 - accuracy: 0.5969 - precision: 0.8233 - recall: 0.4717 - val_loss: 0.6010 - val_accuracy: 0.6784 - val_precision: 0.7300 - val_recall: 0.7593\n",
            "Epoch 26/30\n",
            "190/190 [==============================] - 3s 18ms/step - loss: 1.8724 - accuracy: 0.5900 - precision: 0.8223 - recall: 0.4589 - val_loss: 0.6014 - val_accuracy: 0.6855 - val_precision: 0.7122 - val_recall: 0.8223\n",
            "Epoch 27/30\n",
            "190/190 [==============================] - 3s 16ms/step - loss: 1.8825 - accuracy: 0.6038 - precision: 0.8061 - recall: 0.5021 - val_loss: 0.6028 - val_accuracy: 0.6608 - val_precision: 0.7524 - val_recall: 0.6705\n",
            "Epoch 28/30\n",
            "190/190 [==============================] - 3s 16ms/step - loss: 1.8567 - accuracy: 0.6022 - precision: 0.8293 - recall: 0.4769 - val_loss: 0.5975 - val_accuracy: 0.6731 - val_precision: 0.7330 - val_recall: 0.7393\n",
            "Epoch 29/30\n",
            "190/190 [==============================] - 3s 17ms/step - loss: 1.8646 - accuracy: 0.6051 - precision: 0.8204 - recall: 0.4908 - val_loss: 0.5954 - val_accuracy: 0.6802 - val_precision: 0.7320 - val_recall: 0.7593\n",
            "Epoch 30/30\n",
            "190/190 [==============================] - 3s 16ms/step - loss: 1.8634 - accuracy: 0.6025 - precision: 0.8231 - recall: 0.4830 - val_loss: 0.6036 - val_accuracy: 0.6572 - val_precision: 0.7558 - val_recall: 0.6562\n"
          ]
        }
      ]
    },
    {
      "cell_type": "code",
      "source": [
        "acc_first_train = history.history[\"accuracy\"]\n",
        "acc_first_val = history.history[\"val_accuracy\"]"
      ],
      "metadata": {
        "id": "EWQTWtDAYCo5"
      },
      "execution_count": 19,
      "outputs": []
    },
    {
      "cell_type": "markdown",
      "source": [
        "Further train the model by decreasing the learning rate to 1e-5 and decreasing the weights for the weighted binary cross entropy function"
      ],
      "metadata": {
        "id": "9bgDbQ2NYH4F"
      }
    },
    {
      "cell_type": "code",
      "source": [
        "opt = Adam(learning_rate=1e-5, beta_1 = 0.95, beta_2 = 0.999) # decrease the learning rate and run for 20 more epochs\n",
        "history = final_model.fit(train_data, train_labels, epochs=30, batch_size=16, class_weight={0:4, 1:2}, validation_data=(val_data, val_labels))"
      ],
      "metadata": {
        "colab": {
          "base_uri": "https://localhost:8080/"
        },
        "id": "EkyrLH4xYG7J",
        "outputId": "7efa6d30-f3cc-4ffe-e8d6-c55bcd4627d9"
      },
      "execution_count": 20,
      "outputs": [
        {
          "output_type": "stream",
          "name": "stdout",
          "text": [
            "Epoch 1/30\n",
            "190/190 [==============================] - 3s 17ms/step - loss: 1.6646 - accuracy: 0.6453 - precision: 0.8159 - recall: 0.5761 - val_loss: 0.5939 - val_accuracy: 0.6855 - val_precision: 0.7154 - val_recall: 0.8138\n",
            "Epoch 2/30\n",
            "190/190 [==============================] - 3s 16ms/step - loss: 1.6549 - accuracy: 0.6420 - precision: 0.8069 - recall: 0.5797 - val_loss: 0.5899 - val_accuracy: 0.6890 - val_precision: 0.7035 - val_recall: 0.8567\n",
            "Epoch 3/30\n",
            "190/190 [==============================] - 3s 17ms/step - loss: 1.6649 - accuracy: 0.6344 - precision: 0.7938 - recall: 0.5797 - val_loss: 0.5846 - val_accuracy: 0.6926 - val_precision: 0.7129 - val_recall: 0.8395\n",
            "Epoch 4/30\n",
            "190/190 [==============================] - 3s 16ms/step - loss: 1.6522 - accuracy: 0.6482 - precision: 0.8121 - recall: 0.5863 - val_loss: 0.5901 - val_accuracy: 0.6890 - val_precision: 0.7464 - val_recall: 0.7507\n",
            "Epoch 5/30\n",
            "190/190 [==============================] - 3s 16ms/step - loss: 1.6513 - accuracy: 0.6426 - precision: 0.8058 - recall: 0.5822 - val_loss: 0.5859 - val_accuracy: 0.6926 - val_precision: 0.7098 - val_recall: 0.8481\n",
            "Epoch 6/30\n",
            "190/190 [==============================] - 3s 16ms/step - loss: 1.6632 - accuracy: 0.6397 - precision: 0.8046 - recall: 0.5776 - val_loss: 0.5845 - val_accuracy: 0.6961 - val_precision: 0.7133 - val_recall: 0.8481\n",
            "Epoch 7/30\n",
            "190/190 [==============================] - 3s 17ms/step - loss: 1.6368 - accuracy: 0.6584 - precision: 0.8135 - recall: 0.6053 - val_loss: 0.5870 - val_accuracy: 0.6979 - val_precision: 0.7099 - val_recall: 0.8625\n",
            "Epoch 8/30\n",
            "190/190 [==============================] - 3s 17ms/step - loss: 1.6356 - accuracy: 0.6528 - precision: 0.8096 - recall: 0.5987 - val_loss: 0.5900 - val_accuracy: 0.6767 - val_precision: 0.7385 - val_recall: 0.7364\n",
            "Epoch 9/30\n",
            "190/190 [==============================] - 3s 17ms/step - loss: 1.6271 - accuracy: 0.6489 - precision: 0.8093 - recall: 0.5910 - val_loss: 0.5799 - val_accuracy: 0.6961 - val_precision: 0.7229 - val_recall: 0.8223\n",
            "Epoch 10/30\n",
            "190/190 [==============================] - 3s 16ms/step - loss: 1.5919 - accuracy: 0.6752 - precision: 0.8355 - recall: 0.6136 - val_loss: 0.5818 - val_accuracy: 0.7049 - val_precision: 0.7230 - val_recall: 0.8453\n",
            "Epoch 11/30\n",
            "190/190 [==============================] - 3s 17ms/step - loss: 1.6113 - accuracy: 0.6598 - precision: 0.8225 - recall: 0.5976 - val_loss: 0.5809 - val_accuracy: 0.7085 - val_precision: 0.7347 - val_recall: 0.8252\n",
            "Epoch 12/30\n",
            "190/190 [==============================] - 3s 16ms/step - loss: 1.6217 - accuracy: 0.6732 - precision: 0.8288 - recall: 0.6172 - val_loss: 0.5841 - val_accuracy: 0.6996 - val_precision: 0.7167 - val_recall: 0.8481\n",
            "Epoch 13/30\n",
            "190/190 [==============================] - 3s 16ms/step - loss: 1.5841 - accuracy: 0.6788 - precision: 0.8242 - recall: 0.6336 - val_loss: 0.5793 - val_accuracy: 0.6943 - val_precision: 0.7085 - val_recall: 0.8567\n",
            "Epoch 14/30\n",
            "190/190 [==============================] - 3s 16ms/step - loss: 1.5790 - accuracy: 0.6726 - precision: 0.8255 - recall: 0.6197 - val_loss: 0.5865 - val_accuracy: 0.6837 - val_precision: 0.7005 - val_recall: 0.8510\n",
            "Epoch 15/30\n",
            "190/190 [==============================] - 3s 17ms/step - loss: 1.6039 - accuracy: 0.6719 - precision: 0.8275 - recall: 0.6161 - val_loss: 0.5774 - val_accuracy: 0.6979 - val_precision: 0.7051 - val_recall: 0.8768\n",
            "Epoch 16/30\n",
            "190/190 [==============================] - 3s 16ms/step - loss: 1.5941 - accuracy: 0.6696 - precision: 0.8331 - recall: 0.6053 - val_loss: 0.5798 - val_accuracy: 0.6926 - val_precision: 0.6882 - val_recall: 0.9169\n",
            "Epoch 17/30\n",
            "190/190 [==============================] - 3s 16ms/step - loss: 1.6057 - accuracy: 0.6765 - precision: 0.8260 - recall: 0.6269 - val_loss: 0.5863 - val_accuracy: 0.6908 - val_precision: 0.6908 - val_recall: 0.9026\n",
            "Epoch 18/30\n",
            "190/190 [==============================] - 3s 16ms/step - loss: 1.5888 - accuracy: 0.6706 - precision: 0.8270 - recall: 0.6141 - val_loss: 0.5790 - val_accuracy: 0.6979 - val_precision: 0.6952 - val_recall: 0.9083\n",
            "Epoch 19/30\n",
            "190/190 [==============================] - 3s 15ms/step - loss: 1.5656 - accuracy: 0.6732 - precision: 0.8261 - recall: 0.6202 - val_loss: 0.5809 - val_accuracy: 0.6943 - val_precision: 0.7047 - val_recall: 0.8682\n",
            "Epoch 20/30\n",
            "190/190 [==============================] - 3s 16ms/step - loss: 1.5845 - accuracy: 0.6719 - precision: 0.8221 - recall: 0.6223 - val_loss: 0.5808 - val_accuracy: 0.6961 - val_precision: 0.6920 - val_recall: 0.9140\n",
            "Epoch 21/30\n",
            "190/190 [==============================] - 3s 16ms/step - loss: 1.5538 - accuracy: 0.6871 - precision: 0.8472 - recall: 0.6238 - val_loss: 0.5775 - val_accuracy: 0.7085 - val_precision: 0.7289 - val_recall: 0.8395\n",
            "Epoch 22/30\n",
            "190/190 [==============================] - 3s 16ms/step - loss: 1.5751 - accuracy: 0.6867 - precision: 0.8340 - recall: 0.6377 - val_loss: 0.5736 - val_accuracy: 0.7085 - val_precision: 0.7160 - val_recall: 0.8739\n",
            "Epoch 23/30\n",
            "190/190 [==============================] - 3s 16ms/step - loss: 1.5601 - accuracy: 0.6798 - precision: 0.8353 - recall: 0.6228 - val_loss: 0.5749 - val_accuracy: 0.7067 - val_precision: 0.7113 - val_recall: 0.8825\n",
            "Epoch 24/30\n",
            "190/190 [==============================] - 3s 16ms/step - loss: 1.5435 - accuracy: 0.6920 - precision: 0.8449 - recall: 0.6357 - val_loss: 0.5650 - val_accuracy: 0.7173 - val_precision: 0.7507 - val_recall: 0.8109\n",
            "Epoch 25/30\n",
            "190/190 [==============================] - 3s 15ms/step - loss: 1.5658 - accuracy: 0.6858 - precision: 0.8458 - recall: 0.6228 - val_loss: 0.5787 - val_accuracy: 0.7067 - val_precision: 0.7282 - val_recall: 0.8367\n",
            "Epoch 26/30\n",
            "190/190 [==============================] - 3s 16ms/step - loss: 1.5416 - accuracy: 0.6834 - precision: 0.8293 - recall: 0.6367 - val_loss: 0.5787 - val_accuracy: 0.7102 - val_precision: 0.7187 - val_recall: 0.8711\n",
            "Epoch 27/30\n",
            "190/190 [==============================] - 3s 16ms/step - loss: 1.5376 - accuracy: 0.6838 - precision: 0.8353 - recall: 0.6305 - val_loss: 0.5885 - val_accuracy: 0.6784 - val_precision: 0.6736 - val_recall: 0.9284\n",
            "Epoch 28/30\n",
            "190/190 [==============================] - 3s 16ms/step - loss: 1.5692 - accuracy: 0.6927 - precision: 0.8410 - recall: 0.6413 - val_loss: 0.5847 - val_accuracy: 0.7085 - val_precision: 0.7170 - val_recall: 0.8711\n",
            "Epoch 29/30\n",
            "190/190 [==============================] - 3s 16ms/step - loss: 1.5381 - accuracy: 0.6956 - precision: 0.8419 - recall: 0.6459 - val_loss: 0.5769 - val_accuracy: 0.7014 - val_precision: 0.7239 - val_recall: 0.8338\n",
            "Epoch 30/30\n",
            "190/190 [==============================] - 3s 16ms/step - loss: 1.5441 - accuracy: 0.6858 - precision: 0.8341 - recall: 0.6357 - val_loss: 0.5743 - val_accuracy: 0.7102 - val_precision: 0.7166 - val_recall: 0.8768\n"
          ]
        }
      ]
    },
    {
      "cell_type": "code",
      "source": [
        "opt = Adam(learning_rate=5e-6, beta_1 = 0.95, beta_2 = 0.999) # decrease the learning rate and run for 20 more epochs\n",
        "history = final_model.fit(train_data, train_labels, epochs=10, batch_size=16, class_weight={0:4, 1:2}, validation_data=(val_data, val_labels))"
      ],
      "metadata": {
        "colab": {
          "base_uri": "https://localhost:8080/"
        },
        "id": "tLArDleZl5fc",
        "outputId": "53f4b836-58b4-4ab6-ef69-9c2f52645bb2"
      },
      "execution_count": 21,
      "outputs": [
        {
          "output_type": "stream",
          "name": "stdout",
          "text": [
            "Epoch 1/10\n",
            "190/190 [==============================] - 3s 17ms/step - loss: 1.5270 - accuracy: 0.7042 - precision: 0.8488 - recall: 0.6547 - val_loss: 0.5754 - val_accuracy: 0.6961 - val_precision: 0.7185 - val_recall: 0.8338\n",
            "Epoch 2/10\n",
            "190/190 [==============================] - 3s 15ms/step - loss: 1.5494 - accuracy: 0.6913 - precision: 0.8401 - recall: 0.6398 - val_loss: 0.5719 - val_accuracy: 0.7067 - val_precision: 0.7205 - val_recall: 0.8567\n",
            "Epoch 3/10\n",
            "190/190 [==============================] - 3s 16ms/step - loss: 1.5377 - accuracy: 0.6956 - precision: 0.8392 - recall: 0.6490 - val_loss: 0.5692 - val_accuracy: 0.7014 - val_precision: 0.7217 - val_recall: 0.8395\n",
            "Epoch 4/10\n",
            "190/190 [==============================] - 3s 16ms/step - loss: 1.5188 - accuracy: 0.6927 - precision: 0.8401 - recall: 0.6423 - val_loss: 0.5691 - val_accuracy: 0.6855 - val_precision: 0.7122 - val_recall: 0.8223\n",
            "Epoch 5/10\n",
            "190/190 [==============================] - 3s 16ms/step - loss: 1.5398 - accuracy: 0.6930 - precision: 0.8321 - recall: 0.6521 - val_loss: 0.5729 - val_accuracy: 0.7102 - val_precision: 0.7176 - val_recall: 0.8739\n",
            "Epoch 6/10\n",
            "190/190 [==============================] - 3s 16ms/step - loss: 1.5210 - accuracy: 0.6871 - precision: 0.8443 - recall: 0.6269 - val_loss: 0.5664 - val_accuracy: 0.7032 - val_precision: 0.7150 - val_recall: 0.8625\n",
            "Epoch 7/10\n",
            "190/190 [==============================] - 3s 16ms/step - loss: 1.5065 - accuracy: 0.6966 - precision: 0.8386 - recall: 0.6516 - val_loss: 0.5788 - val_accuracy: 0.7032 - val_precision: 0.7129 - val_recall: 0.8682\n",
            "Epoch 8/10\n",
            "190/190 [==============================] - 3s 16ms/step - loss: 1.5011 - accuracy: 0.7062 - precision: 0.8399 - recall: 0.6686 - val_loss: 0.5691 - val_accuracy: 0.6979 - val_precision: 0.7459 - val_recall: 0.7736\n",
            "Epoch 9/10\n",
            "190/190 [==============================] - 3s 15ms/step - loss: 1.5134 - accuracy: 0.6946 - precision: 0.8371 - recall: 0.6495 - val_loss: 0.5753 - val_accuracy: 0.6943 - val_precision: 0.6913 - val_recall: 0.9112\n",
            "Epoch 10/10\n",
            "190/190 [==============================] - 3s 16ms/step - loss: 1.5238 - accuracy: 0.7062 - precision: 0.8403 - recall: 0.6680 - val_loss: 0.5675 - val_accuracy: 0.7032 - val_precision: 0.7257 - val_recall: 0.8338\n"
          ]
        }
      ]
    },
    {
      "cell_type": "code",
      "source": [
        "acc_second_train = history.history[\"accuracy\"]\n",
        "acc_second_val = history.history[\"val_accuracy\"]"
      ],
      "metadata": {
        "id": "LQ86IvApYcQz"
      },
      "execution_count": 22,
      "outputs": []
    },
    {
      "cell_type": "markdown",
      "source": [
        "Let's look at the accuracy and F1 score for when the chunks in the test set is seen as individuals. Observe that the test set accuracy here is much lower after we have processed the chunks together to indicate whether one patient has pathological voice or not"
      ],
      "metadata": {
        "id": "cn07OnICYe9I"
      }
    },
    {
      "cell_type": "code",
      "source": [
        "test_loss, test_acc, test_prec, test_recall = final_model.evaluate(test_data, test_labels)\n",
        "print('acc:', test_acc)\n",
        "print('recall:', test_recall)\n",
        "print('precision:', test_prec)\n"
      ],
      "metadata": {
        "colab": {
          "base_uri": "https://localhost:8080/"
        },
        "id": "Guf06qRdYdNd",
        "outputId": "6dc2eaa7-1597-492a-ef27-b2b2c380cf5e"
      },
      "execution_count": 23,
      "outputs": [
        {
          "output_type": "stream",
          "name": "stdout",
          "text": [
            "17/17 [==============================] - 0s 17ms/step - loss: 0.5065 - accuracy: 0.7407 - precision: 0.7552 - recall: 0.9083\n",
            "acc: 0.7406716346740723\n",
            "recall: 0.9083333611488342\n",
            "precision: 0.7551963329315186\n"
          ]
        }
      ]
    },
    {
      "cell_type": "code",
      "source": [
        "import matplotlib.pyplot as plt\n",
        "\n",
        "f = plt.figure(figsize=(10,6))\n",
        "acc_train = acc_first_train + acc_second_train\n",
        "acc_val = acc_first_val + acc_second_val\n",
        "plt.plot(acc_train, label=\"train accuracy\")\n",
        "plt.plot(acc_val, label=\"val accuracy\")\n",
        "plt.xlabel('epoch', fontsize=14)\n",
        "plt.ylabel('accuracy', fontsize=14)\n",
        "plt.title('accuracy history', fontsize=14)\n",
        "plt.legend(fontsize='large')\n",
        "\n",
        "f.savefig('accuracy_history.pdf', bbox_inches='tight')"
      ],
      "metadata": {
        "colab": {
          "base_uri": "https://localhost:8080/",
          "height": 409
        },
        "id": "D8TPuSUBYwRs",
        "outputId": "a7178748-5b88-4a61-a32f-b4e17523f941"
      },
      "execution_count": 24,
      "outputs": [
        {
          "output_type": "display_data",
          "data": {
            "text/plain": [
              "<Figure size 720x432 with 1 Axes>"
            ],
            "image/png": "[encoded data removed]"
          },
          "metadata": {
            "needs_background": "light"
          }
        }
      ]
    },
    {
      "cell_type": "markdown",
      "source": [
        "Process the chunks together so that they indicate if one person is pathological or not. Do it also for the validaiton dataset so that we have 2 differnet results. Observe that the code given below is quite bad and unnecesarily complicated. However, since we did not have enough time left on the project, we could not make it more efficient. "
      ],
      "metadata": {
        "id": "dDtyxFpPY_4s"
      }
    },
    {
      "cell_type": "code",
      "source": [
        "amount = {}\n",
        "prediction_dict = {}\n",
        "keys = []\n",
        "\n",
        "for test_data in test_data_dict:\n",
        "    patient = test_data['patient']\n",
        "    spectogram = test_data['spectogram']\n",
        "    spectogram = np.expand_dims(spectogram, axis = 0)\n",
        "    prediction = final_model.predict(spectogram)\n",
        "    prediction = np.round(prediction[0])\n",
        "    if patient not in prediction_dict:\n",
        "        prediction_dict[patient] = prediction[0]\n",
        "        amount[patient] = 1\n",
        "        keys.append(patient)\n",
        "    else:     \n",
        "        prediction_dict[patient] = prediction_dict[patient] + prediction[0]\n",
        "        amount[patient] = amount[patient] + 1\n"
      ],
      "metadata": {
        "id": "xE_qtP2kY8z4"
      },
      "execution_count": 25,
      "outputs": []
    },
    {
      "cell_type": "code",
      "source": [
        "amount_val = {}\n",
        "prediction_dict_val = {}\n",
        "keys_val = []\n",
        "\n",
        "for val_data in val_data_dict:\n",
        "    patient = val_data['patient']\n",
        "    spectogram = val_data['spectogram']\n",
        "    spectogram = np.expand_dims(spectogram, axis = 0)\n",
        "    prediction = final_model.predict(spectogram)\n",
        "    prediction = np.round(prediction[0])\n",
        "    if patient not in prediction_dict_val:\n",
        "        prediction_dict_val[patient] = prediction[0]\n",
        "        amount_val[patient] = 1\n",
        "        keys_val.append(patient)\n",
        "    else:     \n",
        "        prediction_dict_val[patient] = prediction_dict_val[patient] + prediction[0]\n",
        "        amount_val[patient] = amount_val[patient] + 1\n"
      ],
      "metadata": {
        "id": "TztmBuW4ZQqE"
      },
      "execution_count": 26,
      "outputs": []
    },
    {
      "cell_type": "code",
      "source": [
        "predicted_values = {}\n",
        "for patient in amount:\n",
        "    mean = prediction_dict[patient]/amount[patient]\n",
        "    if mean > 0.5:\n",
        "        predicted_values[patient] = 1\n",
        "    else: \n",
        "        predicted_values[patient] = 0"
      ],
      "metadata": {
        "id": "TBZO2IhNZeqo"
      },
      "execution_count": 27,
      "outputs": []
    },
    {
      "cell_type": "code",
      "source": [
        "predicted_values_val = {}\n",
        "for patient in amount_val:\n",
        "    mean = prediction_dict_val[patient]/amount_val[patient]\n",
        "    if mean > 0.5:\n",
        "        predicted_values_val[patient] = 1\n",
        "    else: \n",
        "        predicted_values_val[patient] = 0"
      ],
      "metadata": {
        "id": "gYBv-oAnZgCJ"
      },
      "execution_count": 28,
      "outputs": []
    },
    {
      "cell_type": "code",
      "source": [
        "print(predicted_values)\n",
        "print(predicted_values_val)"
      ],
      "metadata": {
        "colab": {
          "base_uri": "https://localhost:8080/"
        },
        "id": "73M59GthZlYe",
        "outputId": "73b7eb73-37a0-488e-8776-12d2a0b335a3"
      },
      "execution_count": 29,
      "outputs": [
        {
          "output_type": "stream",
          "name": "stdout",
          "text": [
            "{'PT033ENSS': 1, 'PT076_ENSS': 1, 'LA9019_ENSS': 0, 'PT109_ENSS': 0, 'NYU1007_ENSS': 1, 'LA9027_ENSS': 1, 'NYU1025_ENSS': 1, 'LA9004_ENSS': 1, 'PT054_ENSS': 1, 'SJ5004ENSS': 0, 'PT014ENSS': 1, 'PT032ENSS': 1, 'PT121_ENSS': 1, 'SJ2016_ENSS': 0, 'PT113_ENSS': 1, 'BL10_ENSS': 0, 'PT118_ENSS': 1, 'LA9015_ENSS': 0, 'BL06_ENSS': 1, 'PT017ENSS': 1, 'PT094_ENSS': 1, 'PT122_ENSS': 1, 'PT123_ENSS': 1, 'PT087_ENSS': 1, 'PT024ENSS': 1, 'NYU1018_ENSS': 1, 'BL08_ENSS': 0, 'LA7008_ENSS': 1, 'PT100_ENSS': 1, 'PT072_ENSS': 1, 'PT018ENSS': 1, 'PT046_ENSS': 1, 'Sj30003_E_NSS': 1, 'PT010ENSS': 1, 'SJ4002_eNSS': 1, 'PT080_ENSS': 1, 'NYU1020_ENSS': 1}\n",
            "{'LA9012_ENSS': 0, 'PT102_ENSS': 1, 'PT098_ENSS': 1, 'PT136_ENSS': 1, 'PT093_ENSS': 1, 'PT015ENSS': 1, 'SJ7001_ENSS': 0, 'Sj4007_eNSS': 1, 'LA9002_ENSS': 1, 'SJ5006ENSS': 1, 'Sj6004_ENSS': 1, 'LA8001_ENSS': 0, 'SJ2011_ENSS': 1, 'PT067_ENSS': 1, 'SJ4001_eNSS': 0, 'LA9014_ENSS': 1, 'PT104_ENSS': 1, 'PT038_ENSS': 1, 'SJ5002ENSS': 0, 'PT012ENSS': 1, 'LA1001ENSS': 0, 'Sj4005_eNSS': 1, 'Sj4004_eNSS': 0, 'PT129_ENSS': 1, 'LA9007_ENSS': 0, 'Sj6001_ENSS': 0, 'PT074_ENSS': 1, 'SJ2003_ENSS': 0, 'PT009_ENSS': 1, 'PT008_ENSS': 1, 'PT005_ENSS': 1, 'NYU1002_ENSS': 1, 'Sj5001ENSS': 1, 'PT047_ENSS': 1, 'LA1003ENSS': 1, 'BL13_ENSS': 1, 'SJ2012_ENSS': 1, 'PT050_ENSS': 1, 'PT051_ENSS': 1, 'PT111_ENSS': 1}\n"
          ]
        }
      ]
    },
    {
      "cell_type": "code",
      "source": [
        "path_to_protocol51 = '/content/drive/MyDrive/CS230_Code_Data/Dataset/pandas_audio_labels.pkl'\n",
        "\n",
        "with open(path_to_protocol51, \"rb\") as fh:\n",
        "  stanford = p.load(fh)"
      ],
      "metadata": {
        "id": "y1ZJ3DN-ZnWV"
      },
      "execution_count": 30,
      "outputs": []
    },
    {
      "cell_type": "code",
      "source": [
        "def find_status(Condition):\n",
        "    \"\"\"Extract the status of the patient\n",
        "    0: Normal\n",
        "    1: Pathological\"\"\"\n",
        "    Condition = str(Condition)\n",
        "    if (Condition == \"Normal\"):\n",
        "        return 0\n",
        "    else:\n",
        "        return 1"
      ],
      "metadata": {
        "id": "HCqsfpYnZoYN"
      },
      "execution_count": 31,
      "outputs": []
    },
    {
      "cell_type": "code",
      "source": [
        "def find_gt_labels(gt_labels, pandas_data, keys): \n",
        "    for index, rows in pandas_data.iterrows():\n",
        "        if rows.File_Name in keys:\n",
        "            status = find_status(rows.GRBAS_Category)\n",
        "            gt_labels[rows.File_Name] = status\n",
        "    return gt_labels"
      ],
      "metadata": {
        "id": "5Xfz-WfeZpcX"
      },
      "execution_count": 32,
      "outputs": []
    },
    {
      "cell_type": "code",
      "source": [
        "gt_labels = {}\n",
        "gt_labels = find_gt_labels(gt_labels, stanford, keys)\n",
        "\n",
        "gt_labels_val = {}\n",
        "gt_labels_val = find_gt_labels(gt_labels_val, stanford, keys_val)"
      ],
      "metadata": {
        "id": "b6UDDAM7ZqRc"
      },
      "execution_count": 33,
      "outputs": []
    },
    {
      "cell_type": "code",
      "source": [
        "print(gt_labels)\n",
        "print(predicted_values)\n",
        "\n",
        "print(gt_labels_val)\n",
        "print(predicted_values_val)"
      ],
      "metadata": {
        "colab": {
          "base_uri": "https://localhost:8080/"
        },
        "id": "bO9ngLq0ZuXb",
        "outputId": "5c4c9e4f-4cb0-4f13-f067-90d33f3bcbd8"
      },
      "execution_count": 34,
      "outputs": [
        {
          "output_type": "stream",
          "name": "stdout",
          "text": [
            "{'PT033ENSS': 0, 'PT076_ENSS': 1, 'LA9019_ENSS': 0, 'PT109_ENSS': 0, 'NYU1007_ENSS': 0, 'LA9027_ENSS': 1, 'NYU1025_ENSS': 1, 'LA9004_ENSS': 1, 'PT054_ENSS': 1, 'SJ5004ENSS': 0, 'PT014ENSS': 1, 'PT032ENSS': 1, 'PT121_ENSS': 1, 'SJ2016_ENSS': 1, 'PT113_ENSS': 0, 'BL10_ENSS': 0, 'PT118_ENSS': 1, 'LA9015_ENSS': 0, 'BL06_ENSS': 1, 'PT017ENSS': 1, 'PT094_ENSS': 1, 'PT122_ENSS': 1, 'PT123_ENSS': 1, 'PT087_ENSS': 1, 'PT024ENSS': 0, 'NYU1018_ENSS': 1, 'BL08_ENSS': 0, 'LA7008_ENSS': 1, 'PT100_ENSS': 1, 'PT072_ENSS': 1, 'PT018ENSS': 1, 'PT046_ENSS': 1, 'Sj30003_E_NSS': 1, 'PT010ENSS': 0, 'SJ4002_eNSS': 0, 'PT080_ENSS': 1, 'NYU1020_ENSS': 0}\n",
            "{'PT033ENSS': 1, 'PT076_ENSS': 1, 'LA9019_ENSS': 0, 'PT109_ENSS': 0, 'NYU1007_ENSS': 1, 'LA9027_ENSS': 1, 'NYU1025_ENSS': 1, 'LA9004_ENSS': 1, 'PT054_ENSS': 1, 'SJ5004ENSS': 0, 'PT014ENSS': 1, 'PT032ENSS': 1, 'PT121_ENSS': 1, 'SJ2016_ENSS': 0, 'PT113_ENSS': 1, 'BL10_ENSS': 0, 'PT118_ENSS': 1, 'LA9015_ENSS': 0, 'BL06_ENSS': 1, 'PT017ENSS': 1, 'PT094_ENSS': 1, 'PT122_ENSS': 1, 'PT123_ENSS': 1, 'PT087_ENSS': 1, 'PT024ENSS': 1, 'NYU1018_ENSS': 1, 'BL08_ENSS': 0, 'LA7008_ENSS': 1, 'PT100_ENSS': 1, 'PT072_ENSS': 1, 'PT018ENSS': 1, 'PT046_ENSS': 1, 'Sj30003_E_NSS': 1, 'PT010ENSS': 1, 'SJ4002_eNSS': 1, 'PT080_ENSS': 1, 'NYU1020_ENSS': 1}\n",
            "{'LA9012_ENSS': 0, 'PT102_ENSS': 1, 'PT098_ENSS': 0, 'PT136_ENSS': 1, 'PT093_ENSS': 0, 'PT015ENSS': 1, 'SJ7001_ENSS': 0, 'Sj4007_eNSS': 1, 'LA9002_ENSS': 1, 'SJ5006ENSS': 1, 'Sj6004_ENSS': 1, 'LA8001_ENSS': 1, 'SJ2011_ENSS': 0, 'PT067_ENSS': 0, 'SJ4001_eNSS': 0, 'LA9014_ENSS': 0, 'PT104_ENSS': 1, 'PT038_ENSS': 1, 'SJ5002ENSS': 1, 'PT012ENSS': 1, 'LA1001ENSS': 0, 'Sj4005_eNSS': 1, 'Sj4004_eNSS': 0, 'PT129_ENSS': 0, 'LA9007_ENSS': 1, 'Sj6001_ENSS': 0, 'PT074_ENSS': 1, 'SJ2003_ENSS': 0, 'PT009_ENSS': 1, 'PT008_ENSS': 1, 'PT005_ENSS': 0, 'NYU1002_ENSS': 1, 'Sj5001ENSS': 1, 'PT047_ENSS': 1, 'LA1003ENSS': 1, 'BL13_ENSS': 1, 'SJ2012_ENSS': 0, 'PT050_ENSS': 1, 'PT051_ENSS': 1, 'PT111_ENSS': 0}\n",
            "{'LA9012_ENSS': 0, 'PT102_ENSS': 1, 'PT098_ENSS': 1, 'PT136_ENSS': 1, 'PT093_ENSS': 1, 'PT015ENSS': 1, 'SJ7001_ENSS': 0, 'Sj4007_eNSS': 1, 'LA9002_ENSS': 1, 'SJ5006ENSS': 1, 'Sj6004_ENSS': 1, 'LA8001_ENSS': 0, 'SJ2011_ENSS': 1, 'PT067_ENSS': 1, 'SJ4001_eNSS': 0, 'LA9014_ENSS': 1, 'PT104_ENSS': 1, 'PT038_ENSS': 1, 'SJ5002ENSS': 0, 'PT012ENSS': 1, 'LA1001ENSS': 0, 'Sj4005_eNSS': 1, 'Sj4004_eNSS': 0, 'PT129_ENSS': 1, 'LA9007_ENSS': 0, 'Sj6001_ENSS': 0, 'PT074_ENSS': 1, 'SJ2003_ENSS': 0, 'PT009_ENSS': 1, 'PT008_ENSS': 1, 'PT005_ENSS': 1, 'NYU1002_ENSS': 1, 'Sj5001ENSS': 1, 'PT047_ENSS': 1, 'LA1003ENSS': 1, 'BL13_ENSS': 1, 'SJ2012_ENSS': 1, 'PT050_ENSS': 1, 'PT051_ENSS': 1, 'PT111_ENSS': 1}\n"
          ]
        }
      ]
    },
    {
      "cell_type": "code",
      "source": [
        "count = 0\n",
        "tp = 0\n",
        "tn = 0\n",
        "fp = 0\n",
        "fn = 0\n",
        "for key in predicted_values:\n",
        "    count += 1\n",
        "    our_est = predicted_values[key]\n",
        "    gt = gt_labels[key]\n",
        "    if gt == 1 and gt == our_est:\n",
        "        tp += 1\n",
        "    elif gt == 1 and gt != our_est:\n",
        "        fn += 1\n",
        "    elif gt == 0 and gt == our_est:\n",
        "        tn += 1\n",
        "    else:\n",
        "        fp += 1\n",
        "\n",
        "\n",
        "acc = (tp + tn)/count\n",
        "prec = tp/(tp + fp)\n",
        "recall = tp/(tp + fn)\n",
        "print('Accuracy for the test set is:', acc)\n",
        "print('F1 score for the test set is:', (2*prec*recall)/(prec+ recall))"
      ],
      "metadata": {
        "colab": {
          "base_uri": "https://localhost:8080/"
        },
        "id": "EL-HIDVxZw-R",
        "outputId": "aafa65fc-40bb-4c5c-d9fa-e99b47eb6186"
      },
      "execution_count": 35,
      "outputs": [
        {
          "output_type": "stream",
          "name": "stdout",
          "text": [
            "Accuracy for the test set is: 0.7837837837837838\n",
            "F1 score for the test set is: 0.8518518518518519\n"
          ]
        }
      ]
    },
    {
      "cell_type": "code",
      "source": [
        "count = 0\n",
        "tp = 0\n",
        "tn = 0\n",
        "fp = 0\n",
        "fn = 0\n",
        "for key in predicted_values_val:\n",
        "    count += 1\n",
        "    our_est = predicted_values_val[key]\n",
        "    gt = gt_labels_val[key]\n",
        "    if gt == 1 and gt == our_est:\n",
        "        tp += 1\n",
        "    elif gt == 1 and gt != our_est:\n",
        "        fn += 1\n",
        "    elif gt == 0 and gt == our_est:\n",
        "        tn += 1\n",
        "    else:\n",
        "        fp += 1\n",
        "\n",
        "\n",
        "acc = (tp + tn)/count\n",
        "prec = tp/(tp + fp)\n",
        "recall = tp/(tp + fn)\n",
        "print('Accuracy for the validaiton set is:', acc)\n",
        "print('F1 score for the validaiton set is:', (2*prec*recall)/(prec+ recall))"
      ],
      "metadata": {
        "colab": {
          "base_uri": "https://localhost:8080/"
        },
        "id": "q7QYEpSVZyQb",
        "outputId": "154af251-7302-4b2c-850e-cc1ec1252a1f"
      },
      "execution_count": 36,
      "outputs": [
        {
          "output_type": "stream",
          "name": "stdout",
          "text": [
            "Accuracy for the validaiton set is: 0.7\n",
            "F1 score for the validaiton set is: 0.7777777777777777\n"
          ]
        }
      ]
    },
    {
      "cell_type": "code",
      "source": [
        ""
      ],
      "metadata": {
        "id": "QNNg9VmvaTqK"
      },
      "execution_count": 36,
      "outputs": []
    }
  ]
}