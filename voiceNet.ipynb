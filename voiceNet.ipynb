{
  "nbformat": 4,
  "nbformat_minor": 0,
  "metadata": {
    "colab": {
      "name": "voiceNet.ipynb",
      "provenance": [],
      "collapsed_sections": []
    },
    "kernelspec": {
      "name": "python3",
      "display_name": "Python 3"
    },
    "language_info": {
      "name": "python"
    },
    "accelerator": "GPU"
  },
  "cells": [
    {
      "cell_type": "markdown",
      "source": [
        "The code is written by Emil Vardar"
      ],
      "metadata": {
        "id": "5M1ptPjKaZWC"
      }
    },
    {
      "cell_type": "code",
      "execution_count": 1,
      "metadata": {
        "colab": {
          "base_uri": "https://localhost:8080/"
        },
        "id": "TeA-tGnkSYQg",
        "outputId": "31c3284b-8ece-42de-8133-18da96b5bdcb"
      },
      "outputs": [
        {
          "output_type": "stream",
          "name": "stdout",
          "text": [
            "Mounted at /content/drive\n"
          ]
        }
      ],
      "source": [
        "from google.colab import drive\n",
        "drive.mount('/content/drive')"
      ]
    },
    {
      "cell_type": "markdown",
      "source": [
        "Import all the necessary packages"
      ],
      "metadata": {
        "id": "GAuolw55SgeQ"
      }
    },
    {
      "cell_type": "code",
      "source": [
        "from __future__ import absolute_import, division, print_function, unicode_literals\n",
        "import tensorflow as tf\n",
        "from tensorflow.keras import datasets, layers, models\n",
        "from tensorflow.keras.models import Model\n",
        "\n",
        "from tensorflow.keras.layers import Input, MaxPooling2D, Dense, Activation, ZeroPadding2D, BatchNormalization, Flatten, Conv2D\n",
        "from tensorflow.keras.layers import AveragePooling2D, Dropout, GlobalMaxPooling2D, GlobalAveragePooling2D\n",
        "from tensorflow.keras.metrics import Recall, Precision, Accuracy\n",
        "from tensorflow.keras.optimizers import Adam, SGD "
      ],
      "metadata": {
        "id": "GhYo7XCHScnn"
      },
      "execution_count": 2,
      "outputs": []
    },
    {
      "cell_type": "code",
      "source": [
        "import json\n",
        "import numpy as np\n",
        "import argparse\n",
        "import os \n",
        "from os.path import isfile, join\n",
        "import h5py\n",
        "import random\n",
        "import pickle\n",
        "!pip3 install pickle5\n",
        "import pickle5 as p\n",
        "import matplotlib.pyplot as plt"
      ],
      "metadata": {
        "colab": {
          "base_uri": "https://localhost:8080/"
        },
        "id": "EyRwTcqaSmK_",
        "outputId": "d48f541a-9780-45c9-e1dc-0b930a3f73e3"
      },
      "execution_count": 3,
      "outputs": [
        {
          "output_type": "stream",
          "name": "stdout",
          "text": [
            "Looking in indexes: https://pypi.org/simple, https://us-python.pkg.dev/colab-wheels/public/simple/\n",
            "Collecting pickle5\n",
            "  Downloading pickle5-0.0.12-cp37-cp37m-manylinux_2_5_x86_64.manylinux1_x86_64.whl (256 kB)\n",
            "\u001b[K     |████████████████████████████████| 256 kB 34.3 MB/s \n",
            "\u001b[?25hInstalling collected packages: pickle5\n",
            "Successfully installed pickle5-0.0.12\n"
          ]
        }
      ]
    },
    {
      "cell_type": "markdown",
      "source": [
        "Redefine the German dataset model so that we can load its weight properly"
      ],
      "metadata": {
        "id": "yNoLjW1kS2m8"
      }
    },
    {
      "cell_type": "code",
      "source": [
        "initializer = tf.keras.initializers.GlorotNormal() # Xavier initialization\n",
        "\n",
        "model = models.Sequential()\n",
        "\n",
        "model.add(layers.Conv2D(16, (3, 3), activation='relu', padding='same', input_shape=(224, 224, 3), name = 'conv_1', kernel_initializer=initializer))\n",
        "model.add(layers.BatchNormalization())\n",
        "model.add(layers.MaxPooling2D((2, 2)))\n",
        "\n",
        "model.add(layers.Conv2D(16, (3, 3), strides=(2, 2), activation='relu', padding='same', name = 'conv_2', kernel_initializer=initializer))\n",
        "model.add(layers.BatchNormalization())\n",
        "model.add(layers.MaxPooling2D((2, 2)))\n",
        "\n",
        "model.add(layers.Conv2D(8, (3, 3), strides=(2, 2), activation='relu', padding='same', name= 'conv_3', kernel_initializer=initializer))\n",
        "model.add(layers.BatchNormalization())\n",
        "\n",
        "model.add(layers.Conv2D(4, (3, 3), activation='relu', padding='same', name= 'conv_4'))\n",
        "model.add(layers.BatchNormalization())\n",
        "model.add(layers.Dropout(rate = 0.3))\n",
        "model.add(layers.AveragePooling2D((2, 2)))\n",
        "\n",
        "model.add(layers.Flatten())\n",
        "model.add(layers.Dense(16, activation='elu', name='Dense_layer'))\n",
        "model.add(layers.BatchNormalization())\n",
        "model.add(layers.Dropout(rate = 0.3))\n",
        "model.add(layers.Dense(1, activation='sigmoid'))"
      ],
      "metadata": {
        "id": "7vu8AMRSS2E4"
      },
      "execution_count": 4,
      "outputs": []
    },
    {
      "cell_type": "code",
      "source": [
        "model.load_weights('/content/drive/MyDrive/CS230_Code_Data/Dataset/german_model.h5')"
      ],
      "metadata": {
        "id": "cWv_741bSuYE"
      },
      "execution_count": 5,
      "outputs": []
    },
    {
      "cell_type": "markdown",
      "source": [
        "To do the transfer learning extract only the first layers of the pre-train model. More specifically take the first layers up until (and included) the 4th convolutional layer."
      ],
      "metadata": {
        "id": "v5XU_V4YS_50"
      }
    },
    {
      "cell_type": "code",
      "source": [
        "base_model = model\n",
        "prefinal_model = Model(inputs=base_model.input, outputs=base_model.get_layer('conv_4').output, name = 'prefinal_model')\n",
        "prefinal_model.summary()"
      ],
      "metadata": {
        "colab": {
          "base_uri": "https://localhost:8080/"
        },
        "id": "FnTqW8Z4Sz4O",
        "outputId": "ad1c0286-401d-4a10-fae3-f4c0686843a1"
      },
      "execution_count": 6,
      "outputs": [
        {
          "output_type": "stream",
          "name": "stdout",
          "text": [
            "Model: \"prefinal_model\"\n",
            "_________________________________________________________________\n",
            " Layer (type)                Output Shape              Param #   \n",
            "=================================================================\n",
            " conv_1_input (InputLayer)   [(None, 224, 224, 3)]     0         \n",
            "                                                                 \n",
            " conv_1 (Conv2D)             (None, 224, 224, 16)      448       \n",
            "                                                                 \n",
            " batch_normalization (BatchN  (None, 224, 224, 16)     64        \n",
            " ormalization)                                                   \n",
            "                                                                 \n",
            " max_pooling2d (MaxPooling2D  (None, 112, 112, 16)     0         \n",
            " )                                                               \n",
            "                                                                 \n",
            " conv_2 (Conv2D)             (None, 56, 56, 16)        2320      \n",
            "                                                                 \n",
            " batch_normalization_1 (Batc  (None, 56, 56, 16)       64        \n",
            " hNormalization)                                                 \n",
            "                                                                 \n",
            " max_pooling2d_1 (MaxPooling  (None, 28, 28, 16)       0         \n",
            " 2D)                                                             \n",
            "                                                                 \n",
            " conv_3 (Conv2D)             (None, 14, 14, 8)         1160      \n",
            "                                                                 \n",
            " batch_normalization_2 (Batc  (None, 14, 14, 8)        32        \n",
            " hNormalization)                                                 \n",
            "                                                                 \n",
            " conv_4 (Conv2D)             (None, 14, 14, 4)         292       \n",
            "                                                                 \n",
            "=================================================================\n",
            "Total params: 4,380\n",
            "Trainable params: 4,300\n",
            "Non-trainable params: 80\n",
            "_________________________________________________________________\n"
          ]
        }
      ]
    },
    {
      "cell_type": "markdown",
      "source": [
        "Then add new layers on top of the one given above"
      ],
      "metadata": {
        "id": "U4QtJKL6TVJ8"
      }
    },
    {
      "cell_type": "code",
      "source": [
        "X = prefinal_model.output    # x is the output of the last layer of cutted_layer (x=features on layer block4_conv3)\n",
        "\n",
        "X = Dropout(0.3)(X)\n",
        "X = BatchNormalization()(X)\n",
        "X = MaxPooling2D((2,2))(X)\n",
        "X = Flatten()(X)\n",
        "X = Dropout(0.3)(X)\n",
        "X = Dense(16, activation='elu')(X) \n",
        "#X = Dense(4, activation='elu')(X) \n",
        "prediction = Dense(1, activation='sigmoid')(X) \n"
      ],
      "metadata": {
        "id": "7rv_9AEgTTb4"
      },
      "execution_count": 7,
      "outputs": []
    },
    {
      "cell_type": "code",
      "source": [
        "final_model = Model(inputs=base_model.input, outputs=prediction, name = 'final_model')\n",
        "final_model.summary()"
      ],
      "metadata": {
        "colab": {
          "base_uri": "https://localhost:8080/"
        },
        "id": "vWjhpFuVUM0V",
        "outputId": "eeecad36-45c8-4afc-889a-7493aa31458b"
      },
      "execution_count": 8,
      "outputs": [
        {
          "output_type": "stream",
          "name": "stdout",
          "text": [
            "Model: \"final_model\"\n",
            "_________________________________________________________________\n",
            " Layer (type)                Output Shape              Param #   \n",
            "=================================================================\n",
            " conv_1_input (InputLayer)   [(None, 224, 224, 3)]     0         \n",
            "                                                                 \n",
            " conv_1 (Conv2D)             (None, 224, 224, 16)      448       \n",
            "                                                                 \n",
            " batch_normalization (BatchN  (None, 224, 224, 16)     64        \n",
            " ormalization)                                                   \n",
            "                                                                 \n",
            " max_pooling2d (MaxPooling2D  (None, 112, 112, 16)     0         \n",
            " )                                                               \n",
            "                                                                 \n",
            " conv_2 (Conv2D)             (None, 56, 56, 16)        2320      \n",
            "                                                                 \n",
            " batch_normalization_1 (Batc  (None, 56, 56, 16)       64        \n",
            " hNormalization)                                                 \n",
            "                                                                 \n",
            " max_pooling2d_1 (MaxPooling  (None, 28, 28, 16)       0         \n",
            " 2D)                                                             \n",
            "                                                                 \n",
            " conv_3 (Conv2D)             (None, 14, 14, 8)         1160      \n",
            "                                                                 \n",
            " batch_normalization_2 (Batc  (None, 14, 14, 8)        32        \n",
            " hNormalization)                                                 \n",
            "                                                                 \n",
            " conv_4 (Conv2D)             (None, 14, 14, 4)         292       \n",
            "                                                                 \n",
            " dropout_2 (Dropout)         (None, 14, 14, 4)         0         \n",
            "                                                                 \n",
            " batch_normalization_5 (Batc  (None, 14, 14, 4)        16        \n",
            " hNormalization)                                                 \n",
            "                                                                 \n",
            " max_pooling2d_2 (MaxPooling  (None, 7, 7, 4)          0         \n",
            " 2D)                                                             \n",
            "                                                                 \n",
            " flatten_1 (Flatten)         (None, 196)               0         \n",
            "                                                                 \n",
            " dropout_3 (Dropout)         (None, 196)               0         \n",
            "                                                                 \n",
            " dense_1 (Dense)             (None, 16)                3152      \n",
            "                                                                 \n",
            " dense_2 (Dense)             (None, 1)                 17        \n",
            "                                                                 \n",
            "=================================================================\n",
            "Total params: 7,565\n",
            "Trainable params: 7,477\n",
            "Non-trainable params: 88\n",
            "_________________________________________________________________\n"
          ]
        }
      ]
    },
    {
      "cell_type": "markdown",
      "source": [
        "Don't freeze any of the layers"
      ],
      "metadata": {
        "id": "YFrv-Ev4VlJ-"
      }
    },
    {
      "cell_type": "code",
      "source": [
        "for layer in prefinal_model.layers:\n",
        "    layer.trainable = True"
      ],
      "metadata": {
        "id": "YC8apUghT-3Y"
      },
      "execution_count": 9,
      "outputs": []
    },
    {
      "cell_type": "markdown",
      "source": [
        "Import the datasets that has been preprocessed. The imports are dictionaries of type:\n",
        "train_data_dict = {'spectogram:' np.array of shape (224, 224, 3), 'patient:' the id of the patient so that they are not lost, 'status:' 0(healthy) or 1(pathological)}"
      ],
      "metadata": {
        "id": "RJGGi4gwWOYb"
      }
    },
    {
      "cell_type": "code",
      "source": [
        "with open('/content/drive/MyDrive/CS230_Code_Data/train_data', 'rb') as su:\n",
        "    train_data_dict = pickle.load(su)\n",
        "\n",
        "with open('/content/drive/MyDrive/CS230_Code_Data/test_data', 'rb') as su:\n",
        "    test_data_dict = pickle.load(su)\n",
        "\n",
        "with open('/content/drive/MyDrive/CS230_Code_Data/val_data', 'rb') as su:\n",
        "    val_data_dict = pickle.load(su)\n"
      ],
      "metadata": {
        "id": "Sij0kSvkVnmE"
      },
      "execution_count": 10,
      "outputs": []
    },
    {
      "cell_type": "code",
      "source": [
        "print(len(train_data_dict))\n",
        "print(len(test_data_dict))\n",
        "print(len(val_data_dict))"
      ],
      "metadata": {
        "colab": {
          "base_uri": "https://localhost:8080/"
        },
        "id": "V5RlmBp1WsEZ",
        "outputId": "082f4cd1-a2d3-4593-e914-49c4b0c2f40e"
      },
      "execution_count": 11,
      "outputs": [
        {
          "output_type": "stream",
          "name": "stdout",
          "text": [
            "3039\n",
            "536\n",
            "566\n"
          ]
        }
      ]
    },
    {
      "cell_type": "code",
      "source": [
        "print('The ratio of the train dataset is:', len(train_data_dict)/(len(train_data_dict) + len(test_data_dict) + len(val_data_dict)))"
      ],
      "metadata": {
        "colab": {
          "base_uri": "https://localhost:8080/"
        },
        "id": "mUoEmLEJWtIr",
        "outputId": "7c17fd93-a22b-466c-fd3d-e6bfea8c5179"
      },
      "execution_count": 12,
      "outputs": [
        {
          "output_type": "stream",
          "name": "stdout",
          "text": [
            "The ratio of the train dataset is: 0.7338807051436851\n"
          ]
        }
      ]
    },
    {
      "cell_type": "markdown",
      "source": [
        "Transfor the spectograms and the status to a keras interpretable form"
      ],
      "metadata": {
        "id": "8DYj4MUYW6eW"
      }
    },
    {
      "cell_type": "code",
      "source": [
        "def matrix_creator(dataset, augment = False):\n",
        "    X = []\n",
        "    y = []\n",
        "    for person in dataset:\n",
        "        spectogram = person['spectogram'] \n",
        "        status = int(person['status'])       \n",
        "        X.append(spectogram)\n",
        "        y.append(status)\n",
        "\n",
        "    X = np.array(X)\n",
        "    y = np.array(y)\n",
        "\n",
        "    y = y.reshape((y.shape[0],1))\n",
        "    return X, y"
      ],
      "metadata": {
        "id": "63iOiFhWW2nS"
      },
      "execution_count": 13,
      "outputs": []
    },
    {
      "cell_type": "code",
      "source": [
        "train_data, train_labels = matrix_creator(train_data_dict)  \n",
        "test_data, test_labels = matrix_creator(test_data_dict)\n",
        "val_data, val_labels = matrix_creator(val_data_dict)"
      ],
      "metadata": {
        "id": "_4AzLdiXW8cb"
      },
      "execution_count": 14,
      "outputs": []
    },
    {
      "cell_type": "code",
      "source": [
        "print(train_data.shape)\n",
        "print(test_data.shape)\n",
        "print(val_data.shape)"
      ],
      "metadata": {
        "colab": {
          "base_uri": "https://localhost:8080/"
        },
        "id": "dRDsstvRXjxZ",
        "outputId": "f2fa4a77-6cdb-4d90-9bf7-007df1d0ce4b"
      },
      "execution_count": 15,
      "outputs": [
        {
          "output_type": "stream",
          "name": "stdout",
          "text": [
            "(3039, 224, 224, 3)\n",
            "(536, 224, 224, 3)\n",
            "(566, 224, 224, 3)\n"
          ]
        }
      ]
    },
    {
      "cell_type": "markdown",
      "source": [
        "See an example spectogram"
      ],
      "metadata": {
        "id": "xf9AL-UGXmcJ"
      }
    },
    {
      "cell_type": "code",
      "source": [
        "image = train_data[18]\n",
        "plt.imshow(image)\n",
        "plt.show()"
      ],
      "metadata": {
        "colab": {
          "base_uri": "https://localhost:8080/",
          "height": 269
        },
        "id": "Myqxd4FLXkuT",
        "outputId": "0bca3cae-6544-447c-9f5c-784fdf3e8743"
      },
      "execution_count": 16,
      "outputs": [
        {
          "output_type": "display_data",
          "data": {
            "text/plain": [
              "<Figure size 432x288 with 1 Axes>"
            ],
            "image/png": "[encoded data removed]"
          },
          "metadata": {
            "needs_background": "light"
          }
        }
      ]
    },
    {
      "cell_type": "markdown",
      "source": [
        "Further train the base model on the stanford dataset. \n",
        "We are using Adam as optimizer with lr=5e-5. The loss function is weighted binary cross entropy. "
      ],
      "metadata": {
        "id": "CxaBShEkXza0"
      }
    },
    {
      "cell_type": "code",
      "source": [
        "opt = Adam(learning_rate=5e-5, beta_1 = 0.9, beta_2 = 0.999)\n",
        "final_model.compile(optimizer = opt, loss='binary_crossentropy', metrics=['accuracy', Precision(), Recall()])"
      ],
      "metadata": {
        "id": "6JowR00iXqeC"
      },
      "execution_count": 17,
      "outputs": []
    },
    {
      "cell_type": "code",
      "source": [
        "history = final_model.fit(train_data, train_labels, epochs=40, batch_size=16, class_weight={0:5, 1:2}, validation_data=(val_data, val_labels))"
      ],
      "metadata": {
        "colab": {
          "base_uri": "https://localhost:8080/"
        },
        "id": "2RZ0jjgGYCGx",
        "outputId": "9234abb9-0554-4540-dbb4-8b8a1480fe76"
      },
      "execution_count": 18,
      "outputs": [
        {
          "output_type": "stream",
          "name": "stdout",
          "text": [
            "Epoch 1/40\n",
            "190/190 [==============================] - 19s 19ms/step - loss: 3.2182 - accuracy: 0.4403 - precision: 0.6159 - recall: 0.3345 - val_loss: 0.8476 - val_accuracy: 0.4046 - val_precision: 0.5370 - val_recall: 0.2493\n",
            "Epoch 2/40\n",
            "190/190 [==============================] - 3s 15ms/step - loss: 2.8578 - accuracy: 0.4567 - precision: 0.6406 - recall: 0.3453 - val_loss: 0.8429 - val_accuracy: 0.4028 - val_precision: 0.5462 - val_recall: 0.1862\n",
            "Epoch 3/40\n",
            "190/190 [==============================] - 3s 16ms/step - loss: 2.6220 - accuracy: 0.4682 - precision: 0.6562 - recall: 0.3561 - val_loss: 0.8375 - val_accuracy: 0.4011 - val_precision: 0.5641 - val_recall: 0.1261\n",
            "Epoch 4/40\n",
            "190/190 [==============================] - 3s 16ms/step - loss: 2.4762 - accuracy: 0.4715 - precision: 0.6710 - recall: 0.3428 - val_loss: 0.8310 - val_accuracy: 0.4099 - val_precision: 0.6190 - val_recall: 0.1117\n",
            "Epoch 5/40\n",
            "190/190 [==============================] - 3s 16ms/step - loss: 2.4778 - accuracy: 0.4577 - precision: 0.6536 - recall: 0.3258 - val_loss: 0.8085 - val_accuracy: 0.4134 - val_precision: 0.6232 - val_recall: 0.1232\n",
            "Epoch 6/40\n",
            "190/190 [==============================] - 3s 15ms/step - loss: 2.3392 - accuracy: 0.4890 - precision: 0.6880 - recall: 0.3695 - val_loss: 0.8139 - val_accuracy: 0.4134 - val_precision: 0.6809 - val_recall: 0.0917\n",
            "Epoch 7/40\n",
            "190/190 [==============================] - 3s 16ms/step - loss: 2.3125 - accuracy: 0.4587 - precision: 0.6553 - recall: 0.3263 - val_loss: 0.7787 - val_accuracy: 0.4382 - val_precision: 0.7067 - val_recall: 0.1519\n",
            "Epoch 8/40\n",
            "190/190 [==============================] - 3s 16ms/step - loss: 2.2270 - accuracy: 0.4910 - precision: 0.7063 - recall: 0.3510 - val_loss: 0.7635 - val_accuracy: 0.4417 - val_precision: 0.6813 - val_recall: 0.1777\n",
            "Epoch 9/40\n",
            "190/190 [==============================] - 3s 15ms/step - loss: 2.2205 - accuracy: 0.4883 - precision: 0.7051 - recall: 0.3453 - val_loss: 0.7551 - val_accuracy: 0.4664 - val_precision: 0.7831 - val_recall: 0.1862\n",
            "Epoch 10/40\n",
            "190/190 [==============================] - 3s 16ms/step - loss: 2.1455 - accuracy: 0.5117 - precision: 0.7278 - recall: 0.3792 - val_loss: 0.7434 - val_accuracy: 0.4664 - val_precision: 0.7327 - val_recall: 0.2120\n",
            "Epoch 11/40\n",
            "190/190 [==============================] - 3s 16ms/step - loss: 2.1310 - accuracy: 0.4979 - precision: 0.7165 - recall: 0.3571 - val_loss: 0.7199 - val_accuracy: 0.4700 - val_precision: 0.6899 - val_recall: 0.2550\n",
            "Epoch 12/40\n",
            "190/190 [==============================] - 3s 16ms/step - loss: 2.1260 - accuracy: 0.5156 - precision: 0.7324 - recall: 0.3839 - val_loss: 0.7234 - val_accuracy: 0.4735 - val_precision: 0.7217 - val_recall: 0.2378\n",
            "Epoch 13/40\n",
            "190/190 [==============================] - 3s 16ms/step - loss: 2.0755 - accuracy: 0.5281 - precision: 0.7476 - recall: 0.3972 - val_loss: 0.7325 - val_accuracy: 0.4859 - val_precision: 0.7900 - val_recall: 0.2264\n",
            "Epoch 14/40\n",
            "190/190 [==============================] - 3s 16ms/step - loss: 2.1101 - accuracy: 0.5222 - precision: 0.7541 - recall: 0.3767 - val_loss: 0.7150 - val_accuracy: 0.5194 - val_precision: 0.8080 - val_recall: 0.2894\n",
            "Epoch 15/40\n",
            "190/190 [==============================] - 3s 16ms/step - loss: 2.0257 - accuracy: 0.5370 - precision: 0.7682 - recall: 0.3967 - val_loss: 0.7223 - val_accuracy: 0.5035 - val_precision: 0.8400 - val_recall: 0.2407\n",
            "Epoch 16/40\n",
            "190/190 [==============================] - 3s 18ms/step - loss: 2.0325 - accuracy: 0.5334 - precision: 0.7677 - recall: 0.3890 - val_loss: 0.7015 - val_accuracy: 0.5283 - val_precision: 0.7887 - val_recall: 0.3209\n",
            "Epoch 17/40\n",
            "190/190 [==============================] - 3s 16ms/step - loss: 2.0240 - accuracy: 0.5482 - precision: 0.7828 - recall: 0.4075 - val_loss: 0.6847 - val_accuracy: 0.5654 - val_precision: 0.8047 - val_recall: 0.3897\n",
            "Epoch 18/40\n",
            "190/190 [==============================] - 3s 16ms/step - loss: 2.0542 - accuracy: 0.5423 - precision: 0.7697 - recall: 0.4070 - val_loss: 0.6925 - val_accuracy: 0.5601 - val_precision: 0.8247 - val_recall: 0.3639\n",
            "Epoch 19/40\n",
            "190/190 [==============================] - 3s 16ms/step - loss: 2.0088 - accuracy: 0.5383 - precision: 0.7718 - recall: 0.3962 - val_loss: 0.6732 - val_accuracy: 0.5654 - val_precision: 0.7943 - val_recall: 0.3983\n",
            "Epoch 20/40\n",
            "190/190 [==============================] - 3s 16ms/step - loss: 2.0063 - accuracy: 0.5502 - precision: 0.7841 - recall: 0.4106 - val_loss: 0.6706 - val_accuracy: 0.5777 - val_precision: 0.7957 - val_recall: 0.4241\n",
            "Epoch 21/40\n",
            "190/190 [==============================] - 3s 16ms/step - loss: 1.9747 - accuracy: 0.5554 - precision: 0.8014 - recall: 0.4065 - val_loss: 0.6721 - val_accuracy: 0.5760 - val_precision: 0.8011 - val_recall: 0.4155\n",
            "Epoch 22/40\n",
            "190/190 [==============================] - 3s 16ms/step - loss: 1.9995 - accuracy: 0.5482 - precision: 0.7806 - recall: 0.4096 - val_loss: 0.6655 - val_accuracy: 0.5830 - val_precision: 0.8229 - val_recall: 0.4126\n",
            "Epoch 23/40\n",
            "190/190 [==============================] - 3s 16ms/step - loss: 1.9555 - accuracy: 0.5607 - precision: 0.7940 - recall: 0.4239 - val_loss: 0.6655 - val_accuracy: 0.5883 - val_precision: 0.8580 - val_recall: 0.3983\n",
            "Epoch 24/40\n",
            "190/190 [==============================] - 3s 17ms/step - loss: 1.9442 - accuracy: 0.5673 - precision: 0.8197 - recall: 0.4157 - val_loss: 0.6442 - val_accuracy: 0.6025 - val_precision: 0.7870 - val_recall: 0.4871\n",
            "Epoch 25/40\n",
            "190/190 [==============================] - 3s 16ms/step - loss: 1.9320 - accuracy: 0.5726 - precision: 0.8108 - recall: 0.4337 - val_loss: 0.6535 - val_accuracy: 0.5989 - val_precision: 0.8211 - val_recall: 0.4470\n",
            "Epoch 26/40\n",
            "190/190 [==============================] - 3s 16ms/step - loss: 1.9526 - accuracy: 0.5660 - precision: 0.8000 - recall: 0.4296 - val_loss: 0.6565 - val_accuracy: 0.6095 - val_precision: 0.8404 - val_recall: 0.4527\n",
            "Epoch 27/40\n",
            "190/190 [==============================] - 3s 16ms/step - loss: 1.9217 - accuracy: 0.5801 - precision: 0.8143 - recall: 0.4460 - val_loss: 0.6581 - val_accuracy: 0.5954 - val_precision: 0.8371 - val_recall: 0.4269\n",
            "Epoch 28/40\n",
            "190/190 [==============================] - 3s 16ms/step - loss: 1.9167 - accuracy: 0.5857 - precision: 0.8160 - recall: 0.4558 - val_loss: 0.6474 - val_accuracy: 0.6025 - val_precision: 0.8370 - val_recall: 0.4413\n",
            "Epoch 29/40\n",
            "190/190 [==============================] - 3s 16ms/step - loss: 1.9003 - accuracy: 0.5778 - precision: 0.8234 - recall: 0.4337 - val_loss: 0.6520 - val_accuracy: 0.6060 - val_precision: 0.8424 - val_recall: 0.4441\n",
            "Epoch 30/40\n",
            "190/190 [==============================] - 3s 16ms/step - loss: 1.8954 - accuracy: 0.5870 - precision: 0.8319 - recall: 0.4450 - val_loss: 0.6102 - val_accuracy: 0.6466 - val_precision: 0.7651 - val_recall: 0.6160\n",
            "Epoch 31/40\n",
            "190/190 [==============================] - 3s 16ms/step - loss: 1.9120 - accuracy: 0.5824 - precision: 0.8196 - recall: 0.4460 - val_loss: 0.6434 - val_accuracy: 0.6113 - val_precision: 0.8486 - val_recall: 0.4499\n",
            "Epoch 32/40\n",
            "190/190 [==============================] - 3s 16ms/step - loss: 1.9136 - accuracy: 0.5824 - precision: 0.8131 - recall: 0.4517 - val_loss: 0.6212 - val_accuracy: 0.6254 - val_precision: 0.7866 - val_recall: 0.5387\n",
            "Epoch 33/40\n",
            "190/190 [==============================] - 3s 16ms/step - loss: 1.9197 - accuracy: 0.5768 - precision: 0.8179 - recall: 0.4363 - val_loss: 0.6326 - val_accuracy: 0.6254 - val_precision: 0.8216 - val_recall: 0.5014\n",
            "Epoch 34/40\n",
            "190/190 [==============================] - 3s 17ms/step - loss: 1.8548 - accuracy: 0.6012 - precision: 0.8349 - recall: 0.4702 - val_loss: 0.6324 - val_accuracy: 0.6184 - val_precision: 0.8308 - val_recall: 0.4785\n",
            "Epoch 35/40\n",
            "190/190 [==============================] - 3s 16ms/step - loss: 1.8460 - accuracy: 0.5969 - precision: 0.8385 - recall: 0.4589 - val_loss: 0.6449 - val_accuracy: 0.6113 - val_precision: 0.8486 - val_recall: 0.4499\n",
            "Epoch 36/40\n",
            "190/190 [==============================] - 3s 16ms/step - loss: 1.8697 - accuracy: 0.5828 - precision: 0.8210 - recall: 0.4455 - val_loss: 0.6259 - val_accuracy: 0.6254 - val_precision: 0.8246 - val_recall: 0.4986\n",
            "Epoch 37/40\n",
            "190/190 [==============================] - 3s 16ms/step - loss: 1.8411 - accuracy: 0.5979 - precision: 0.8352 - recall: 0.4635 - val_loss: 0.6577 - val_accuracy: 0.6131 - val_precision: 0.8693 - val_recall: 0.4384\n",
            "Epoch 38/40\n",
            "190/190 [==============================] - 3s 17ms/step - loss: 1.8539 - accuracy: 0.5956 - precision: 0.8347 - recall: 0.4594 - val_loss: 0.6094 - val_accuracy: 0.6608 - val_precision: 0.7875 - val_recall: 0.6160\n",
            "Epoch 39/40\n",
            "190/190 [==============================] - 3s 16ms/step - loss: 1.8481 - accuracy: 0.6078 - precision: 0.8390 - recall: 0.4794 - val_loss: 0.6572 - val_accuracy: 0.6078 - val_precision: 0.8896 - val_recall: 0.4155\n",
            "Epoch 40/40\n",
            "190/190 [==============================] - 3s 16ms/step - loss: 1.8438 - accuracy: 0.6094 - precision: 0.8491 - recall: 0.4743 - val_loss: 0.6469 - val_accuracy: 0.6166 - val_precision: 0.8667 - val_recall: 0.4470\n"
          ]
        }
      ]
    },
    {
      "cell_type": "code",
      "source": [
        "acc_first_train = history.history[\"accuracy\"]\n",
        "acc_first_val = history.history[\"val_accuracy\"]"
      ],
      "metadata": {
        "id": "EWQTWtDAYCo5"
      },
      "execution_count": 19,
      "outputs": []
    },
    {
      "cell_type": "markdown",
      "source": [
        "Further train the model by decreasing the learning rate to 1e-5 and decreasing the weights for the weighted binary cross entropy function"
      ],
      "metadata": {
        "id": "9bgDbQ2NYH4F"
      }
    },
    {
      "cell_type": "code",
      "source": [
        "opt = Adam(learning_rate=1e-5, beta_1 = 0.9, beta_2 = 0.999) # decrease the learning rate and run for 20 more epochs\n",
        "history = final_model.fit(train_data, train_labels, epochs=40, batch_size=16, class_weight={0:3.5, 1:2}, validation_data=(val_data, val_labels))"
      ],
      "metadata": {
        "colab": {
          "base_uri": "https://localhost:8080/"
        },
        "id": "EkyrLH4xYG7J",
        "outputId": "de2e783e-de89-4339-bf6c-3fad9d29df45"
      },
      "execution_count": 20,
      "outputs": [
        {
          "output_type": "stream",
          "name": "stdout",
          "text": [
            "Epoch 1/40\n",
            "190/190 [==============================] - 4s 18ms/step - loss: 1.5751 - accuracy: 0.6311 - precision: 0.8004 - recall: 0.5647 - val_loss: 0.5910 - val_accuracy: 0.6572 - val_precision: 0.7429 - val_recall: 0.6791\n",
            "Epoch 2/40\n",
            "190/190 [==============================] - 3s 17ms/step - loss: 1.5535 - accuracy: 0.6584 - precision: 0.7952 - recall: 0.6285 - val_loss: 0.5898 - val_accuracy: 0.6749 - val_precision: 0.7723 - val_recall: 0.6705\n",
            "Epoch 3/40\n",
            "190/190 [==============================] - 3s 16ms/step - loss: 1.5455 - accuracy: 0.6433 - precision: 0.7904 - recall: 0.6028 - val_loss: 0.5920 - val_accuracy: 0.6678 - val_precision: 0.7710 - val_recall: 0.6562\n",
            "Epoch 4/40\n",
            "190/190 [==============================] - 3s 16ms/step - loss: 1.5267 - accuracy: 0.6581 - precision: 0.7898 - recall: 0.6351 - val_loss: 0.5937 - val_accuracy: 0.6643 - val_precision: 0.7829 - val_recall: 0.6304\n",
            "Epoch 5/40\n",
            "190/190 [==============================] - 3s 16ms/step - loss: 1.5588 - accuracy: 0.6555 - precision: 0.7948 - recall: 0.6228 - val_loss: 0.5895 - val_accuracy: 0.6572 - val_precision: 0.7524 - val_recall: 0.6619\n",
            "Epoch 6/40\n",
            "190/190 [==============================] - 3s 16ms/step - loss: 1.5216 - accuracy: 0.6637 - precision: 0.8097 - recall: 0.6208 - val_loss: 0.5881 - val_accuracy: 0.6731 - val_precision: 0.7193 - val_recall: 0.7708\n",
            "Epoch 7/40\n",
            "190/190 [==============================] - 3s 16ms/step - loss: 1.5043 - accuracy: 0.6703 - precision: 0.8026 - recall: 0.6434 - val_loss: 0.6001 - val_accuracy: 0.6590 - val_precision: 0.7708 - val_recall: 0.6361\n",
            "Epoch 8/40\n",
            "190/190 [==============================] - 3s 16ms/step - loss: 1.5289 - accuracy: 0.6581 - precision: 0.7928 - recall: 0.6310 - val_loss: 0.5929 - val_accuracy: 0.6643 - val_precision: 0.7770 - val_recall: 0.6390\n",
            "Epoch 9/40\n",
            "190/190 [==============================] - 3s 16ms/step - loss: 1.5069 - accuracy: 0.6703 - precision: 0.8130 - recall: 0.6300 - val_loss: 0.5980 - val_accuracy: 0.6696 - val_precision: 0.8045 - val_recall: 0.6132\n",
            "Epoch 10/40\n",
            "190/190 [==============================] - 3s 16ms/step - loss: 1.5135 - accuracy: 0.6607 - precision: 0.7977 - recall: 0.6300 - val_loss: 0.5910 - val_accuracy: 0.6714 - val_precision: 0.7801 - val_recall: 0.6504\n",
            "Epoch 11/40\n",
            "190/190 [==============================] - 3s 16ms/step - loss: 1.5001 - accuracy: 0.6630 - precision: 0.7967 - recall: 0.6362 - val_loss: 0.5898 - val_accuracy: 0.6696 - val_precision: 0.7812 - val_recall: 0.6447\n",
            "Epoch 12/40\n",
            "190/190 [==============================] - 3s 16ms/step - loss: 1.5001 - accuracy: 0.6673 - precision: 0.8098 - recall: 0.6280 - val_loss: 0.5863 - val_accuracy: 0.6731 - val_precision: 0.7808 - val_recall: 0.6533\n",
            "Epoch 13/40\n",
            "190/190 [==============================] - 3s 16ms/step - loss: 1.5092 - accuracy: 0.6772 - precision: 0.8060 - recall: 0.6531 - val_loss: 0.5806 - val_accuracy: 0.6820 - val_precision: 0.7600 - val_recall: 0.7077\n",
            "Epoch 14/40\n",
            "190/190 [==============================] - 3s 16ms/step - loss: 1.5259 - accuracy: 0.6637 - precision: 0.7984 - recall: 0.6351 - val_loss: 0.5973 - val_accuracy: 0.6625 - val_precision: 0.7883 - val_recall: 0.6189\n",
            "Epoch 15/40\n",
            "190/190 [==============================] - 3s 16ms/step - loss: 1.5062 - accuracy: 0.6696 - precision: 0.8043 - recall: 0.6398 - val_loss: 0.5864 - val_accuracy: 0.6855 - val_precision: 0.8043 - val_recall: 0.6476\n",
            "Epoch 16/40\n",
            "190/190 [==============================] - 3s 16ms/step - loss: 1.4889 - accuracy: 0.6808 - precision: 0.8185 - recall: 0.6444 - val_loss: 0.5813 - val_accuracy: 0.6731 - val_precision: 0.7356 - val_recall: 0.7335\n",
            "Epoch 17/40\n",
            "190/190 [==============================] - 3s 16ms/step - loss: 1.4707 - accuracy: 0.6762 - precision: 0.8132 - recall: 0.6418 - val_loss: 0.5840 - val_accuracy: 0.6837 - val_precision: 0.7815 - val_recall: 0.6762\n",
            "Epoch 18/40\n",
            "190/190 [==============================] - 3s 16ms/step - loss: 1.4949 - accuracy: 0.6772 - precision: 0.8037 - recall: 0.6562 - val_loss: 0.5759 - val_accuracy: 0.6731 - val_precision: 0.7579 - val_recall: 0.6905\n",
            "Epoch 19/40\n",
            "190/190 [==============================] - 3s 16ms/step - loss: 1.4786 - accuracy: 0.6808 - precision: 0.8157 - recall: 0.6480 - val_loss: 0.5808 - val_accuracy: 0.6837 - val_precision: 0.7760 - val_recall: 0.6848\n",
            "Epoch 20/40\n",
            "190/190 [==============================] - 3s 16ms/step - loss: 1.4628 - accuracy: 0.6815 - precision: 0.8030 - recall: 0.6660 - val_loss: 0.5848 - val_accuracy: 0.6837 - val_precision: 0.8080 - val_recall: 0.6390\n",
            "Epoch 21/40\n",
            "190/190 [==============================] - 3s 16ms/step - loss: 1.4783 - accuracy: 0.6762 - precision: 0.8119 - recall: 0.6434 - val_loss: 0.5780 - val_accuracy: 0.6802 - val_precision: 0.7745 - val_recall: 0.6791\n",
            "Epoch 22/40\n",
            "190/190 [==============================] - 3s 16ms/step - loss: 1.4679 - accuracy: 0.6680 - precision: 0.8009 - recall: 0.6408 - val_loss: 0.5782 - val_accuracy: 0.6802 - val_precision: 0.8000 - val_recall: 0.6418\n",
            "Epoch 23/40\n",
            "190/190 [==============================] - 3s 16ms/step - loss: 1.4865 - accuracy: 0.6772 - precision: 0.8111 - recall: 0.6465 - val_loss: 0.5683 - val_accuracy: 0.6890 - val_precision: 0.7409 - val_recall: 0.7622\n",
            "Epoch 24/40\n",
            "190/190 [==============================] - 3s 16ms/step - loss: 1.4811 - accuracy: 0.6775 - precision: 0.8165 - recall: 0.6403 - val_loss: 0.5690 - val_accuracy: 0.6908 - val_precision: 0.7939 - val_recall: 0.6734\n",
            "Epoch 25/40\n",
            "190/190 [==============================] - 3s 17ms/step - loss: 1.4631 - accuracy: 0.6802 - precision: 0.8074 - recall: 0.6572 - val_loss: 0.5852 - val_accuracy: 0.6890 - val_precision: 0.8078 - val_recall: 0.6504\n",
            "Epoch 26/40\n",
            "190/190 [==============================] - 3s 16ms/step - loss: 1.4528 - accuracy: 0.6769 - precision: 0.8138 - recall: 0.6423 - val_loss: 0.5735 - val_accuracy: 0.6784 - val_precision: 0.7239 - val_recall: 0.7736\n",
            "Epoch 27/40\n",
            "190/190 [==============================] - 3s 16ms/step - loss: 1.4363 - accuracy: 0.7019 - precision: 0.8279 - recall: 0.6747 - val_loss: 0.5709 - val_accuracy: 0.6855 - val_precision: 0.7395 - val_recall: 0.7564\n",
            "Epoch 28/40\n",
            "190/190 [==============================] - 3s 16ms/step - loss: 1.4716 - accuracy: 0.6927 - precision: 0.8147 - recall: 0.6732 - val_loss: 0.5880 - val_accuracy: 0.6890 - val_precision: 0.8240 - val_recall: 0.6304\n",
            "Epoch 29/40\n",
            "190/190 [==============================] - 3s 16ms/step - loss: 1.4594 - accuracy: 0.6884 - precision: 0.8204 - recall: 0.6572 - val_loss: 0.5871 - val_accuracy: 0.6855 - val_precision: 0.8132 - val_recall: 0.6361\n",
            "Epoch 30/40\n",
            "190/190 [==============================] - 3s 17ms/step - loss: 1.4621 - accuracy: 0.6779 - precision: 0.8009 - recall: 0.6614 - val_loss: 0.5953 - val_accuracy: 0.6802 - val_precision: 0.8256 - val_recall: 0.6103\n",
            "Epoch 31/40\n",
            "190/190 [==============================] - 3s 16ms/step - loss: 1.4492 - accuracy: 0.6923 - precision: 0.8255 - recall: 0.6588 - val_loss: 0.5711 - val_accuracy: 0.6820 - val_precision: 0.7435 - val_recall: 0.7393\n",
            "Epoch 32/40\n",
            "190/190 [==============================] - 3s 17ms/step - loss: 1.4441 - accuracy: 0.6976 - precision: 0.8223 - recall: 0.6732 - val_loss: 0.5729 - val_accuracy: 0.6873 - val_precision: 0.7739 - val_recall: 0.6963\n",
            "Epoch 33/40\n",
            "190/190 [==============================] - 3s 16ms/step - loss: 1.4343 - accuracy: 0.6956 - precision: 0.8185 - recall: 0.6742 - val_loss: 0.5770 - val_accuracy: 0.6873 - val_precision: 0.7739 - val_recall: 0.6963\n",
            "Epoch 34/40\n",
            "190/190 [==============================] - 3s 16ms/step - loss: 1.4428 - accuracy: 0.6927 - precision: 0.8248 - recall: 0.6603 - val_loss: 0.5631 - val_accuracy: 0.6873 - val_precision: 0.7590 - val_recall: 0.7221\n",
            "Epoch 35/40\n",
            "190/190 [==============================] - 3s 17ms/step - loss: 1.4484 - accuracy: 0.6953 - precision: 0.8176 - recall: 0.6747 - val_loss: 0.5640 - val_accuracy: 0.6908 - val_precision: 0.7472 - val_recall: 0.7536\n",
            "Epoch 36/40\n",
            "190/190 [==============================] - 3s 17ms/step - loss: 1.4395 - accuracy: 0.6927 - precision: 0.8235 - recall: 0.6619 - val_loss: 0.5614 - val_accuracy: 0.6873 - val_precision: 0.7402 - val_recall: 0.7593\n",
            "Epoch 37/40\n",
            "190/190 [==============================] - 3s 17ms/step - loss: 1.4455 - accuracy: 0.6936 - precision: 0.8158 - recall: 0.6737 - val_loss: 0.5698 - val_accuracy: 0.6908 - val_precision: 0.7605 - val_recall: 0.7278\n",
            "Epoch 38/40\n",
            "190/190 [==============================] - 3s 16ms/step - loss: 1.4345 - accuracy: 0.6940 - precision: 0.8232 - recall: 0.6650 - val_loss: 0.5657 - val_accuracy: 0.7014 - val_precision: 0.7761 - val_recall: 0.7249\n",
            "Epoch 39/40\n",
            "190/190 [==============================] - 3s 17ms/step - loss: 1.4278 - accuracy: 0.6923 - precision: 0.8146 - recall: 0.6727 - val_loss: 0.5723 - val_accuracy: 0.6926 - val_precision: 0.7946 - val_recall: 0.6762\n",
            "Epoch 40/40\n",
            "190/190 [==============================] - 3s 16ms/step - loss: 1.4162 - accuracy: 0.6989 - precision: 0.8252 - recall: 0.6721 - val_loss: 0.5610 - val_accuracy: 0.7014 - val_precision: 0.7885 - val_recall: 0.7049\n"
          ]
        }
      ]
    },
    {
      "cell_type": "code",
      "source": [
        "acc_second_train = history.history[\"accuracy\"]\n",
        "acc_second_val = history.history[\"val_accuracy\"]"
      ],
      "metadata": {
        "id": "LQ86IvApYcQz"
      },
      "execution_count": 21,
      "outputs": []
    },
    {
      "cell_type": "markdown",
      "source": [
        "Let's look at the accuracy and F1 score for when the chunks in the test set is seen as individuals. Observe that the test set accuracy here is much lower after we have processed the chunks together to indicate whether one patient has pathological voice or not"
      ],
      "metadata": {
        "id": "cn07OnICYe9I"
      }
    },
    {
      "cell_type": "code",
      "source": [
        "test_loss, test_acc, test_prec, test_recall = final_model.evaluate(test_data, test_labels)\n",
        "print('acc:', test_acc)\n",
        "print('recall:', test_recall)\n",
        "print('precision:', test_prec)\n"
      ],
      "metadata": {
        "colab": {
          "base_uri": "https://localhost:8080/"
        },
        "id": "Guf06qRdYdNd",
        "outputId": "92531263-84ec-4a5b-d875-b1432cdc1d09"
      },
      "execution_count": 22,
      "outputs": [
        {
          "output_type": "stream",
          "name": "stdout",
          "text": [
            "17/17 [==============================] - 0s 14ms/step - loss: 0.5135 - accuracy: 0.7537 - precision: 0.8295 - recall: 0.7972\n",
            "acc: 0.753731369972229\n",
            "recall: 0.7972221970558167\n",
            "precision: 0.8294797539710999\n"
          ]
        }
      ]
    },
    {
      "cell_type": "code",
      "source": [
        "import matplotlib.pyplot as plt\n",
        "\n",
        "f = plt.figure(figsize=(10,6))\n",
        "acc_train = acc_first_train + acc_second_train\n",
        "acc_val = acc_first_val + acc_second_val\n",
        "plt.plot(acc_train, label=\"train accuracy\")\n",
        "plt.plot(acc_val, label=\"val accuracy\")\n",
        "plt.xlabel('epoch', fontsize=14)\n",
        "plt.ylabel('accuracy', fontsize=14)\n",
        "plt.title('accuracy history', fontsize=14)\n",
        "plt.legend(fontsize='large')\n",
        "\n",
        "f.savefig('accuracy_history.pdf', bbox_inches='tight')"
      ],
      "metadata": {
        "colab": {
          "base_uri": "https://localhost:8080/",
          "height": 409
        },
        "id": "D8TPuSUBYwRs",
        "outputId": "87a15b83-3c02-43ef-b640-ad6fbb45a391"
      },
      "execution_count": 23,
      "outputs": [
        {
          "output_type": "display_data",
          "data": {
            "text/plain": [
              "<Figure size 720x432 with 1 Axes>"
            ],
            "image/png": "[encoded data removed]"
          },
          "metadata": {
            "needs_background": "light"
          }
        }
      ]
    },
    {
      "cell_type": "markdown",
      "source": [
        "Process the chunks together so that they indicate if one person is pathological or not. Do it also for the validaiton dataset so that we have 2 differnet results. Observe that the code given below is quite bad and unnecesarily complicated. However, since we did not have enough time left on the project, we could not make it more efficient. "
      ],
      "metadata": {
        "id": "dDtyxFpPY_4s"
      }
    },
    {
      "cell_type": "code",
      "source": [
        "amount = {}\n",
        "prediction_dict = {}\n",
        "keys = []\n",
        "\n",
        "for test_data in test_data_dict:\n",
        "    patient = test_data['patient']\n",
        "    spectogram = test_data['spectogram']\n",
        "    spectogram = np.expand_dims(spectogram, axis = 0)\n",
        "    prediction = final_model.predict(spectogram)\n",
        "    prediction = np.round(prediction[0])\n",
        "    if patient not in prediction_dict:\n",
        "        prediction_dict[patient] = prediction[0]\n",
        "        amount[patient] = 1\n",
        "        keys.append(patient)\n",
        "    else:     \n",
        "        prediction_dict[patient] = prediction_dict[patient] + prediction[0]\n",
        "        amount[patient] = amount[patient] + 1\n"
      ],
      "metadata": {
        "id": "xE_qtP2kY8z4"
      },
      "execution_count": 24,
      "outputs": []
    },
    {
      "cell_type": "code",
      "source": [
        "amount_val = {}\n",
        "prediction_dict_val = {}\n",
        "keys_val = []\n",
        "\n",
        "for val_data in val_data_dict:\n",
        "    patient = val_data['patient']\n",
        "    spectogram = val_data['spectogram']\n",
        "    spectogram = np.expand_dims(spectogram, axis = 0)\n",
        "    prediction = final_model.predict(spectogram)\n",
        "    prediction = np.round(prediction[0])\n",
        "    if patient not in prediction_dict_val:\n",
        "        prediction_dict_val[patient] = prediction[0]\n",
        "        amount_val[patient] = 1\n",
        "        keys_val.append(patient)\n",
        "    else:     \n",
        "        prediction_dict_val[patient] = prediction_dict_val[patient] + prediction[0]\n",
        "        amount_val[patient] = amount_val[patient] + 1\n"
      ],
      "metadata": {
        "id": "TztmBuW4ZQqE"
      },
      "execution_count": 25,
      "outputs": []
    },
    {
      "cell_type": "code",
      "source": [
        "predicted_values = {}\n",
        "for patient in amount:\n",
        "    mean = prediction_dict[patient]/amount[patient]\n",
        "    if mean > 0.5:\n",
        "        predicted_values[patient] = 1\n",
        "    else: \n",
        "        predicted_values[patient] = 0"
      ],
      "metadata": {
        "id": "TBZO2IhNZeqo"
      },
      "execution_count": 26,
      "outputs": []
    },
    {
      "cell_type": "code",
      "source": [
        "predicted_values_val = {}\n",
        "for patient in amount_val:\n",
        "    mean = prediction_dict_val[patient]/amount_val[patient]\n",
        "    if mean > 0.5:\n",
        "        predicted_values_val[patient] = 1\n",
        "    else: \n",
        "        predicted_values_val[patient] = 0"
      ],
      "metadata": {
        "id": "gYBv-oAnZgCJ"
      },
      "execution_count": 27,
      "outputs": []
    },
    {
      "cell_type": "code",
      "source": [
        "print(predicted_values)\n",
        "print(predicted_values_val)"
      ],
      "metadata": {
        "colab": {
          "base_uri": "https://localhost:8080/"
        },
        "id": "73M59GthZlYe",
        "outputId": "2dd7b3a1-0340-4e80-c227-8011777bff92"
      },
      "execution_count": 28,
      "outputs": [
        {
          "output_type": "stream",
          "name": "stdout",
          "text": [
            "{'PT033ENSS': 1, 'PT076_ENSS': 1, 'LA9019_ENSS': 0, 'PT109_ENSS': 0, 'NYU1007_ENSS': 0, 'LA9027_ENSS': 0, 'NYU1025_ENSS': 1, 'LA9004_ENSS': 1, 'PT054_ENSS': 1, 'SJ5004ENSS': 0, 'PT014ENSS': 1, 'PT032ENSS': 1, 'PT121_ENSS': 1, 'SJ2016_ENSS': 1, 'PT113_ENSS': 0, 'BL10_ENSS': 0, 'PT118_ENSS': 1, 'LA9015_ENSS': 0, 'BL06_ENSS': 1, 'PT017ENSS': 1, 'PT094_ENSS': 1, 'PT122_ENSS': 1, 'PT123_ENSS': 1, 'PT087_ENSS': 1, 'PT024ENSS': 0, 'NYU1018_ENSS': 1, 'BL08_ENSS': 0, 'LA7008_ENSS': 0, 'PT100_ENSS': 1, 'PT072_ENSS': 1, 'PT018ENSS': 1, 'PT046_ENSS': 1, 'Sj30003_E_NSS': 0, 'PT010ENSS': 1, 'SJ4002_eNSS': 0, 'PT080_ENSS': 0, 'NYU1020_ENSS': 1}\n",
            "{'LA9012_ENSS': 0, 'PT102_ENSS': 0, 'PT098_ENSS': 1, 'PT136_ENSS': 1, 'PT093_ENSS': 1, 'PT015ENSS': 1, 'SJ7001_ENSS': 0, 'Sj4007_eNSS': 0, 'LA9002_ENSS': 1, 'SJ5006ENSS': 1, 'Sj6004_ENSS': 0, 'LA8001_ENSS': 0, 'SJ2011_ENSS': 0, 'PT067_ENSS': 0, 'SJ4001_eNSS': 0, 'LA9014_ENSS': 0, 'PT104_ENSS': 1, 'PT038_ENSS': 1, 'SJ5002ENSS': 0, 'PT012ENSS': 1, 'LA1001ENSS': 0, 'Sj4005_eNSS': 1, 'Sj4004_eNSS': 0, 'PT129_ENSS': 0, 'LA9007_ENSS': 0, 'Sj6001_ENSS': 0, 'PT074_ENSS': 1, 'SJ2003_ENSS': 0, 'PT009_ENSS': 1, 'PT008_ENSS': 1, 'PT005_ENSS': 0, 'NYU1002_ENSS': 1, 'Sj5001ENSS': 1, 'PT047_ENSS': 1, 'LA1003ENSS': 1, 'BL13_ENSS': 0, 'SJ2012_ENSS': 0, 'PT050_ENSS': 1, 'PT051_ENSS': 1, 'PT111_ENSS': 1}\n"
          ]
        }
      ]
    },
    {
      "cell_type": "code",
      "source": [
        "path_to_protocol51 = '/content/drive/MyDrive/CS230_Code_Data/Dataset/pandas_audio_labels.pkl'\n",
        "\n",
        "with open(path_to_protocol51, \"rb\") as fh:\n",
        "  stanford = p.load(fh)"
      ],
      "metadata": {
        "id": "y1ZJ3DN-ZnWV"
      },
      "execution_count": 29,
      "outputs": []
    },
    {
      "cell_type": "code",
      "source": [
        "def find_status(Condition):\n",
        "    \"\"\"Extract the status of the patient\n",
        "    0: Normal\n",
        "    1: Pathological\"\"\"\n",
        "    Condition = str(Condition)\n",
        "    if (Condition == \"Normal\"):\n",
        "        return 0\n",
        "    else:\n",
        "        return 1"
      ],
      "metadata": {
        "id": "HCqsfpYnZoYN"
      },
      "execution_count": 30,
      "outputs": []
    },
    {
      "cell_type": "code",
      "source": [
        "def find_gt_labels(gt_labels, pandas_data, keys): \n",
        "    for index, rows in pandas_data.iterrows():\n",
        "        if rows.File_Name in keys:\n",
        "            status = find_status(rows.GRBAS_Category)\n",
        "            gt_labels[rows.File_Name] = status\n",
        "    return gt_labels"
      ],
      "metadata": {
        "id": "5Xfz-WfeZpcX"
      },
      "execution_count": 31,
      "outputs": []
    },
    {
      "cell_type": "code",
      "source": [
        "gt_labels = {}\n",
        "gt_labels = find_gt_labels(gt_labels, stanford, keys)\n",
        "\n",
        "gt_labels_val = {}\n",
        "gt_labels_val = find_gt_labels(gt_labels_val, stanford, keys_val)"
      ],
      "metadata": {
        "id": "b6UDDAM7ZqRc"
      },
      "execution_count": 32,
      "outputs": []
    },
    {
      "cell_type": "code",
      "source": [
        "print(gt_labels)\n",
        "print(predicted_values)\n",
        "\n",
        "print(gt_labels_val)\n",
        "print(predicted_values_val)"
      ],
      "metadata": {
        "colab": {
          "base_uri": "https://localhost:8080/"
        },
        "id": "bO9ngLq0ZuXb",
        "outputId": "62a5fc59-93ec-4227-a68d-000feba080a4"
      },
      "execution_count": 33,
      "outputs": [
        {
          "output_type": "stream",
          "name": "stdout",
          "text": [
            "{'PT033ENSS': 0, 'PT076_ENSS': 1, 'LA9019_ENSS': 0, 'PT109_ENSS': 0, 'NYU1007_ENSS': 0, 'LA9027_ENSS': 1, 'NYU1025_ENSS': 1, 'LA9004_ENSS': 1, 'PT054_ENSS': 1, 'SJ5004ENSS': 0, 'PT014ENSS': 1, 'PT032ENSS': 1, 'PT121_ENSS': 1, 'SJ2016_ENSS': 1, 'PT113_ENSS': 0, 'BL10_ENSS': 0, 'PT118_ENSS': 1, 'LA9015_ENSS': 0, 'BL06_ENSS': 1, 'PT017ENSS': 1, 'PT094_ENSS': 1, 'PT122_ENSS': 1, 'PT123_ENSS': 1, 'PT087_ENSS': 1, 'PT024ENSS': 0, 'NYU1018_ENSS': 1, 'BL08_ENSS': 0, 'LA7008_ENSS': 1, 'PT100_ENSS': 1, 'PT072_ENSS': 1, 'PT018ENSS': 1, 'PT046_ENSS': 1, 'Sj30003_E_NSS': 1, 'PT010ENSS': 0, 'SJ4002_eNSS': 0, 'PT080_ENSS': 1, 'NYU1020_ENSS': 0}\n",
            "{'PT033ENSS': 1, 'PT076_ENSS': 1, 'LA9019_ENSS': 0, 'PT109_ENSS': 0, 'NYU1007_ENSS': 0, 'LA9027_ENSS': 0, 'NYU1025_ENSS': 1, 'LA9004_ENSS': 1, 'PT054_ENSS': 1, 'SJ5004ENSS': 0, 'PT014ENSS': 1, 'PT032ENSS': 1, 'PT121_ENSS': 1, 'SJ2016_ENSS': 1, 'PT113_ENSS': 0, 'BL10_ENSS': 0, 'PT118_ENSS': 1, 'LA9015_ENSS': 0, 'BL06_ENSS': 1, 'PT017ENSS': 1, 'PT094_ENSS': 1, 'PT122_ENSS': 1, 'PT123_ENSS': 1, 'PT087_ENSS': 1, 'PT024ENSS': 0, 'NYU1018_ENSS': 1, 'BL08_ENSS': 0, 'LA7008_ENSS': 0, 'PT100_ENSS': 1, 'PT072_ENSS': 1, 'PT018ENSS': 1, 'PT046_ENSS': 1, 'Sj30003_E_NSS': 0, 'PT010ENSS': 1, 'SJ4002_eNSS': 0, 'PT080_ENSS': 0, 'NYU1020_ENSS': 1}\n",
            "{'LA9012_ENSS': 0, 'PT102_ENSS': 1, 'PT098_ENSS': 0, 'PT136_ENSS': 1, 'PT093_ENSS': 0, 'PT015ENSS': 1, 'SJ7001_ENSS': 0, 'Sj4007_eNSS': 1, 'LA9002_ENSS': 1, 'SJ5006ENSS': 1, 'Sj6004_ENSS': 1, 'LA8001_ENSS': 1, 'SJ2011_ENSS': 0, 'PT067_ENSS': 0, 'SJ4001_eNSS': 0, 'LA9014_ENSS': 0, 'PT104_ENSS': 1, 'PT038_ENSS': 1, 'SJ5002ENSS': 1, 'PT012ENSS': 1, 'LA1001ENSS': 0, 'Sj4005_eNSS': 1, 'Sj4004_eNSS': 0, 'PT129_ENSS': 0, 'LA9007_ENSS': 1, 'Sj6001_ENSS': 0, 'PT074_ENSS': 1, 'SJ2003_ENSS': 0, 'PT009_ENSS': 1, 'PT008_ENSS': 1, 'PT005_ENSS': 0, 'NYU1002_ENSS': 1, 'Sj5001ENSS': 1, 'PT047_ENSS': 1, 'LA1003ENSS': 1, 'BL13_ENSS': 1, 'SJ2012_ENSS': 0, 'PT050_ENSS': 1, 'PT051_ENSS': 1, 'PT111_ENSS': 0}\n",
            "{'LA9012_ENSS': 0, 'PT102_ENSS': 0, 'PT098_ENSS': 1, 'PT136_ENSS': 1, 'PT093_ENSS': 1, 'PT015ENSS': 1, 'SJ7001_ENSS': 0, 'Sj4007_eNSS': 0, 'LA9002_ENSS': 1, 'SJ5006ENSS': 1, 'Sj6004_ENSS': 0, 'LA8001_ENSS': 0, 'SJ2011_ENSS': 0, 'PT067_ENSS': 0, 'SJ4001_eNSS': 0, 'LA9014_ENSS': 0, 'PT104_ENSS': 1, 'PT038_ENSS': 1, 'SJ5002ENSS': 0, 'PT012ENSS': 1, 'LA1001ENSS': 0, 'Sj4005_eNSS': 1, 'Sj4004_eNSS': 0, 'PT129_ENSS': 0, 'LA9007_ENSS': 0, 'Sj6001_ENSS': 0, 'PT074_ENSS': 1, 'SJ2003_ENSS': 0, 'PT009_ENSS': 1, 'PT008_ENSS': 1, 'PT005_ENSS': 0, 'NYU1002_ENSS': 1, 'Sj5001ENSS': 1, 'PT047_ENSS': 1, 'LA1003ENSS': 1, 'BL13_ENSS': 0, 'SJ2012_ENSS': 0, 'PT050_ENSS': 1, 'PT051_ENSS': 1, 'PT111_ENSS': 1}\n"
          ]
        }
      ]
    },
    {
      "cell_type": "code",
      "source": [
        "count = 0\n",
        "tp = 0\n",
        "tn = 0\n",
        "fp = 0\n",
        "fn = 0\n",
        "for key in predicted_values:\n",
        "    count += 1\n",
        "    our_est = predicted_values[key]\n",
        "    gt = gt_labels[key]\n",
        "    if gt == 1 and gt == our_est:\n",
        "        tp += 1\n",
        "    elif gt == 1 and gt != our_est:\n",
        "        fn += 1\n",
        "    elif gt == 0 and gt == our_est:\n",
        "        tn += 1\n",
        "    else:\n",
        "        fp += 1\n",
        "\n",
        "\n",
        "acc = (tp + tn)/count\n",
        "prec = tp/(tp + fp)\n",
        "recall = tp/(tp + fn)\n",
        "print('Accuracy for the test set is:', acc)\n",
        "print('F1 score for the test set is:', (2*prec*recall)/(prec+ recall))"
      ],
      "metadata": {
        "colab": {
          "base_uri": "https://localhost:8080/"
        },
        "id": "EL-HIDVxZw-R",
        "outputId": "20c49976-326b-4bdf-e316-b0af20c74475"
      },
      "execution_count": 34,
      "outputs": [
        {
          "output_type": "stream",
          "name": "stdout",
          "text": [
            "Accuracy for the test set is: 0.8108108108108109\n",
            "F1 score for the test set is: 0.851063829787234\n"
          ]
        }
      ]
    },
    {
      "cell_type": "code",
      "source": [
        "count = 0\n",
        "tp = 0\n",
        "tn = 0\n",
        "fp = 0\n",
        "fn = 0\n",
        "for key in predicted_values_val:\n",
        "    count += 1\n",
        "    our_est = predicted_values_val[key]\n",
        "    gt = gt_labels_val[key]\n",
        "    if gt == 1 and gt == our_est:\n",
        "        tp += 1\n",
        "    elif gt == 1 and gt != our_est:\n",
        "        fn += 1\n",
        "    elif gt == 0 and gt == our_est:\n",
        "        tn += 1\n",
        "    else:\n",
        "        fp += 1\n",
        "\n",
        "\n",
        "acc = (tp + tn)/count\n",
        "prec = tp/(tp + fp)\n",
        "recall = tp/(tp + fn)\n",
        "print('Accuracy for the validaiton set is:', acc)\n",
        "print('F1 score for the validaiton set is:', (2*prec*recall)/(prec+ recall))"
      ],
      "metadata": {
        "colab": {
          "base_uri": "https://localhost:8080/"
        },
        "id": "q7QYEpSVZyQb",
        "outputId": "2cc894fa-90d3-44fb-8e5a-e2bfe01c94f7"
      },
      "execution_count": 35,
      "outputs": [
        {
          "output_type": "stream",
          "name": "stdout",
          "text": [
            "Accuracy for the validaiton set is: 0.75\n",
            "F1 score for the validaiton set is: 0.7727272727272727\n"
          ]
        }
      ]
    },
    {
      "cell_type": "code",
      "source": [
        ""
      ],
      "metadata": {
        "id": "QNNg9VmvaTqK"
      },
      "execution_count": 35,
      "outputs": []
    }
  ]
}