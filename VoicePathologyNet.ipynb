{
  "nbformat": 4,
  "nbformat_minor": 0,
  "metadata": {
    "colab": {
      "name": "VERY GOOD NO COLOR CHANGE.ipynb",
      "provenance": [],
      "collapsed_sections": [
        "TxEhNnHi9AdF",
        "C0FewxCO9G5v",
        "BB-pdFCv9SB-"
      ]
    },
    "kernelspec": {
      "name": "python3",
      "display_name": "Python 3"
    },
    "language_info": {
      "name": "python"
    }
  },
  "cells": [
    {
      "cell_type": "code",
      "source": [
        "from google.colab import drive\n",
        "drive.mount('/content/drive')"
      ],
      "metadata": {
        "id": "i-i3H_EpqKvl",
        "colab": {
          "base_uri": "https://localhost:8080/"
        },
        "outputId": "ca54ea12-592c-414b-8ae3-02480516a6ef"
      },
      "execution_count": null,
      "outputs": [
        {
          "output_type": "stream",
          "name": "stdout",
          "text": [
            "Mounted at /content/drive\n"
          ]
        }
      ]
    },
    {
      "cell_type": "markdown",
      "source": [
        "# **Import all the necessary packages**"
      ],
      "metadata": {
        "id": "TxEhNnHi9AdF"
      }
    },
    {
      "cell_type": "code",
      "execution_count": null,
      "metadata": {
        "id": "v_pmpR1I96gS"
      },
      "outputs": [],
      "source": [
        "from __future__ import absolute_import, division, print_function, unicode_literals\n",
        "import tensorflow as tf\n",
        "from tensorflow.keras import datasets, layers, models\n",
        "from tensorflow.keras.models import Model"
      ]
    },
    {
      "cell_type": "markdown",
      "source": [
        "Test whether the GPU is active or not"
      ],
      "metadata": {
        "id": "GZEEE4cKvcEc"
      }
    },
    {
      "cell_type": "code",
      "source": [
        "print(\"Num GPUs Available: \", len(tf.config.list_physical_devices('GPU')))"
      ],
      "metadata": {
        "id": "mqw-zSBy_GZG",
        "colab": {
          "base_uri": "https://localhost:8080/"
        },
        "outputId": "d1e843f2-f39f-45a7-e6bc-ca1ecb357856"
      },
      "execution_count": null,
      "outputs": [
        {
          "output_type": "stream",
          "name": "stdout",
          "text": [
            "Num GPUs Available:  1\n"
          ]
        }
      ]
    },
    {
      "cell_type": "code",
      "source": [
        "from keras.preprocessing import image as image_utils\n",
        "from keras.applications.imagenet_utils import decode_predictions\n",
        "from keras.applications.imagenet_utils import preprocess_input\n",
        "from keras.applications.efficientnet import EfficientNetB0\n",
        "from tensorflow.keras.layers import Input, MaxPooling2D, Dense, Activation, ZeroPadding2D, BatchNormalization, Flatten, Conv2D\n",
        "from tensorflow.keras.layers import AveragePooling2D, Dropout, GlobalMaxPooling2D, GlobalAveragePooling2D\n",
        "from tensorflow.keras.metrics import Recall, Precision, Accuracy\n",
        "from tensorflow.keras.optimizers import Adam, SGD "
      ],
      "metadata": {
        "id": "2MwQ6EVy-GK4"
      },
      "execution_count": null,
      "outputs": []
    },
    {
      "cell_type": "code",
      "source": [
        "import json\n",
        "import numpy as np\n",
        "import pandas as pd\n",
        "import argparse\n",
        "import os \n",
        "from os.path import isfile, join\n",
        "from random import shuffle\n",
        "from PIL import Image\n",
        "import pandas as pd\n",
        "import imageio\n",
        "import matplotlib.pyplot as plt\n",
        "from scipy.io import wavfile\n",
        "import h5py\n",
        "import random\n",
        "import pickle\n",
        "!pip3 install pickle5\n",
        "import pickle5 as p\n",
        "from sklearn.model_selection import train_test_split\n"
      ],
      "metadata": {
        "id": "6jfkKKpf_HrI",
        "colab": {
          "base_uri": "https://localhost:8080/"
        },
        "outputId": "01427174-2197-4067-ee35-9b465294ec99"
      },
      "execution_count": null,
      "outputs": [
        {
          "output_type": "stream",
          "name": "stdout",
          "text": [
            "Looking in indexes: https://pypi.org/simple, https://us-python.pkg.dev/colab-wheels/public/simple/\n",
            "Collecting pickle5\n",
            "  Downloading pickle5-0.0.12-cp37-cp37m-manylinux_2_5_x86_64.manylinux1_x86_64.whl (256 kB)\n",
            "\u001b[K     |████████████████████████████████| 256 kB 13.7 MB/s \n",
            "\u001b[?25hInstalling collected packages: pickle5\n",
            "Successfully installed pickle5-0.0.12\n"
          ]
        }
      ]
    },
    {
      "cell_type": "code",
      "source": [
        "print(\"TF version is:\",tf.__version__)\n",
        "print(\"h5py version is:\",h5py.__version__)"
      ],
      "metadata": {
        "id": "3nM6xqb_-Lva",
        "colab": {
          "base_uri": "https://localhost:8080/"
        },
        "outputId": "963d9e7d-680e-494c-d83e-b6f1b23c2b84"
      },
      "execution_count": null,
      "outputs": [
        {
          "output_type": "stream",
          "name": "stdout",
          "text": [
            "TF version is: 2.8.0\n",
            "h5py version is: 3.1.0\n"
          ]
        }
      ]
    },
    {
      "cell_type": "markdown",
      "source": [
        "# **Load the german dataset that has already been separated to train/set/val sets. Observe that the same patient will be in the same dataset**"
      ],
      "metadata": {
        "id": "C0FewxCO9G5v"
      }
    },
    {
      "cell_type": "code",
      "source": [
        "with open('/content/drive/MyDrive/CS230_Code_Data/OLD/german_data_correctly_split_train.json', 'rb') as fp:\n",
        "    dataset_train = pickle.load(fp)\n",
        "\n",
        "with open('/content/drive/MyDrive/CS230_Code_Data/OLD/german_data_correctly_split_val.json', 'rb') as fp:\n",
        "    dataset_val = pickle.load(fp)\n",
        "\n",
        "with open('/content/drive/MyDrive/CS230_Code_Data/OLD/german_data_correctly_split_test.json', 'rb') as fp:\n",
        "    dataset_test = pickle.load(fp)"
      ],
      "metadata": {
        "id": "bqQ6SACTslmV"
      },
      "execution_count": null,
      "outputs": []
    },
    {
      "cell_type": "code",
      "source": [
        "def create_dataset(dataset):\n",
        "    X = []\n",
        "    y = []\n",
        "\n",
        "    for person in dataset:\n",
        "        spectogram = person['spectogram']  #/np.float32(255)\n",
        "        status = int(person['status'])   # Look whether the person is pathalogical or not\n",
        "        X.append(spectogram)\n",
        "        y.append(status)\n",
        "\n",
        "    X = np.array(X)\n",
        "    y = np.array(y)\n",
        "\n",
        "    y = y.reshape((len(dataset),1))\n",
        "    #X = X.reshape((296, 28, 28, 1))\n",
        "    print('X shape: ', X.shape, ',y shape: ', y.shape)\n",
        "    return X, y"
      ],
      "metadata": {
        "id": "mIMJ_ufiAE-y"
      },
      "execution_count": null,
      "outputs": []
    },
    {
      "cell_type": "code",
      "source": [
        "train_data, train_label = create_dataset(dataset_train)\n",
        "test_data, test_label = create_dataset(dataset_test)\n",
        "val_data, val_label = create_dataset(dataset_val)"
      ],
      "metadata": {
        "colab": {
          "base_uri": "https://localhost:8080/"
        },
        "id": "diLoiEzRFaP2",
        "outputId": "8a804379-3c7a-4f4b-ea19-eb8f25988314"
      },
      "execution_count": null,
      "outputs": [
        {
          "output_type": "stream",
          "name": "stdout",
          "text": [
            "X shape:  (2912, 224, 224, 3) ,y shape:  (2912, 1)\n",
            "X shape:  (550, 224, 224, 3) ,y shape:  (550, 1)\n",
            "X shape:  (620, 224, 224, 3) ,y shape:  (620, 1)\n"
          ]
        }
      ]
    },
    {
      "cell_type": "markdown",
      "source": [
        "# **Construct the model**"
      ],
      "metadata": {
        "id": "BB-pdFCv9SB-"
      }
    },
    {
      "cell_type": "code",
      "source": [
        "# WHAT TO DO? CHANGE THIS TO THE FORM IN https://www.coursera.org/learn/convolutional-neural-networks/ungradedLab/mMcLP/keras-tutorial-not-graded/lab?path=%2Fnotebooks%2Fweek2%2FKerasTutorial%2FKeras_Tutorial_v2a.ipynb\n",
        "\n",
        "###\n",
        "\n",
        "initializer = tf.keras.initializers.GlorotNormal() # Xavier initialization\n",
        "\n",
        "model = models.Sequential()\n",
        "\n",
        "model.add(layers.Conv2D(16, (3, 3), activation='relu', padding='same', input_shape=(224, 224, 3), name = 'conv_1', kernel_initializer=initializer))\n",
        "model.add(layers.BatchNormalization())\n",
        "model.add(layers.MaxPooling2D((2, 2)))\n",
        "\n",
        "model.add(layers.Conv2D(16, (3, 3), strides=(2, 2), activation='relu', padding='same', name = 'conv_2', kernel_initializer=initializer))\n",
        "model.add(layers.BatchNormalization())\n",
        "model.add(layers.MaxPooling2D((2, 2)))\n",
        "\n",
        "model.add(layers.Conv2D(8, (3, 3), strides=(2, 2), activation='relu', padding='same', name= 'conv_3', kernel_initializer=initializer))\n",
        "model.add(layers.BatchNormalization())\n",
        "\n",
        "model.add(layers.Conv2D(4, (3, 3), activation='relu', padding='same', name= 'conv_4'))\n",
        "model.add(layers.BatchNormalization())\n",
        "model.add(layers.Dropout(rate = 0.3))\n",
        "model.add(layers.AveragePooling2D((2, 2)))\n",
        "\n",
        "model.add(layers.Flatten())\n",
        "model.add(layers.BatchNormalization())\n",
        "model.add(layers.Dropout(rate = 0.3))\n",
        "\n",
        "model.add(layers.Dense(16, activation='elu', name='Dense_layer'))\n",
        "model.add(layers.BatchNormalization())\n",
        "model.add(layers.Dropout(rate = 0.3))\n",
        "model.add(layers.Dense(1, activation='sigmoid'))\n",
        "\n",
        "model.summary()\n",
        "\n",
        "###"
      ],
      "metadata": {
        "colab": {
          "base_uri": "https://localhost:8080/"
        },
        "id": "SDYuIb4S5T0d",
        "outputId": "df01c1c0-ae59-4fc8-90a2-cdb749c1c529"
      },
      "execution_count": null,
      "outputs": [
        {
          "output_type": "stream",
          "name": "stdout",
          "text": [
            "Model: \"sequential\"\n",
            "_________________________________________________________________\n",
            " Layer (type)                Output Shape              Param #   \n",
            "=================================================================\n",
            " conv_1 (Conv2D)             (None, 224, 224, 16)      448       \n",
            "                                                                 \n",
            " batch_normalization (BatchN  (None, 224, 224, 16)     64        \n",
            " ormalization)                                                   \n",
            "                                                                 \n",
            " max_pooling2d (MaxPooling2D  (None, 112, 112, 16)     0         \n",
            " )                                                               \n",
            "                                                                 \n",
            " conv_2 (Conv2D)             (None, 56, 56, 16)        2320      \n",
            "                                                                 \n",
            " batch_normalization_1 (Batc  (None, 56, 56, 16)       64        \n",
            " hNormalization)                                                 \n",
            "                                                                 \n",
            " max_pooling2d_1 (MaxPooling  (None, 28, 28, 16)       0         \n",
            " 2D)                                                             \n",
            "                                                                 \n",
            " conv_3 (Conv2D)             (None, 14, 14, 8)         1160      \n",
            "                                                                 \n",
            " batch_normalization_2 (Batc  (None, 14, 14, 8)        32        \n",
            " hNormalization)                                                 \n",
            "                                                                 \n",
            " conv_4 (Conv2D)             (None, 14, 14, 4)         292       \n",
            "                                                                 \n",
            " batch_normalization_3 (Batc  (None, 14, 14, 4)        16        \n",
            " hNormalization)                                                 \n",
            "                                                                 \n",
            " dropout (Dropout)           (None, 14, 14, 4)         0         \n",
            "                                                                 \n",
            " average_pooling2d (AverageP  (None, 7, 7, 4)          0         \n",
            " ooling2D)                                                       \n",
            "                                                                 \n",
            " flatten (Flatten)           (None, 196)               0         \n",
            "                                                                 \n",
            " batch_normalization_4 (Batc  (None, 196)              784       \n",
            " hNormalization)                                                 \n",
            "                                                                 \n",
            " dropout_1 (Dropout)         (None, 196)               0         \n",
            "                                                                 \n",
            " Dense_layer (Dense)         (None, 16)                3152      \n",
            "                                                                 \n",
            " batch_normalization_5 (Batc  (None, 16)               64        \n",
            " hNormalization)                                                 \n",
            "                                                                 \n",
            " dropout_2 (Dropout)         (None, 16)                0         \n",
            "                                                                 \n",
            " dense (Dense)               (None, 1)                 17        \n",
            "                                                                 \n",
            "=================================================================\n",
            "Total params: 8,413\n",
            "Trainable params: 7,901\n",
            "Non-trainable params: 512\n",
            "_________________________________________________________________\n"
          ]
        }
      ]
    },
    {
      "cell_type": "markdown",
      "source": [
        "# **Compile the model and train the german dataset**"
      ],
      "metadata": {
        "id": "jZKDClnW9V7S"
      }
    },
    {
      "cell_type": "code",
      "source": [
        "opt = Adam(learning_rate=5e-5)#, decay = 0.9)\n",
        "model.compile(optimizer= opt, loss='binary_crossentropy', metrics=['accuracy', Precision(), Recall()])"
      ],
      "metadata": {
        "id": "gnQcy76RAMOV"
      },
      "execution_count": null,
      "outputs": []
    },
    {
      "cell_type": "code",
      "source": [
        "# Finaly fit the data\n",
        "history = model.fit(train_data, train_label, epochs=40, validation_data=(val_data,val_label), class_weight={0:1.5, 1:1}) # May be increase epochs since the val loss still is decreasing"
      ],
      "metadata": {
        "colab": {
          "base_uri": "https://localhost:8080/"
        },
        "id": "hGV2DLfycRYS",
        "outputId": "3fddb7a6-9560-47e9-84c8-70f64c68fa15"
      },
      "execution_count": null,
      "outputs": [
        {
          "output_type": "stream",
          "name": "stdout",
          "text": [
            "Epoch 1/40\n",
            "91/91 [==============================] - 17s 33ms/step - loss: 1.0845 - accuracy: 0.5003 - precision: 0.6556 - recall: 0.4968 - val_loss: 0.6548 - val_accuracy: 0.6210 - val_precision: 0.7076 - val_recall: 0.7900\n",
            "Epoch 2/40\n",
            "91/91 [==============================] - 2s 27ms/step - loss: 1.0224 - accuracy: 0.5240 - precision: 0.6799 - recall: 0.5142 - val_loss: 0.6232 - val_accuracy: 0.6855 - val_precision: 0.7113 - val_recall: 0.9338\n",
            "Epoch 3/40\n",
            "91/91 [==============================] - 2s 27ms/step - loss: 1.0055 - accuracy: 0.5354 - precision: 0.6850 - recall: 0.5357 - val_loss: 0.6476 - val_accuracy: 0.6468 - val_precision: 0.7126 - val_recall: 0.8379\n",
            "Epoch 4/40\n",
            "91/91 [==============================] - 2s 27ms/step - loss: 1.0056 - accuracy: 0.5196 - precision: 0.6724 - recall: 0.5173 - val_loss: 0.6772 - val_accuracy: 0.5597 - val_precision: 0.7132 - val_recall: 0.6301\n",
            "Epoch 5/40\n",
            "91/91 [==============================] - 2s 27ms/step - loss: 0.9817 - accuracy: 0.5495 - precision: 0.6973 - recall: 0.5494 - val_loss: 0.7187 - val_accuracy: 0.5097 - val_precision: 0.7204 - val_recall: 0.5000\n",
            "Epoch 6/40\n",
            "91/91 [==============================] - 2s 27ms/step - loss: 0.9801 - accuracy: 0.5505 - precision: 0.6951 - recall: 0.5567 - val_loss: 0.7405 - val_accuracy: 0.5065 - val_precision: 0.7463 - val_recall: 0.4566\n",
            "Epoch 7/40\n",
            "91/91 [==============================] - 2s 27ms/step - loss: 0.9408 - accuracy: 0.5573 - precision: 0.6965 - recall: 0.5725 - val_loss: 0.7097 - val_accuracy: 0.5323 - val_precision: 0.7418 - val_recall: 0.5183\n",
            "Epoch 8/40\n",
            "91/91 [==============================] - 2s 27ms/step - loss: 0.9488 - accuracy: 0.5553 - precision: 0.7013 - recall: 0.5572 - val_loss: 0.7538 - val_accuracy: 0.5129 - val_precision: 0.7764 - val_recall: 0.4361\n",
            "Epoch 9/40\n",
            "91/91 [==============================] - 2s 25ms/step - loss: 0.9578 - accuracy: 0.5515 - precision: 0.6942 - recall: 0.5614 - val_loss: 0.7038 - val_accuracy: 0.5355 - val_precision: 0.7301 - val_recall: 0.5434\n",
            "Epoch 10/40\n",
            "91/91 [==============================] - 2s 26ms/step - loss: 0.9444 - accuracy: 0.5515 - precision: 0.6980 - recall: 0.5536 - val_loss: 0.6735 - val_accuracy: 0.5855 - val_precision: 0.7413 - val_recall: 0.6347\n",
            "Epoch 11/40\n",
            "91/91 [==============================] - 3s 28ms/step - loss: 0.8877 - accuracy: 0.5718 - precision: 0.7135 - recall: 0.5767 - val_loss: 0.6727 - val_accuracy: 0.5806 - val_precision: 0.7380 - val_recall: 0.6301\n",
            "Epoch 12/40\n",
            "91/91 [==============================] - 2s 26ms/step - loss: 0.8986 - accuracy: 0.5656 - precision: 0.7057 - recall: 0.5756 - val_loss: 0.6599 - val_accuracy: 0.6048 - val_precision: 0.7431 - val_recall: 0.6735\n",
            "Epoch 13/40\n",
            "91/91 [==============================] - 2s 26ms/step - loss: 0.8876 - accuracy: 0.5807 - precision: 0.7185 - recall: 0.5898 - val_loss: 0.6483 - val_accuracy: 0.6242 - val_precision: 0.7458 - val_recall: 0.7100\n",
            "Epoch 14/40\n",
            "91/91 [==============================] - 2s 26ms/step - loss: 0.8782 - accuracy: 0.5783 - precision: 0.7183 - recall: 0.5840 - val_loss: 0.6671 - val_accuracy: 0.5952 - val_precision: 0.7467 - val_recall: 0.6461\n",
            "Epoch 15/40\n",
            "91/91 [==============================] - 2s 26ms/step - loss: 0.8814 - accuracy: 0.5862 - precision: 0.7236 - recall: 0.5940 - val_loss: 0.6900 - val_accuracy: 0.5694 - val_precision: 0.7493 - val_recall: 0.5868\n",
            "Epoch 16/40\n",
            "91/91 [==============================] - 2s 26ms/step - loss: 0.8371 - accuracy: 0.6037 - precision: 0.7422 - recall: 0.6035 - val_loss: 0.6428 - val_accuracy: 0.6016 - val_precision: 0.7324 - val_recall: 0.6872\n",
            "Epoch 17/40\n",
            "91/91 [==============================] - 3s 28ms/step - loss: 0.8654 - accuracy: 0.5924 - precision: 0.7270 - recall: 0.6029 - val_loss: 0.7248 - val_accuracy: 0.5452 - val_precision: 0.7727 - val_recall: 0.5046\n",
            "Epoch 18/40\n",
            "91/91 [==============================] - 2s 26ms/step - loss: 0.8714 - accuracy: 0.5838 - precision: 0.7215 - recall: 0.5919 - val_loss: 0.6730 - val_accuracy: 0.5790 - val_precision: 0.7565 - val_recall: 0.5959\n",
            "Epoch 19/40\n",
            "91/91 [==============================] - 3s 28ms/step - loss: 0.8536 - accuracy: 0.5927 - precision: 0.7258 - recall: 0.6061 - val_loss: 0.6527 - val_accuracy: 0.6065 - val_precision: 0.7513 - val_recall: 0.6621\n",
            "Epoch 20/40\n",
            "91/91 [==============================] - 2s 26ms/step - loss: 0.8373 - accuracy: 0.6078 - precision: 0.7436 - recall: 0.6108 - val_loss: 0.6225 - val_accuracy: 0.6548 - val_precision: 0.7424 - val_recall: 0.7831\n",
            "Epoch 21/40\n",
            "91/91 [==============================] - 2s 26ms/step - loss: 0.8526 - accuracy: 0.5999 - precision: 0.7265 - recall: 0.6224 - val_loss: 0.6348 - val_accuracy: 0.6242 - val_precision: 0.7470 - val_recall: 0.7078\n",
            "Epoch 22/40\n",
            "91/91 [==============================] - 2s 26ms/step - loss: 0.8253 - accuracy: 0.6075 - precision: 0.7407 - recall: 0.6150 - val_loss: 0.6799 - val_accuracy: 0.5887 - val_precision: 0.7668 - val_recall: 0.6005\n",
            "Epoch 23/40\n",
            "91/91 [==============================] - 2s 26ms/step - loss: 0.8135 - accuracy: 0.6277 - precision: 0.7563 - recall: 0.6355 - val_loss: 0.6495 - val_accuracy: 0.6032 - val_precision: 0.7513 - val_recall: 0.6553\n",
            "Epoch 24/40\n",
            "91/91 [==============================] - 2s 26ms/step - loss: 0.8289 - accuracy: 0.6068 - precision: 0.7434 - recall: 0.6087 - val_loss: 0.6532 - val_accuracy: 0.6048 - val_precision: 0.7615 - val_recall: 0.6416\n",
            "Epoch 25/40\n",
            "91/91 [==============================] - 2s 26ms/step - loss: 0.8163 - accuracy: 0.6051 - precision: 0.7429 - recall: 0.6056 - val_loss: 0.6503 - val_accuracy: 0.6048 - val_precision: 0.7601 - val_recall: 0.6438\n",
            "Epoch 26/40\n",
            "91/91 [==============================] - 2s 27ms/step - loss: 0.8276 - accuracy: 0.6157 - precision: 0.7383 - recall: 0.6387 - val_loss: 0.6370 - val_accuracy: 0.6129 - val_precision: 0.7463 - val_recall: 0.6849\n",
            "Epoch 27/40\n",
            "91/91 [==============================] - 2s 27ms/step - loss: 0.8093 - accuracy: 0.6205 - precision: 0.7480 - recall: 0.6329 - val_loss: 0.7000 - val_accuracy: 0.5597 - val_precision: 0.7778 - val_recall: 0.5274\n",
            "Epoch 28/40\n",
            "91/91 [==============================] - 3s 28ms/step - loss: 0.8161 - accuracy: 0.6092 - precision: 0.7330 - recall: 0.6329 - val_loss: 0.7074 - val_accuracy: 0.5613 - val_precision: 0.7823 - val_recall: 0.5251\n",
            "Epoch 29/40\n",
            "91/91 [==============================] - 2s 26ms/step - loss: 0.8113 - accuracy: 0.6123 - precision: 0.7405 - recall: 0.6266 - val_loss: 0.6645 - val_accuracy: 0.6032 - val_precision: 0.7743 - val_recall: 0.6187\n",
            "Epoch 30/40\n",
            "91/91 [==============================] - 2s 26ms/step - loss: 0.8061 - accuracy: 0.6216 - precision: 0.7491 - recall: 0.6334 - val_loss: 0.6485 - val_accuracy: 0.6194 - val_precision: 0.7760 - val_recall: 0.6484\n",
            "Epoch 31/40\n",
            "91/91 [==============================] - 2s 26ms/step - loss: 0.8113 - accuracy: 0.6198 - precision: 0.7428 - recall: 0.6402 - val_loss: 0.6471 - val_accuracy: 0.6000 - val_precision: 0.7527 - val_recall: 0.6461\n",
            "Epoch 32/40\n",
            "91/91 [==============================] - 2s 26ms/step - loss: 0.7950 - accuracy: 0.6260 - precision: 0.7514 - recall: 0.6397 - val_loss: 0.6501 - val_accuracy: 0.6000 - val_precision: 0.7582 - val_recall: 0.6370\n",
            "Epoch 33/40\n",
            "91/91 [==============================] - 2s 27ms/step - loss: 0.8024 - accuracy: 0.6298 - precision: 0.7488 - recall: 0.6528 - val_loss: 0.6317 - val_accuracy: 0.6323 - val_precision: 0.7734 - val_recall: 0.6781\n",
            "Epoch 34/40\n",
            "91/91 [==============================] - 2s 26ms/step - loss: 0.7828 - accuracy: 0.6391 - precision: 0.7615 - recall: 0.6523 - val_loss: 0.6368 - val_accuracy: 0.6145 - val_precision: 0.7639 - val_recall: 0.6575\n",
            "Epoch 35/40\n",
            "91/91 [==============================] - 2s 26ms/step - loss: 0.7894 - accuracy: 0.6264 - precision: 0.7485 - recall: 0.6455 - val_loss: 0.6309 - val_accuracy: 0.6242 - val_precision: 0.7733 - val_recall: 0.6621\n",
            "Epoch 36/40\n",
            "91/91 [==============================] - 2s 27ms/step - loss: 0.7850 - accuracy: 0.6240 - precision: 0.7459 - recall: 0.6444 - val_loss: 0.6051 - val_accuracy: 0.6645 - val_precision: 0.7533 - val_recall: 0.7808\n",
            "Epoch 37/40\n",
            "91/91 [==============================] - 2s 27ms/step - loss: 0.7740 - accuracy: 0.6374 - precision: 0.7598 - recall: 0.6513 - val_loss: 0.6578 - val_accuracy: 0.6000 - val_precision: 0.7794 - val_recall: 0.6050\n",
            "Epoch 38/40\n",
            "91/91 [==============================] - 2s 26ms/step - loss: 0.7775 - accuracy: 0.6391 - precision: 0.7522 - recall: 0.6681 - val_loss: 0.6624 - val_accuracy: 0.5823 - val_precision: 0.7720 - val_recall: 0.5799\n",
            "Epoch 39/40\n",
            "91/91 [==============================] - 2s 26ms/step - loss: 0.7890 - accuracy: 0.6298 - precision: 0.7512 - recall: 0.6486 - val_loss: 0.6558 - val_accuracy: 0.5968 - val_precision: 0.7765 - val_recall: 0.6027\n",
            "Epoch 40/40\n",
            "91/91 [==============================] - 2s 26ms/step - loss: 0.7588 - accuracy: 0.6439 - precision: 0.7597 - recall: 0.6660 - val_loss: 0.6124 - val_accuracy: 0.6532 - val_precision: 0.7661 - val_recall: 0.7329\n"
          ]
        }
      ]
    },
    {
      "cell_type": "code",
      "source": [
        "acc_first_train = history.history[\"accuracy\"]\n",
        "acc_first_val = history.history[\"val_accuracy\"]"
      ],
      "metadata": {
        "id": "fs11qsy_LhcW"
      },
      "execution_count": null,
      "outputs": []
    },
    {
      "cell_type": "code",
      "source": [
        "# Change the weights and fit again\n",
        "history = model.fit(train_data, train_label, epochs=40, validation_data=(val_data,val_label), class_weight={0:1.2, 1:1}) # May be increase epochs since the val loss still is decreasing"
      ],
      "metadata": {
        "id": "i16TiPeUEt4e",
        "colab": {
          "base_uri": "https://localhost:8080/"
        },
        "outputId": "bc4fc676-48b7-4a61-c265-32041d873a6b"
      },
      "execution_count": null,
      "outputs": [
        {
          "output_type": "stream",
          "name": "stdout",
          "text": [
            "Epoch 1/40\n",
            "91/91 [==============================] - 3s 28ms/step - loss: 0.7004 - accuracy: 0.6350 - precision: 0.7559 - recall: 0.6523 - val_loss: 0.6240 - val_accuracy: 0.6500 - val_precision: 0.7812 - val_recall: 0.7009\n",
            "Epoch 2/40\n",
            "91/91 [==============================] - 3s 28ms/step - loss: 0.7034 - accuracy: 0.6336 - precision: 0.7501 - recall: 0.6591 - val_loss: 0.6008 - val_accuracy: 0.6726 - val_precision: 0.7594 - val_recall: 0.7854\n",
            "Epoch 3/40\n",
            "91/91 [==============================] - 2s 26ms/step - loss: 0.6882 - accuracy: 0.6408 - precision: 0.7541 - recall: 0.6686 - val_loss: 0.6164 - val_accuracy: 0.6323 - val_precision: 0.7638 - val_recall: 0.6941\n",
            "Epoch 4/40\n",
            "91/91 [==============================] - 2s 26ms/step - loss: 0.6878 - accuracy: 0.6490 - precision: 0.7597 - recall: 0.6775 - val_loss: 0.6022 - val_accuracy: 0.6581 - val_precision: 0.7557 - val_recall: 0.7626\n",
            "Epoch 5/40\n",
            "91/91 [==============================] - 2s 26ms/step - loss: 0.6911 - accuracy: 0.6494 - precision: 0.7592 - recall: 0.6791 - val_loss: 0.5900 - val_accuracy: 0.6726 - val_precision: 0.7549 - val_recall: 0.7945\n",
            "Epoch 6/40\n",
            "91/91 [==============================] - 2s 26ms/step - loss: 0.6828 - accuracy: 0.6477 - precision: 0.7506 - recall: 0.6907 - val_loss: 0.6487 - val_accuracy: 0.6113 - val_precision: 0.7923 - val_recall: 0.6096\n",
            "Epoch 7/40\n",
            "91/91 [==============================] - 2s 27ms/step - loss: 0.6859 - accuracy: 0.6367 - precision: 0.7471 - recall: 0.6717 - val_loss: 0.6107 - val_accuracy: 0.6581 - val_precision: 0.7743 - val_recall: 0.7283\n",
            "Epoch 8/40\n",
            "91/91 [==============================] - 2s 27ms/step - loss: 0.6807 - accuracy: 0.6477 - precision: 0.7549 - recall: 0.6828 - val_loss: 0.6018 - val_accuracy: 0.6548 - val_precision: 0.7605 - val_recall: 0.7466\n",
            "Epoch 9/40\n",
            "91/91 [==============================] - 2s 27ms/step - loss: 0.6882 - accuracy: 0.6504 - precision: 0.7561 - recall: 0.6870 - val_loss: 0.6008 - val_accuracy: 0.6581 - val_precision: 0.7653 - val_recall: 0.7443\n",
            "Epoch 10/40\n",
            "91/91 [==============================] - 2s 26ms/step - loss: 0.6778 - accuracy: 0.6525 - precision: 0.7596 - recall: 0.6854 - val_loss: 0.6930 - val_accuracy: 0.5677 - val_precision: 0.8058 - val_recall: 0.5114\n",
            "Epoch 11/40\n",
            "91/91 [==============================] - 2s 26ms/step - loss: 0.6695 - accuracy: 0.6583 - precision: 0.7552 - recall: 0.7064 - val_loss: 0.6413 - val_accuracy: 0.6065 - val_precision: 0.7887 - val_recall: 0.6050\n",
            "Epoch 12/40\n",
            "91/91 [==============================] - 2s 26ms/step - loss: 0.6594 - accuracy: 0.6645 - precision: 0.7638 - recall: 0.7048 - val_loss: 0.5999 - val_accuracy: 0.6548 - val_precision: 0.7605 - val_recall: 0.7466\n",
            "Epoch 13/40\n",
            "91/91 [==============================] - 2s 26ms/step - loss: 0.6656 - accuracy: 0.6593 - precision: 0.7553 - recall: 0.7085 - val_loss: 0.5853 - val_accuracy: 0.6694 - val_precision: 0.7572 - val_recall: 0.7831\n",
            "Epoch 14/40\n",
            "91/91 [==============================] - 2s 26ms/step - loss: 0.6780 - accuracy: 0.6552 - precision: 0.7563 - recall: 0.6975 - val_loss: 0.6133 - val_accuracy: 0.6387 - val_precision: 0.7772 - val_recall: 0.6849\n",
            "Epoch 15/40\n",
            "91/91 [==============================] - 2s 26ms/step - loss: 0.6711 - accuracy: 0.6576 - precision: 0.7543 - recall: 0.7064 - val_loss: 0.6091 - val_accuracy: 0.6435 - val_precision: 0.7706 - val_recall: 0.7055\n",
            "Epoch 16/40\n",
            "91/91 [==============================] - 2s 26ms/step - loss: 0.6670 - accuracy: 0.6614 - precision: 0.7544 - recall: 0.7148 - val_loss: 0.5822 - val_accuracy: 0.6710 - val_precision: 0.7588 - val_recall: 0.7831\n",
            "Epoch 17/40\n",
            "91/91 [==============================] - 2s 26ms/step - loss: 0.6389 - accuracy: 0.6865 - precision: 0.7767 - recall: 0.7306 - val_loss: 0.5984 - val_accuracy: 0.6484 - val_precision: 0.7723 - val_recall: 0.7123\n",
            "Epoch 18/40\n",
            "91/91 [==============================] - 2s 26ms/step - loss: 0.6584 - accuracy: 0.6621 - precision: 0.7519 - recall: 0.7211 - val_loss: 0.5955 - val_accuracy: 0.6597 - val_precision: 0.7696 - val_recall: 0.7397\n",
            "Epoch 19/40\n",
            "91/91 [==============================] - 2s 26ms/step - loss: 0.6599 - accuracy: 0.6714 - precision: 0.7592 - recall: 0.7285 - val_loss: 0.5835 - val_accuracy: 0.6774 - val_precision: 0.7692 - val_recall: 0.7763\n",
            "Epoch 20/40\n",
            "91/91 [==============================] - 2s 26ms/step - loss: 0.6744 - accuracy: 0.6552 - precision: 0.7486 - recall: 0.7117 - val_loss: 0.5743 - val_accuracy: 0.6919 - val_precision: 0.7714 - val_recall: 0.8014\n",
            "Epoch 21/40\n",
            "91/91 [==============================] - 2s 26ms/step - loss: 0.6531 - accuracy: 0.6714 - precision: 0.7620 - recall: 0.7232 - val_loss: 0.5879 - val_accuracy: 0.6758 - val_precision: 0.7801 - val_recall: 0.7534\n",
            "Epoch 22/40\n",
            "91/91 [==============================] - 2s 26ms/step - loss: 0.6345 - accuracy: 0.6909 - precision: 0.7725 - recall: 0.7474 - val_loss: 0.6009 - val_accuracy: 0.6565 - val_precision: 0.7877 - val_recall: 0.7032\n",
            "Epoch 23/40\n",
            "91/91 [==============================] - 3s 28ms/step - loss: 0.6513 - accuracy: 0.6810 - precision: 0.7651 - recall: 0.7390 - val_loss: 0.6339 - val_accuracy: 0.6242 - val_precision: 0.8042 - val_recall: 0.6187\n",
            "Epoch 24/40\n",
            "91/91 [==============================] - 2s 26ms/step - loss: 0.6543 - accuracy: 0.6710 - precision: 0.7588 - recall: 0.7285 - val_loss: 0.5859 - val_accuracy: 0.6677 - val_precision: 0.7673 - val_recall: 0.7603\n",
            "Epoch 25/40\n",
            "91/91 [==============================] - 2s 26ms/step - loss: 0.6450 - accuracy: 0.6834 - precision: 0.7666 - recall: 0.7416 - val_loss: 0.5631 - val_accuracy: 0.6968 - val_precision: 0.7583 - val_recall: 0.8379\n",
            "Epoch 26/40\n",
            "91/91 [==============================] - 3s 28ms/step - loss: 0.6365 - accuracy: 0.6799 - precision: 0.7613 - recall: 0.7437 - val_loss: 0.5692 - val_accuracy: 0.7032 - val_precision: 0.7668 - val_recall: 0.8333\n",
            "Epoch 27/40\n",
            "91/91 [==============================] - 2s 26ms/step - loss: 0.6403 - accuracy: 0.6782 - precision: 0.7641 - recall: 0.7348 - val_loss: 0.5764 - val_accuracy: 0.6919 - val_precision: 0.7865 - val_recall: 0.7740\n",
            "Epoch 28/40\n",
            "91/91 [==============================] - 2s 26ms/step - loss: 0.6418 - accuracy: 0.6823 - precision: 0.7608 - recall: 0.7500 - val_loss: 0.5687 - val_accuracy: 0.7048 - val_precision: 0.7651 - val_recall: 0.8402\n",
            "Epoch 29/40\n",
            "91/91 [==============================] - 2s 26ms/step - loss: 0.6512 - accuracy: 0.6813 - precision: 0.7599 - recall: 0.7495 - val_loss: 0.5876 - val_accuracy: 0.6742 - val_precision: 0.7921 - val_recall: 0.7306\n",
            "Epoch 30/40\n",
            "91/91 [==============================] - 2s 26ms/step - loss: 0.6387 - accuracy: 0.6823 - precision: 0.7656 - recall: 0.7411 - val_loss: 0.6217 - val_accuracy: 0.6258 - val_precision: 0.7977 - val_recall: 0.6301\n",
            "Epoch 31/40\n",
            "91/91 [==============================] - 3s 28ms/step - loss: 0.6284 - accuracy: 0.6981 - precision: 0.7745 - recall: 0.7595 - val_loss: 0.5765 - val_accuracy: 0.6903 - val_precision: 0.7770 - val_recall: 0.7877\n",
            "Epoch 32/40\n",
            "91/91 [==============================] - 2s 26ms/step - loss: 0.6320 - accuracy: 0.6844 - precision: 0.7613 - recall: 0.7537 - val_loss: 0.5612 - val_accuracy: 0.7065 - val_precision: 0.7723 - val_recall: 0.8288\n",
            "Epoch 33/40\n",
            "91/91 [==============================] - 2s 26ms/step - loss: 0.6450 - accuracy: 0.6817 - precision: 0.7554 - recall: 0.7589 - val_loss: 0.5684 - val_accuracy: 0.6968 - val_precision: 0.7828 - val_recall: 0.7900\n",
            "Epoch 34/40\n",
            "91/91 [==============================] - 2s 26ms/step - loss: 0.6287 - accuracy: 0.6810 - precision: 0.7581 - recall: 0.7521 - val_loss: 0.5570 - val_accuracy: 0.6984 - val_precision: 0.7687 - val_recall: 0.8196\n",
            "Epoch 35/40\n",
            "91/91 [==============================] - 2s 26ms/step - loss: 0.6219 - accuracy: 0.6951 - precision: 0.7635 - recall: 0.7731 - val_loss: 0.5979 - val_accuracy: 0.6435 - val_precision: 0.8039 - val_recall: 0.6553\n",
            "Epoch 36/40\n",
            "91/91 [==============================] - 2s 26ms/step - loss: 0.6275 - accuracy: 0.6961 - precision: 0.7694 - recall: 0.7642 - val_loss: 0.5647 - val_accuracy: 0.7000 - val_precision: 0.7851 - val_recall: 0.7922\n",
            "Epoch 37/40\n",
            "91/91 [==============================] - 2s 26ms/step - loss: 0.6385 - accuracy: 0.6813 - precision: 0.7612 - recall: 0.7468 - val_loss: 0.5476 - val_accuracy: 0.7145 - val_precision: 0.7505 - val_recall: 0.8927\n",
            "Epoch 38/40\n",
            "91/91 [==============================] - 2s 26ms/step - loss: 0.6355 - accuracy: 0.6837 - precision: 0.7630 - recall: 0.7489 - val_loss: 0.5811 - val_accuracy: 0.6742 - val_precision: 0.7878 - val_recall: 0.7374\n",
            "Epoch 39/40\n",
            "91/91 [==============================] - 2s 26ms/step - loss: 0.6272 - accuracy: 0.6927 - precision: 0.7699 - recall: 0.7558 - val_loss: 0.5600 - val_accuracy: 0.7016 - val_precision: 0.7587 - val_recall: 0.8470\n",
            "Epoch 40/40\n",
            "91/91 [==============================] - 2s 27ms/step - loss: 0.6300 - accuracy: 0.6902 - precision: 0.7656 - recall: 0.7584 - val_loss: 0.5597 - val_accuracy: 0.7113 - val_precision: 0.7704 - val_recall: 0.8425\n"
          ]
        }
      ]
    },
    {
      "cell_type": "code",
      "source": [
        "acc_second_train = history.history[\"accuracy\"]\n",
        "acc_second_val = history.history[\"val_accuracy\"]"
      ],
      "metadata": {
        "id": "XJ2T6QhHLip2"
      },
      "execution_count": null,
      "outputs": []
    },
    {
      "cell_type": "code",
      "source": [
        "test_loss, test_acc, test_prec, test_recall = model.evaluate(test_data, test_label)\n",
        "print('acc:', test_acc)\n",
        "print('recall:', test_recall)\n",
        "print('precision:', test_prec)"
      ],
      "metadata": {
        "id": "KJjodV0muqyK",
        "outputId": "26c916a8-6ada-46c9-b9ec-2c6aef06bf18",
        "colab": {
          "base_uri": "https://localhost:8080/"
        }
      },
      "execution_count": null,
      "outputs": [
        {
          "output_type": "stream",
          "name": "stdout",
          "text": [
            "18/18 [==============================] - 0s 12ms/step - loss: 0.5638 - accuracy: 0.7055 - precision: 0.7476 - recall: 0.8415\n",
            "acc: 0.7054545283317566\n",
            "recall: 0.8415300250053406\n",
            "precision: 0.7475728392601013\n"
          ]
        }
      ]
    },
    {
      "cell_type": "code",
      "source": [
        "model.save_weights('/content/drive/MyDrive/CS230_Code_Data/Dataset/german_model.h5')"
      ],
      "metadata": {
        "id": "PWUjmFHAY0Tj"
      },
      "execution_count": null,
      "outputs": []
    },
    {
      "cell_type": "code",
      "source": [
        "model.load_weights('/content/drive/MyDrive/CS230_Code_Data/Dataset/german_model.h5')"
      ],
      "metadata": {
        "id": "gbAvlSrfZEG9"
      },
      "execution_count": null,
      "outputs": []
    },
    {
      "cell_type": "code",
      "source": [
        "test_loss, test_acc, test_prec, test_recall = model.evaluate(test_data, test_label)\n",
        "print('acc:', test_acc)\n",
        "print('recall:', test_recall)\n",
        "print('precision:', test_prec)"
      ],
      "metadata": {
        "colab": {
          "base_uri": "https://localhost:8080/"
        },
        "id": "6zZJIjTaZOiC",
        "outputId": "19f2e94e-529f-4b62-9929-9df9c864944d"
      },
      "execution_count": null,
      "outputs": [
        {
          "output_type": "stream",
          "name": "stdout",
          "text": [
            "18/18 [==============================] - 0s 12ms/step - loss: 0.5638 - accuracy: 0.7055 - precision: 0.7476 - recall: 0.8415\n",
            "acc: 0.7054545283317566\n",
            "recall: 0.8415300250053406\n",
            "precision: 0.7475728392601013\n"
          ]
        }
      ]
    },
    {
      "cell_type": "code",
      "source": [
        "import matplotlib.pyplot as plt\n",
        "\n",
        "f = plt.figure(figsize=(10,6))\n",
        "acc_train = acc_first_train + acc_second_train\n",
        "acc_val = acc_first_val + acc_second_val\n",
        "plt.plot(acc_train, label=\"train accuracy\")\n",
        "plt.plot(acc_val, label=\"val accuracy\")\n",
        "plt.xlabel('epoch', fontsize=14)\n",
        "plt.ylabel('accuracy', fontsize=14)\n",
        "plt.title('accuracy history', fontsize=14)\n",
        "plt.legend(fontsize='large')\n",
        "\n",
        "f.savefig('accuracy_history_german.pdf', bbox_inches='tight')"
      ],
      "metadata": {
        "id": "7_fEeykDuu6R",
        "outputId": "b19a3d5a-a231-49bf-8735-5fc4e49881a0",
        "colab": {
          "base_uri": "https://localhost:8080/",
          "height": 409
        }
      },
      "execution_count": null,
      "outputs": [
        {
          "output_type": "display_data",
          "data": {
            "text/plain": [
              "<Figure size 720x432 with 1 Axes>"
            ],
            "image/png": "[encoded data removed]"
          },
          "metadata": {
            "needs_background": "light"
          }
        }
      ]
    },
    {
      "cell_type": "markdown",
      "source": [
        "# **Manage the transfer learning**"
      ],
      "metadata": {
        "id": "8rP_64TX9eDu"
      }
    },
    {
      "cell_type": "code",
      "source": [
        "base_model = model\n",
        "prefinal_model = Model(inputs=base_model.input, outputs=base_model.get_layer('conv_4').output, name = 'prefinal_model')\n",
        "prefinal_model.summary()"
      ],
      "metadata": {
        "colab": {
          "base_uri": "https://localhost:8080/"
        },
        "id": "r5R6_2O0wm4-",
        "outputId": "69a6ca74-568f-4426-cc95-239c94be5847"
      },
      "execution_count": null,
      "outputs": [
        {
          "output_type": "stream",
          "name": "stdout",
          "text": [
            "Model: \"prefinal_model\"\n",
            "_________________________________________________________________\n",
            " Layer (type)                Output Shape              Param #   \n",
            "=================================================================\n",
            " conv_1_input (InputLayer)   [(None, 224, 224, 3)]     0         \n",
            "                                                                 \n",
            " conv_1 (Conv2D)             (None, 224, 224, 16)      448       \n",
            "                                                                 \n",
            " batch_normalization (BatchN  (None, 224, 224, 16)     64        \n",
            " ormalization)                                                   \n",
            "                                                                 \n",
            " max_pooling2d (MaxPooling2D  (None, 112, 112, 16)     0         \n",
            " )                                                               \n",
            "                                                                 \n",
            " conv_2 (Conv2D)             (None, 56, 56, 16)        2320      \n",
            "                                                                 \n",
            " batch_normalization_1 (Batc  (None, 56, 56, 16)       64        \n",
            " hNormalization)                                                 \n",
            "                                                                 \n",
            " max_pooling2d_1 (MaxPooling  (None, 28, 28, 16)       0         \n",
            " 2D)                                                             \n",
            "                                                                 \n",
            " conv_3 (Conv2D)             (None, 14, 14, 8)         1160      \n",
            "                                                                 \n",
            " batch_normalization_2 (Batc  (None, 14, 14, 8)        32        \n",
            " hNormalization)                                                 \n",
            "                                                                 \n",
            " conv_4 (Conv2D)             (None, 14, 14, 4)         292       \n",
            "                                                                 \n",
            "=================================================================\n",
            "Total params: 4,380\n",
            "Trainable params: 4,300\n",
            "Non-trainable params: 80\n",
            "_________________________________________________________________\n"
          ]
        }
      ]
    },
    {
      "cell_type": "code",
      "source": [
        "X = prefinal_model.output    # x is the output of the last layer of cutted_layer (x=features on layer block4_conv3)\n",
        "\n",
        "X = Dropout(0.3)(X)\n",
        "X = BatchNormalization()(X)\n",
        "X = MaxPooling2D((2,2))(X)\n",
        "X = Flatten()(X)\n",
        "X = Dropout(0.3)(X)\n",
        "X = Dense(16, activation='elu')(X) \n",
        "X = Dense(4, activation='elu')(X) \n",
        "prediction = Dense(1, activation='sigmoid')(X) \n",
        "\n"
      ],
      "metadata": {
        "id": "8fcl3kO-xWnT"
      },
      "execution_count": null,
      "outputs": []
    },
    {
      "cell_type": "code",
      "source": [
        "final_model = Model(inputs=base_model.input, outputs=prediction, name = 'finale')\n",
        "final_model.summary()"
      ],
      "metadata": {
        "colab": {
          "base_uri": "https://localhost:8080/"
        },
        "id": "ntIeNokC3Nzo",
        "outputId": "55f599cc-c9a0-42ab-8a07-497c46c4094b"
      },
      "execution_count": null,
      "outputs": [
        {
          "output_type": "stream",
          "name": "stdout",
          "text": [
            "Model: \"finale\"\n",
            "_________________________________________________________________\n",
            " Layer (type)                Output Shape              Param #   \n",
            "=================================================================\n",
            " conv_1_input (InputLayer)   [(None, 224, 224, 3)]     0         \n",
            "                                                                 \n",
            " conv_1 (Conv2D)             (None, 224, 224, 16)      448       \n",
            "                                                                 \n",
            " batch_normalization (BatchN  (None, 224, 224, 16)     64        \n",
            " ormalization)                                                   \n",
            "                                                                 \n",
            " max_pooling2d (MaxPooling2D  (None, 112, 112, 16)     0         \n",
            " )                                                               \n",
            "                                                                 \n",
            " conv_2 (Conv2D)             (None, 56, 56, 16)        2320      \n",
            "                                                                 \n",
            " batch_normalization_1 (Batc  (None, 56, 56, 16)       64        \n",
            " hNormalization)                                                 \n",
            "                                                                 \n",
            " max_pooling2d_1 (MaxPooling  (None, 28, 28, 16)       0         \n",
            " 2D)                                                             \n",
            "                                                                 \n",
            " conv_3 (Conv2D)             (None, 14, 14, 8)         1160      \n",
            "                                                                 \n",
            " batch_normalization_2 (Batc  (None, 14, 14, 8)        32        \n",
            " hNormalization)                                                 \n",
            "                                                                 \n",
            " conv_4 (Conv2D)             (None, 14, 14, 4)         292       \n",
            "                                                                 \n",
            " dropout_3 (Dropout)         (None, 14, 14, 4)         0         \n",
            "                                                                 \n",
            " batch_normalization_6 (Batc  (None, 14, 14, 4)        16        \n",
            " hNormalization)                                                 \n",
            "                                                                 \n",
            " max_pooling2d_2 (MaxPooling  (None, 7, 7, 4)          0         \n",
            " 2D)                                                             \n",
            "                                                                 \n",
            " flatten_1 (Flatten)         (None, 196)               0         \n",
            "                                                                 \n",
            " dropout_4 (Dropout)         (None, 196)               0         \n",
            "                                                                 \n",
            " dense_1 (Dense)             (None, 16)                3152      \n",
            "                                                                 \n",
            " dense_2 (Dense)             (None, 4)                 68        \n",
            "                                                                 \n",
            " dense_3 (Dense)             (None, 1)                 5         \n",
            "                                                                 \n",
            "=================================================================\n",
            "Total params: 7,621\n",
            "Trainable params: 7,533\n",
            "Non-trainable params: 88\n",
            "_________________________________________________________________\n"
          ]
        }
      ]
    },
    {
      "cell_type": "code",
      "source": [
        "for layer in prefinal_model.layers:\n",
        "    layer.trainable = True"
      ],
      "metadata": {
        "id": "1oHfRNWExnv1"
      },
      "execution_count": null,
      "outputs": []
    },
    {
      "cell_type": "code",
      "source": [
        "\"\"\"\n",
        "# RUN THIS CELL FOR 10 DIFFERENT COLOR AUGMENTATION\n",
        "with open('/content/drive/MyDrive/CS230_Code_Data/Dataset/splitted_train.json', 'rb') as su:\n",
        "    train_data_dict = pickle.load(su)\n",
        "\n",
        "with open('/content/drive/MyDrive/CS230_Code_Data/Dataset/splitted_test.json', 'rb') as su:\n",
        "    test_data_dict = pickle.load(su)\n",
        "\n",
        "with open('/content/drive/MyDrive/CS230_Code_Data/Dataset/splitted_val.json', 'rb') as su:\n",
        "    val_data_dict = pickle.load(su)\n",
        "\"\"\""
      ],
      "metadata": {
        "id": "QdiPXkNhKi1V",
        "colab": {
          "base_uri": "https://localhost:8080/",
          "height": 72
        },
        "outputId": "3574bf4b-232e-4099-b85c-3c8c32f402af"
      },
      "execution_count": null,
      "outputs": [
        {
          "output_type": "execute_result",
          "data": {
            "text/plain": [
              "\"\\n# RUN THIS CELL FOR 10 DIFFERENT COLOR AUGMENTATION\\nwith open('/content/drive/MyDrive/CS230_Code_Data/Dataset/splitted_train.json', 'rb') as su:\\n    train_data_dict = pickle.load(su)\\n\\nwith open('/content/drive/MyDrive/CS230_Code_Data/Dataset/splitted_test.json', 'rb') as su:\\n    test_data_dict = pickle.load(su)\\n\\nwith open('/content/drive/MyDrive/CS230_Code_Data/Dataset/splitted_val.json', 'rb') as su:\\n    val_data_dict = pickle.load(su)\\n\""
            ],
            "application/vnd.google.colaboratory.intrinsic+json": {
              "type": "string"
            }
          },
          "metadata": {},
          "execution_count": 13
        }
      ]
    },
    {
      "cell_type": "code",
      "source": [
        "\"\"\"\n",
        "# RUN THIS CELL IF YOU WANT TO TEST THE SCENARIO WITH 3 combined \n",
        "with open('/content/drive/MyDrive/CS230_Code_Data/Dataset/splitted_train_3comb.json', 'rb') as su:\n",
        "    train_data_dict = pickle.load(su)\n",
        "\n",
        "with open('/content/drive/MyDrive/CS230_Code_Data/Dataset/splitted_test_3comb.json', 'rb') as su:\n",
        "    test_data_dict = pickle.load(su)\n",
        "\n",
        "with open('/content/drive/MyDrive/CS230_Code_Data/Dataset/splitted_val_3comb.json', 'rb') as su:\n",
        "    val_data_dict = pickle.load(su)\n",
        "\"\"\""
      ],
      "metadata": {
        "id": "8uUiy0UJ66dK"
      },
      "execution_count": null,
      "outputs": []
    },
    {
      "cell_type": "code",
      "source": [
        "\n",
        "# RUN THIS CELL IF YOU WANT TO TEST THE SCENARIO WITH NO COLOR CHANGE (NO AUGMENTATION)\n",
        "with open('/content/drive/MyDrive/CS230_Code_Data/Dataset/no_color_change_5_comb_train', 'rb') as su:\n",
        "    train_data_dict = pickle.load(su)\n",
        "\n",
        "with open('/content/drive/MyDrive/CS230_Code_Data/Dataset/no_color_change_5_comb_test', 'rb') as su:\n",
        "    test_data_dict = pickle.load(su)\n",
        "\n",
        "with open('/content/drive/MyDrive/CS230_Code_Data/Dataset/no_color_change_5_comb_val', 'rb') as su:\n",
        "    val_data_dict = pickle.load(su)\n"
      ],
      "metadata": {
        "id": "MU-R4GGR7Bn7"
      },
      "execution_count": null,
      "outputs": []
    },
    {
      "cell_type": "code",
      "source": [
        "patient_holder = []\n",
        "for person in test_data_dict:\n",
        "    patient = person['patient']\n",
        "    if patient not in patient_holder:\n",
        "        patient_holder.append(patient)"
      ],
      "metadata": {
        "id": "7Rgo32X8Nqy8"
      },
      "execution_count": null,
      "outputs": []
    },
    {
      "cell_type": "code",
      "source": [
        "len(patient_holder)"
      ],
      "metadata": {
        "id": "NVfAD8D3OmcT",
        "colab": {
          "base_uri": "https://localhost:8080/"
        },
        "outputId": "8e55f180-b276-4b53-b505-2a4b54596e76"
      },
      "execution_count": null,
      "outputs": [
        {
          "output_type": "execute_result",
          "data": {
            "text/plain": [
              "37"
            ]
          },
          "metadata": {},
          "execution_count": 37
        }
      ]
    },
    {
      "cell_type": "code",
      "source": [
        "print(len(train_data_dict))\n",
        "print(len(test_data_dict))\n",
        "print(len(val_data_dict))"
      ],
      "metadata": {
        "colab": {
          "base_uri": "https://localhost:8080/"
        },
        "id": "_2Wi7_ayKlMx",
        "outputId": "7be2b0cb-3bed-4e92-d37b-ccd1e3c4467a"
      },
      "execution_count": null,
      "outputs": [
        {
          "output_type": "stream",
          "name": "stdout",
          "text": [
            "3039\n",
            "536\n",
            "566\n"
          ]
        }
      ]
    },
    {
      "cell_type": "code",
      "source": [
        "def matrix_creator(dataset, augment = False):\n",
        "    X = []\n",
        "    y = []\n",
        "    for person in dataset:\n",
        "        spectogram = person['spectogram']#/np.float32(255)   #normalize input pixels \n",
        "        status = int(person['status'])        # Look whether the person is pathalogical or not\n",
        "        X.append(spectogram)\n",
        "        y.append(status)\n",
        "        if augment:\n",
        "            for i in range(2):\n",
        "                spectogram2 = np.copy(spectogram)\n",
        "                rand2 = random.uniform(0.1, 0.9)\n",
        "                spectogram2[:,:,2] = spectogram2[:,:,2]*rand2\n",
        "                X.append(spectogram2)\n",
        "                y.append(status)\n",
        "\n",
        "    X = np.array(X)\n",
        "    y = np.array(y)\n",
        "\n",
        "    y = y.reshape((y.shape[0],1))\n",
        "    return X, y"
      ],
      "metadata": {
        "id": "CD6lxB_FKmMq"
      },
      "execution_count": null,
      "outputs": []
    },
    {
      "cell_type": "code",
      "source": [
        "train_data, train_labels = matrix_creator(train_data_dict, augment = False)  # Set augment = True if want to test augmentation with differnet colors\n",
        "test_data, test_labels = matrix_creator(test_data_dict)\n",
        "val_data, val_labels = matrix_creator(val_data_dict)"
      ],
      "metadata": {
        "id": "HMg9wAwmKnRa"
      },
      "execution_count": null,
      "outputs": []
    },
    {
      "cell_type": "code",
      "source": [
        "print(train_data.shape)\n",
        "print(test_data.shape)\n",
        "print(val_data.shape)"
      ],
      "metadata": {
        "colab": {
          "base_uri": "https://localhost:8080/"
        },
        "id": "XHIJSrAaKoOw",
        "outputId": "46c4aed4-3dfd-4c76-9ab8-4a53be95c25a"
      },
      "execution_count": null,
      "outputs": [
        {
          "output_type": "stream",
          "name": "stdout",
          "text": [
            "(3039, 224, 224, 3)\n",
            "(536, 224, 224, 3)\n",
            "(566, 224, 224, 3)\n"
          ]
        }
      ]
    },
    {
      "cell_type": "code",
      "source": [
        "image = train_data[26]\n",
        "plt.imshow(image)\n",
        "plt.show()"
      ],
      "metadata": {
        "colab": {
          "base_uri": "https://localhost:8080/",
          "height": 269
        },
        "id": "BtLOcpVI7mGR",
        "outputId": "795abfbe-ef06-4e1d-8e38-1946cb3d199b"
      },
      "execution_count": null,
      "outputs": [
        {
          "output_type": "display_data",
          "data": {
            "text/plain": [
              "<Figure size 432x288 with 1 Axes>"
            ],
            "image/png": "[encoded data removed]"
          },
          "metadata": {
            "needs_background": "light"
          }
        }
      ]
    },
    {
      "cell_type": "markdown",
      "source": [
        "# **Train on the stanford patient dataset, which is our main goal to have good metrics on**"
      ],
      "metadata": {
        "id": "J88QPX4_9jff"
      }
    },
    {
      "cell_type": "code",
      "source": [
        "opt = Adam(learning_rate=5e-5, beta_1 = 0.9, beta_2 = 0.999)\n",
        "final_model.compile(optimizer = opt, loss='binary_crossentropy', metrics=['accuracy', Precision(), Recall()])"
      ],
      "metadata": {
        "id": "C_uiIiZ6xhrO"
      },
      "execution_count": null,
      "outputs": []
    },
    {
      "cell_type": "code",
      "source": [
        "history = final_model.fit(train_data, train_labels, epochs=20, batch_size=16, class_weight={0:13, 1:10}, validation_data=(val_data, val_labels))"
      ],
      "metadata": {
        "id": "xD6623MwyYbe",
        "colab": {
          "base_uri": "https://localhost:8080/"
        },
        "outputId": "1ca4755e-7b86-4a01-e3e9-3d59c9e54ded"
      },
      "execution_count": null,
      "outputs": [
        {
          "output_type": "stream",
          "name": "stdout",
          "text": [
            "Epoch 1/20\n",
            "190/190 [==============================] - 5s 19ms/step - loss: 10.0520 - accuracy: 0.5278 - precision_1: 0.6402 - recall_1: 0.5997 - val_loss: 0.7519 - val_accuracy: 0.5336 - val_precision_1: 0.6254 - val_recall_1: 0.6074\n",
            "Epoch 2/20\n",
            "190/190 [==============================] - 3s 15ms/step - loss: 9.3362 - accuracy: 0.5380 - precision_1: 0.6542 - recall_1: 0.5910 - val_loss: 0.7304 - val_accuracy: 0.5318 - val_precision_1: 0.6500 - val_recall_1: 0.5215\n",
            "Epoch 3/20\n",
            "190/190 [==============================] - 3s 16ms/step - loss: 8.9449 - accuracy: 0.5357 - precision_1: 0.6529 - recall_1: 0.5868 - val_loss: 0.7103 - val_accuracy: 0.5477 - val_precision_1: 0.6576 - val_recall_1: 0.5559\n",
            "Epoch 4/20\n",
            "190/190 [==============================] - 3s 16ms/step - loss: 8.5397 - accuracy: 0.5689 - precision_1: 0.6761 - recall_1: 0.6274 - val_loss: 0.7031 - val_accuracy: 0.5636 - val_precision_1: 0.7008 - val_recall_1: 0.5100\n",
            "Epoch 5/20\n",
            "190/190 [==============================] - 3s 15ms/step - loss: 8.3915 - accuracy: 0.5805 - precision_1: 0.6859 - recall_1: 0.6362 - val_loss: 0.6781 - val_accuracy: 0.5671 - val_precision_1: 0.6757 - val_recall_1: 0.5731\n",
            "Epoch 6/20\n",
            "190/190 [==============================] - 3s 18ms/step - loss: 8.2370 - accuracy: 0.5729 - precision_1: 0.6788 - recall_1: 0.6321 - val_loss: 0.6806 - val_accuracy: 0.5795 - val_precision_1: 0.7033 - val_recall_1: 0.5501\n",
            "Epoch 7/20\n",
            "190/190 [==============================] - 3s 17ms/step - loss: 8.0384 - accuracy: 0.5860 - precision_1: 0.6882 - recall_1: 0.6465 - val_loss: 0.6666 - val_accuracy: 0.5848 - val_precision_1: 0.7111 - val_recall_1: 0.5501\n",
            "Epoch 8/20\n",
            "190/190 [==============================] - 3s 17ms/step - loss: 7.8638 - accuracy: 0.5930 - precision_1: 0.6921 - recall_1: 0.6562 - val_loss: 0.6735 - val_accuracy: 0.5777 - val_precision_1: 0.7052 - val_recall_1: 0.5415\n",
            "Epoch 9/20\n",
            "190/190 [==============================] - 3s 17ms/step - loss: 7.8121 - accuracy: 0.6081 - precision_1: 0.6955 - recall_1: 0.6901 - val_loss: 0.6644 - val_accuracy: 0.5989 - val_precision_1: 0.7210 - val_recall_1: 0.5702\n",
            "Epoch 10/20\n",
            "190/190 [==============================] - 3s 16ms/step - loss: 7.7223 - accuracy: 0.6190 - precision_1: 0.7039 - recall_1: 0.6989 - val_loss: 0.6633 - val_accuracy: 0.5901 - val_precision_1: 0.7097 - val_recall_1: 0.5673\n",
            "Epoch 11/20\n",
            "190/190 [==============================] - 3s 16ms/step - loss: 7.6710 - accuracy: 0.6071 - precision_1: 0.7006 - recall_1: 0.6747 - val_loss: 0.6596 - val_accuracy: 0.5777 - val_precision_1: 0.7148 - val_recall_1: 0.5244\n",
            "Epoch 12/20\n",
            "190/190 [==============================] - 3s 16ms/step - loss: 7.6673 - accuracy: 0.5995 - precision_1: 0.6942 - recall_1: 0.6696 - val_loss: 0.6426 - val_accuracy: 0.5954 - val_precision_1: 0.7041 - val_recall_1: 0.5931\n",
            "Epoch 13/20\n",
            "190/190 [==============================] - 3s 15ms/step - loss: 7.4130 - accuracy: 0.6278 - precision_1: 0.7070 - recall_1: 0.7153 - val_loss: 0.6429 - val_accuracy: 0.5919 - val_precision_1: 0.7122 - val_recall_1: 0.5673\n",
            "Epoch 14/20\n",
            "190/190 [==============================] - 3s 16ms/step - loss: 7.5831 - accuracy: 0.6104 - precision_1: 0.6997 - recall_1: 0.6860 - val_loss: 0.6427 - val_accuracy: 0.6042 - val_precision_1: 0.7193 - val_recall_1: 0.5874\n",
            "Epoch 15/20\n",
            "190/190 [==============================] - 3s 16ms/step - loss: 7.5655 - accuracy: 0.6147 - precision_1: 0.6974 - recall_1: 0.7035 - val_loss: 0.6526 - val_accuracy: 0.5901 - val_precision_1: 0.7082 - val_recall_1: 0.5702\n",
            "Epoch 16/20\n",
            "190/190 [==============================] - 3s 15ms/step - loss: 7.3534 - accuracy: 0.6226 - precision_1: 0.7039 - recall_1: 0.7086 - val_loss: 0.6342 - val_accuracy: 0.6131 - val_precision_1: 0.7097 - val_recall_1: 0.6304\n",
            "Epoch 17/20\n",
            "190/190 [==============================] - 3s 16ms/step - loss: 7.1839 - accuracy: 0.6430 - precision_1: 0.7232 - recall_1: 0.7169 - val_loss: 0.6345 - val_accuracy: 0.6113 - val_precision_1: 0.7172 - val_recall_1: 0.6103\n",
            "Epoch 18/20\n",
            "190/190 [==============================] - 3s 16ms/step - loss: 7.2758 - accuracy: 0.6311 - precision_1: 0.7138 - recall_1: 0.7076 - val_loss: 0.6233 - val_accuracy: 0.6307 - val_precision_1: 0.7215 - val_recall_1: 0.6533\n",
            "Epoch 19/20\n",
            "190/190 [==============================] - 4s 19ms/step - loss: 7.2209 - accuracy: 0.6331 - precision_1: 0.7085 - recall_1: 0.7256 - val_loss: 0.6258 - val_accuracy: 0.6219 - val_precision_1: 0.7157 - val_recall_1: 0.6418\n",
            "Epoch 20/20\n",
            "190/190 [==============================] - 3s 16ms/step - loss: 7.2668 - accuracy: 0.6374 - precision_1: 0.7240 - recall_1: 0.7009 - val_loss: 0.6343 - val_accuracy: 0.5936 - val_precision_1: 0.7196 - val_recall_1: 0.5587\n"
          ]
        }
      ]
    },
    {
      "cell_type": "code",
      "source": [
        "acc_first_train = history.history[\"accuracy\"]\n",
        "acc_first_val = history.history[\"val_accuracy\"]"
      ],
      "metadata": {
        "id": "GSK_qMT8ArvD"
      },
      "execution_count": null,
      "outputs": []
    },
    {
      "cell_type": "code",
      "source": [
        "opt = Adam(learning_rate=5e-5, beta_1 = 0.9, beta_2 = 0.999) # decrease the learning rate and run for 20 more epochs\n",
        "history = final_model.fit(train_data, train_labels, epochs=30, batch_size=16, class_weight={0:11, 1:10}, validation_data=(val_data, val_labels))"
      ],
      "metadata": {
        "colab": {
          "base_uri": "https://localhost:8080/"
        },
        "id": "l3KRGE6s81XR",
        "outputId": "4ff1b68a-6253-41e0-ff8b-36d61100530f"
      },
      "execution_count": null,
      "outputs": [
        {
          "output_type": "stream",
          "name": "stdout",
          "text": [
            "Epoch 1/30\n",
            "190/190 [==============================] - 3s 16ms/step - loss: 6.5375 - accuracy: 0.6578 - precision_1: 0.7147 - recall_1: 0.7749 - val_loss: 0.6132 - val_accuracy: 0.6449 - val_precision_1: 0.7114 - val_recall_1: 0.7135\n",
            "Epoch 2/30\n",
            "190/190 [==============================] - 3s 15ms/step - loss: 6.5507 - accuracy: 0.6479 - precision_1: 0.7030 - recall_1: 0.7795 - val_loss: 0.6132 - val_accuracy: 0.6396 - val_precision_1: 0.7066 - val_recall_1: 0.7106\n",
            "Epoch 3/30\n",
            "190/190 [==============================] - 3s 16ms/step - loss: 6.4067 - accuracy: 0.6680 - precision_1: 0.7154 - recall_1: 0.7996 - val_loss: 0.6130 - val_accuracy: 0.6590 - val_precision_1: 0.7143 - val_recall_1: 0.7450\n",
            "Epoch 4/30\n",
            "190/190 [==============================] - 3s 15ms/step - loss: 6.4940 - accuracy: 0.6538 - precision_1: 0.7047 - recall_1: 0.7909 - val_loss: 0.6160 - val_accuracy: 0.6484 - val_precision_1: 0.7107 - val_recall_1: 0.7249\n",
            "Epoch 5/30\n",
            "190/190 [==============================] - 3s 15ms/step - loss: 6.5244 - accuracy: 0.6466 - precision_1: 0.6984 - recall_1: 0.7888 - val_loss: 0.6076 - val_accuracy: 0.6590 - val_precision_1: 0.7155 - val_recall_1: 0.7421\n",
            "Epoch 6/30\n",
            "190/190 [==============================] - 3s 15ms/step - loss: 6.3341 - accuracy: 0.6637 - precision_1: 0.7137 - recall_1: 0.7929 - val_loss: 0.6092 - val_accuracy: 0.6378 - val_precision_1: 0.7105 - val_recall_1: 0.6963\n",
            "Epoch 7/30\n",
            "190/190 [==============================] - 3s 15ms/step - loss: 6.3086 - accuracy: 0.6555 - precision_1: 0.7150 - recall_1: 0.7682 - val_loss: 0.6093 - val_accuracy: 0.6484 - val_precision_1: 0.7193 - val_recall_1: 0.7049\n",
            "Epoch 8/30\n",
            "190/190 [==============================] - 3s 15ms/step - loss: 6.3543 - accuracy: 0.6640 - precision_1: 0.7148 - recall_1: 0.7909 - val_loss: 0.6077 - val_accuracy: 0.6625 - val_precision_1: 0.7090 - val_recall_1: 0.7679\n",
            "Epoch 9/30\n",
            "190/190 [==============================] - 3s 15ms/step - loss: 6.3398 - accuracy: 0.6723 - precision_1: 0.7189 - recall_1: 0.8016 - val_loss: 0.6017 - val_accuracy: 0.6555 - val_precision_1: 0.6985 - val_recall_1: 0.7765\n",
            "Epoch 10/30\n",
            "190/190 [==============================] - 3s 16ms/step - loss: 6.3602 - accuracy: 0.6647 - precision_1: 0.7185 - recall_1: 0.7831 - val_loss: 0.6010 - val_accuracy: 0.6714 - val_precision_1: 0.7139 - val_recall_1: 0.7794\n",
            "Epoch 11/30\n",
            "190/190 [==============================] - 3s 17ms/step - loss: 6.3117 - accuracy: 0.6617 - precision_1: 0.7133 - recall_1: 0.7888 - val_loss: 0.6037 - val_accuracy: 0.6466 - val_precision_1: 0.6976 - val_recall_1: 0.7536\n",
            "Epoch 12/30\n",
            "190/190 [==============================] - 3s 16ms/step - loss: 6.2067 - accuracy: 0.6749 - precision_1: 0.7249 - recall_1: 0.7934 - val_loss: 0.6057 - val_accuracy: 0.6484 - val_precision_1: 0.7119 - val_recall_1: 0.7221\n",
            "Epoch 13/30\n",
            "190/190 [==============================] - 3s 15ms/step - loss: 6.2218 - accuracy: 0.6785 - precision_1: 0.7271 - recall_1: 0.7970 - val_loss: 0.6076 - val_accuracy: 0.6431 - val_precision_1: 0.7014 - val_recall_1: 0.7335\n",
            "Epoch 14/30\n",
            "190/190 [==============================] - 3s 15ms/step - loss: 6.1942 - accuracy: 0.6726 - precision_1: 0.7223 - recall_1: 0.7939 - val_loss: 0.6050 - val_accuracy: 0.6608 - val_precision_1: 0.7302 - val_recall_1: 0.7135\n",
            "Epoch 15/30\n",
            "190/190 [==============================] - 3s 15ms/step - loss: 6.1845 - accuracy: 0.6726 - precision_1: 0.7233 - recall_1: 0.7914 - val_loss: 0.6026 - val_accuracy: 0.6537 - val_precision_1: 0.6861 - val_recall_1: 0.8080\n",
            "Epoch 16/30\n",
            "190/190 [==============================] - 3s 15ms/step - loss: 6.1857 - accuracy: 0.6785 - precision_1: 0.7282 - recall_1: 0.7945 - val_loss: 0.6018 - val_accuracy: 0.6537 - val_precision_1: 0.7167 - val_recall_1: 0.7249\n",
            "Epoch 17/30\n",
            "190/190 [==============================] - 3s 15ms/step - loss: 6.1948 - accuracy: 0.6772 - precision_1: 0.7260 - recall_1: 0.7965 - val_loss: 0.5976 - val_accuracy: 0.6572 - val_precision_1: 0.6923 - val_recall_1: 0.7994\n",
            "Epoch 18/30\n",
            "190/190 [==============================] - 3s 15ms/step - loss: 6.1937 - accuracy: 0.6795 - precision_1: 0.7260 - recall_1: 0.8022 - val_loss: 0.5979 - val_accuracy: 0.6555 - val_precision_1: 0.6944 - val_recall_1: 0.7880\n",
            "Epoch 19/30\n",
            "190/190 [==============================] - 3s 16ms/step - loss: 6.1209 - accuracy: 0.6848 - precision_1: 0.7272 - recall_1: 0.8124 - val_loss: 0.6002 - val_accuracy: 0.6590 - val_precision_1: 0.7031 - val_recall_1: 0.7736\n",
            "Epoch 20/30\n",
            "190/190 [==============================] - 3s 15ms/step - loss: 6.1018 - accuracy: 0.6785 - precision_1: 0.7293 - recall_1: 0.7919 - val_loss: 0.5985 - val_accuracy: 0.6590 - val_precision_1: 0.7042 - val_recall_1: 0.7708\n",
            "Epoch 21/30\n",
            "190/190 [==============================] - 3s 15ms/step - loss: 6.0488 - accuracy: 0.6775 - precision_1: 0.7280 - recall_1: 0.7924 - val_loss: 0.5968 - val_accuracy: 0.6572 - val_precision_1: 0.6841 - val_recall_1: 0.8252\n",
            "Epoch 22/30\n",
            "190/190 [==============================] - 3s 16ms/step - loss: 6.1322 - accuracy: 0.6877 - precision_1: 0.7335 - recall_1: 0.8047 - val_loss: 0.5911 - val_accuracy: 0.6661 - val_precision_1: 0.6932 - val_recall_1: 0.8223\n",
            "Epoch 23/30\n",
            "190/190 [==============================] - 3s 15ms/step - loss: 6.0345 - accuracy: 0.6920 - precision_1: 0.7380 - recall_1: 0.8047 - val_loss: 0.5951 - val_accuracy: 0.6731 - val_precision_1: 0.7330 - val_recall_1: 0.7393\n",
            "Epoch 24/30\n",
            "190/190 [==============================] - 3s 15ms/step - loss: 6.0778 - accuracy: 0.6881 - precision_1: 0.7354 - recall_1: 0.8011 - val_loss: 0.6120 - val_accuracy: 0.6590 - val_precision_1: 0.7635 - val_recall_1: 0.6476\n",
            "Epoch 25/30\n",
            "190/190 [==============================] - 3s 15ms/step - loss: 6.0181 - accuracy: 0.6979 - precision_1: 0.7411 - recall_1: 0.8119 - val_loss: 0.6041 - val_accuracy: 0.6590 - val_precision_1: 0.7516 - val_recall_1: 0.6676\n",
            "Epoch 26/30\n",
            "190/190 [==============================] - 3s 15ms/step - loss: 6.0270 - accuracy: 0.6861 - precision_1: 0.7360 - recall_1: 0.7950 - val_loss: 0.5989 - val_accuracy: 0.6590 - val_precision_1: 0.7229 - val_recall_1: 0.7249\n",
            "Epoch 27/30\n",
            "190/190 [==============================] - 3s 15ms/step - loss: 6.0658 - accuracy: 0.6759 - precision_1: 0.7294 - recall_1: 0.7852 - val_loss: 0.5983 - val_accuracy: 0.6590 - val_precision_1: 0.7267 - val_recall_1: 0.7163\n",
            "Epoch 28/30\n",
            "190/190 [==============================] - 3s 15ms/step - loss: 5.9921 - accuracy: 0.7052 - precision_1: 0.7486 - recall_1: 0.8124 - val_loss: 0.5948 - val_accuracy: 0.6678 - val_precision_1: 0.7230 - val_recall_1: 0.7479\n",
            "Epoch 29/30\n",
            "190/190 [==============================] - 3s 16ms/step - loss: 5.9522 - accuracy: 0.6864 - precision_1: 0.7321 - recall_1: 0.8047 - val_loss: 0.5860 - val_accuracy: 0.6714 - val_precision_1: 0.6993 - val_recall_1: 0.8195\n",
            "Epoch 30/30\n",
            "190/190 [==============================] - 3s 15ms/step - loss: 5.9799 - accuracy: 0.6983 - precision_1: 0.7465 - recall_1: 0.8006 - val_loss: 0.5934 - val_accuracy: 0.6678 - val_precision_1: 0.7293 - val_recall_1: 0.7335\n"
          ]
        }
      ]
    },
    {
      "cell_type": "code",
      "source": [
        "acc_second_train = history.history[\"accuracy\"]\n",
        "acc_second_val = history.history[\"val_accuracy\"]"
      ],
      "metadata": {
        "id": "D49pma6OCCaE"
      },
      "execution_count": null,
      "outputs": []
    },
    {
      "cell_type": "code",
      "source": [
        "\"\"\"\n",
        "\"make space in ram\"\n",
        "del(train_data)\n",
        "del(val_data)\n",
        "\"\"\""
      ],
      "metadata": {
        "id": "GA1ovHccS6Lk",
        "colab": {
          "base_uri": "https://localhost:8080/",
          "height": 36
        },
        "outputId": "4e33d14f-2358-41e7-feab-cc8efe702d48"
      },
      "execution_count": null,
      "outputs": [
        {
          "output_type": "execute_result",
          "data": {
            "text/plain": [
              "'\\n\"make space in ram\"\\ndel(train_data)\\ndel(val_data)\\n'"
            ],
            "application/vnd.google.colaboratory.intrinsic+json": {
              "type": "string"
            }
          },
          "metadata": {},
          "execution_count": 49
        }
      ]
    },
    {
      "cell_type": "code",
      "source": [
        "test_loss, test_acc, test_prec, test_recall = final_model.evaluate(test_data, test_labels)\n",
        "print('acc:', test_acc)\n",
        "print('recall:', test_recall)\n",
        "print('precision:', test_prec)\n",
        "\n",
        "\"\"\"\n",
        "OLD BEST:\n",
        "19/19 [==============================] - 0s 13ms/step - loss: 0.5331 - accuracy: 0.7440 - precision_3: 0.7709 - recall_3: 0.8148\n",
        "acc: 0.744027316570282\n",
        "recall: 0.8148148059844971\n",
        "precision: 0.7708894610404968\n",
        "\"\"\""
      ],
      "metadata": {
        "id": "TqKkkjtxyd7W",
        "colab": {
          "base_uri": "https://localhost:8080/"
        },
        "outputId": "78016e20-aae7-4a87-cddf-43b665753b3a"
      },
      "execution_count": null,
      "outputs": [
        {
          "output_type": "stream",
          "name": "stdout",
          "text": [
            "17/17 [==============================] - 0s 12ms/step - loss: 0.5049 - accuracy: 0.7388 - precision_1: 0.7696 - recall_1: 0.8722\n",
            "acc: 0.7388059496879578\n",
            "recall: 0.8722222447395325\n",
            "precision: 0.7696078419685364\n"
          ]
        }
      ]
    },
    {
      "cell_type": "code",
      "source": [
        "import matplotlib.pyplot as plt\n",
        "\n",
        "f = plt.figure(figsize=(10,6))\n",
        "acc_train = acc_first_train + acc_second_train\n",
        "acc_val = acc_first_val + acc_second_val\n",
        "plt.plot(acc_train, label=\"train accuracy\")\n",
        "plt.plot(acc_val, label=\"val accuracy\")\n",
        "plt.xlabel('epoch', fontsize=14)\n",
        "plt.ylabel('accuracy', fontsize=14)\n",
        "plt.title('accuracy history', fontsize=14)\n",
        "plt.legend(fontsize='large')\n",
        "\n",
        "f.savefig('accuracy_history.pdf', bbox_inches='tight')"
      ],
      "metadata": {
        "colab": {
          "base_uri": "https://localhost:8080/",
          "height": 409
        },
        "id": "yrgPRwPK3_Aa",
        "outputId": "038cca83-6cee-4aec-e9cb-1b7062969e6e"
      },
      "execution_count": null,
      "outputs": [
        {
          "output_type": "display_data",
          "data": {
            "text/plain": [
              "<Figure size 720x432 with 1 Axes>"
            ],
            "image/png": "[encoded data removed]"
          },
          "metadata": {
            "needs_background": "light"
          }
        }
      ]
    },
    {
      "cell_type": "code",
      "source": [
        "model.save_weights('/content/drive/MyDrive/CS230_Code_Data/Dataset/su_model.h5')"
      ],
      "metadata": {
        "id": "rqbwUuTXQfb1"
      },
      "execution_count": null,
      "outputs": []
    },
    {
      "cell_type": "markdown",
      "source": [
        "# **Preprocessing for comparing the GT and the estimated values**"
      ],
      "metadata": {
        "id": "p1nvMWRwwRcY"
      }
    },
    {
      "cell_type": "code",
      "source": [
        "amount = {}\n",
        "prediction_dict = {}\n",
        "keys = []\n",
        "\n",
        "for test_data in test_data_dict:\n",
        "    patient = test_data['patient']\n",
        "    spectogram = test_data['spectogram']\n",
        "    spectogram = np.expand_dims(spectogram, axis = 0)\n",
        "    prediction = final_model.predict(spectogram)\n",
        "    prediction = np.round(prediction[0])\n",
        "    if patient not in prediction_dict:\n",
        "        prediction_dict[patient] = prediction[0]\n",
        "        amount[patient] = 1\n",
        "        keys.append(patient)\n",
        "    else:     \n",
        "        prediction_dict[patient] = prediction_dict[patient] + prediction[0]\n",
        "        amount[patient] = amount[patient] + 1\n"
      ],
      "metadata": {
        "id": "S5Du4yDlDu-5"
      },
      "execution_count": null,
      "outputs": []
    },
    {
      "cell_type": "code",
      "source": [
        "predicted_values = {}\n",
        "for patient in amount:\n",
        "    mean = prediction_dict[patient]/amount[patient]\n",
        "    if mean > 0.5:\n",
        "        predicted_values[patient] = 1\n",
        "    else: \n",
        "        predicted_values[patient] = 0"
      ],
      "metadata": {
        "id": "42m_4NlKTlAA"
      },
      "execution_count": null,
      "outputs": []
    },
    {
      "cell_type": "code",
      "source": [
        "print(predicted_values)"
      ],
      "metadata": {
        "colab": {
          "base_uri": "https://localhost:8080/"
        },
        "id": "k0IOdjBAGOYZ",
        "outputId": "ef419845-2655-4c44-d5dd-653344228391"
      },
      "execution_count": null,
      "outputs": [
        {
          "output_type": "stream",
          "name": "stdout",
          "text": [
            "{'PT033ENSS': 1, 'PT076_ENSS': 1, 'LA9019_ENSS': 0, 'PT109_ENSS': 1, 'NYU1007_ENSS': 0, 'LA9027_ENSS': 1, 'NYU1025_ENSS': 1, 'LA9004_ENSS': 1, 'PT054_ENSS': 1, 'SJ5004ENSS': 0, 'PT014ENSS': 1, 'PT032ENSS': 1, 'PT121_ENSS': 1, 'SJ2016_ENSS': 1, 'PT113_ENSS': 1, 'BL10_ENSS': 0, 'PT118_ENSS': 1, 'LA9015_ENSS': 1, 'BL06_ENSS': 1, 'PT017ENSS': 1, 'PT094_ENSS': 1, 'PT122_ENSS': 1, 'PT123_ENSS': 1, 'PT087_ENSS': 1, 'PT024ENSS': 1, 'NYU1018_ENSS': 1, 'BL08_ENSS': 0, 'LA7008_ENSS': 1, 'PT100_ENSS': 1, 'PT072_ENSS': 1, 'PT018ENSS': 1, 'PT046_ENSS': 1, 'Sj30003_E_NSS': 0, 'PT010ENSS': 1, 'SJ4002_eNSS': 0, 'PT080_ENSS': 1, 'NYU1020_ENSS': 1}\n"
          ]
        }
      ]
    },
    {
      "cell_type": "code",
      "source": [
        "path_to_protocol51 = '/content/drive/MyDrive/CS230_Code_Data/Dataset/pandas_audio_labels.pkl'\n",
        "\n",
        "with open(path_to_protocol51, \"rb\") as fh:\n",
        "  stanford = p.load(fh)\n"
      ],
      "metadata": {
        "id": "1Aw2PSccHMLC"
      },
      "execution_count": null,
      "outputs": []
    },
    {
      "cell_type": "code",
      "source": [
        "stanford"
      ],
      "metadata": {
        "colab": {
          "base_uri": "https://localhost:8080/",
          "height": 1000
        },
        "id": "BLVz-YBpHr5s",
        "outputId": "fa9a6104-6fc0-41be-81c6-5356750384d9"
      },
      "execution_count": null,
      "outputs": [
        {
          "output_type": "execute_result",
          "data": {
            "text/plain": [
              "         File_Name       fs  Amp_number  Total_time  \\\n",
              "0      LA9013_ENSS  44100.0   1422825.0   32.263605   \n",
              "1      LA9012_ENSS  44100.0   1503889.0   34.101791   \n",
              "2        PT023ENSS  25000.0    538537.0   21.541480   \n",
              "3        PT033ENSS  25000.0    442877.0   17.715080   \n",
              "4    Sj30006_E_NSS  44100.0   1160192.0   26.308209   \n",
              "..             ...      ...         ...         ...   \n",
              "291    LA8002_ENSS  44100.0   1913185.0   43.382880   \n",
              "292    Sj4008_ENSS  44100.0   1115557.0   25.296077   \n",
              "293    sj4009_ENSS  44100.0   1273049.0   28.867324   \n",
              "294     PT111_ENSS  25000.0    413427.0   16.537080   \n",
              "295     PT110_ENSS  25000.0    527977.0   21.119080   \n",
              "\n",
              "                                                   amp  GRBAS_Average  \\\n",
              "0    [-2, -9, -2, -4, 6, -2, 7, 2, -3, 5, -4, -2, 4...       0.500000   \n",
              "1    [-9, -12, -10, -1, -6, -8, -9, -2, -4, -10, -6...       0.500000   \n",
              "2    [0, 0, 0, 0, 1, -2, 2, -2, 2, -1, 1, -2, 2, -2...       0.333333   \n",
              "3    [-1, 2, -2, 1, 0, -1, 2, -2, 1, -1, 1, 1, -2, ...       0.500000   \n",
              "4    [-5, -5, 0, -3, 1, -3, 2, -3, -1, -1, 1, -2, 3...       0.875000   \n",
              "..                                                 ...            ...   \n",
              "291  [7, -2, 10, 2, 11, 0, 14, 7, 2, 1, 4, 5, 7, -1...       0.833333   \n",
              "292  [0, 0, 1, -2, 2, -1, 0, 1, -1, 1, -1, 1, -1, 1...       0.625000   \n",
              "293  [0, 0, 0, 0, 0, 0, 0, 0, 0, -1, 2, -3, 4, -4, ...       0.625000   \n",
              "294  [-1, 3, -4, 5, -5, 3, -1, 0, 1, -1, 1, -2, 3, ...       0.166667   \n",
              "295  [-1, 2, -3, 3, -1, -2, 4, -5, 4, -2, 1, -1, 2,...       0.666667   \n",
              "\n",
              "    GRBAS_Category  \n",
              "0           Normal  \n",
              "1           Normal  \n",
              "2           Normal  \n",
              "3           Normal  \n",
              "4             Mild  \n",
              "..             ...  \n",
              "291           Mild  \n",
              "292           Mild  \n",
              "293           Mild  \n",
              "294         Normal  \n",
              "295           Mild  \n",
              "\n",
              "[296 rows x 7 columns]"
            ],
            "text/html": [
              "\n",
              "  <div id=\"df-e4e3c1e1-f5bb-44a8-91e8-8599c0cbed61\">\n",
              "    <div class=\"colab-df-container\">\n",
              "      <div>\n",
              "<style scoped>\n",
              "    .dataframe tbody tr th:only-of-type {\n",
              "        vertical-align: middle;\n",
              "    }\n",
              "\n",
              "    .dataframe tbody tr th {\n",
              "        vertical-align: top;\n",
              "    }\n",
              "\n",
              "    .dataframe thead th {\n",
              "        text-align: right;\n",
              "    }\n",
              "</style>\n",
              "<table border=\"1\" class=\"dataframe\">\n",
              "  <thead>\n",
              "    <tr style=\"text-align: right;\">\n",
              "      <th></th>\n",
              "      <th>File_Name</th>\n",
              "      <th>fs</th>\n",
              "      <th>Amp_number</th>\n",
              "      <th>Total_time</th>\n",
              "      <th>amp</th>\n",
              "      <th>GRBAS_Average</th>\n",
              "      <th>GRBAS_Category</th>\n",
              "    </tr>\n",
              "  </thead>\n",
              "  <tbody>\n",
              "    <tr>\n",
              "      <th>0</th>\n",
              "      <td>LA9013_ENSS</td>\n",
              "      <td>44100.0</td>\n",
              "      <td>1422825.0</td>\n",
              "      <td>32.263605</td>\n",
              "      <td>[-2, -9, -2, -4, 6, -2, 7, 2, -3, 5, -4, -2, 4...</td>\n",
              "      <td>0.500000</td>\n",
              "      <td>Normal</td>\n",
              "    </tr>\n",
              "    <tr>\n",
              "      <th>1</th>\n",
              "      <td>LA9012_ENSS</td>\n",
              "      <td>44100.0</td>\n",
              "      <td>1503889.0</td>\n",
              "      <td>34.101791</td>\n",
              "      <td>[-9, -12, -10, -1, -6, -8, -9, -2, -4, -10, -6...</td>\n",
              "      <td>0.500000</td>\n",
              "      <td>Normal</td>\n",
              "    </tr>\n",
              "    <tr>\n",
              "      <th>2</th>\n",
              "      <td>PT023ENSS</td>\n",
              "      <td>25000.0</td>\n",
              "      <td>538537.0</td>\n",
              "      <td>21.541480</td>\n",
              "      <td>[0, 0, 0, 0, 1, -2, 2, -2, 2, -1, 1, -2, 2, -2...</td>\n",
              "      <td>0.333333</td>\n",
              "      <td>Normal</td>\n",
              "    </tr>\n",
              "    <tr>\n",
              "      <th>3</th>\n",
              "      <td>PT033ENSS</td>\n",
              "      <td>25000.0</td>\n",
              "      <td>442877.0</td>\n",
              "      <td>17.715080</td>\n",
              "      <td>[-1, 2, -2, 1, 0, -1, 2, -2, 1, -1, 1, 1, -2, ...</td>\n",
              "      <td>0.500000</td>\n",
              "      <td>Normal</td>\n",
              "    </tr>\n",
              "    <tr>\n",
              "      <th>4</th>\n",
              "      <td>Sj30006_E_NSS</td>\n",
              "      <td>44100.0</td>\n",
              "      <td>1160192.0</td>\n",
              "      <td>26.308209</td>\n",
              "      <td>[-5, -5, 0, -3, 1, -3, 2, -3, -1, -1, 1, -2, 3...</td>\n",
              "      <td>0.875000</td>\n",
              "      <td>Mild</td>\n",
              "    </tr>\n",
              "    <tr>\n",
              "      <th>...</th>\n",
              "      <td>...</td>\n",
              "      <td>...</td>\n",
              "      <td>...</td>\n",
              "      <td>...</td>\n",
              "      <td>...</td>\n",
              "      <td>...</td>\n",
              "      <td>...</td>\n",
              "    </tr>\n",
              "    <tr>\n",
              "      <th>291</th>\n",
              "      <td>LA8002_ENSS</td>\n",
              "      <td>44100.0</td>\n",
              "      <td>1913185.0</td>\n",
              "      <td>43.382880</td>\n",
              "      <td>[7, -2, 10, 2, 11, 0, 14, 7, 2, 1, 4, 5, 7, -1...</td>\n",
              "      <td>0.833333</td>\n",
              "      <td>Mild</td>\n",
              "    </tr>\n",
              "    <tr>\n",
              "      <th>292</th>\n",
              "      <td>Sj4008_ENSS</td>\n",
              "      <td>44100.0</td>\n",
              "      <td>1115557.0</td>\n",
              "      <td>25.296077</td>\n",
              "      <td>[0, 0, 1, -2, 2, -1, 0, 1, -1, 1, -1, 1, -1, 1...</td>\n",
              "      <td>0.625000</td>\n",
              "      <td>Mild</td>\n",
              "    </tr>\n",
              "    <tr>\n",
              "      <th>293</th>\n",
              "      <td>sj4009_ENSS</td>\n",
              "      <td>44100.0</td>\n",
              "      <td>1273049.0</td>\n",
              "      <td>28.867324</td>\n",
              "      <td>[0, 0, 0, 0, 0, 0, 0, 0, 0, -1, 2, -3, 4, -4, ...</td>\n",
              "      <td>0.625000</td>\n",
              "      <td>Mild</td>\n",
              "    </tr>\n",
              "    <tr>\n",
              "      <th>294</th>\n",
              "      <td>PT111_ENSS</td>\n",
              "      <td>25000.0</td>\n",
              "      <td>413427.0</td>\n",
              "      <td>16.537080</td>\n",
              "      <td>[-1, 3, -4, 5, -5, 3, -1, 0, 1, -1, 1, -2, 3, ...</td>\n",
              "      <td>0.166667</td>\n",
              "      <td>Normal</td>\n",
              "    </tr>\n",
              "    <tr>\n",
              "      <th>295</th>\n",
              "      <td>PT110_ENSS</td>\n",
              "      <td>25000.0</td>\n",
              "      <td>527977.0</td>\n",
              "      <td>21.119080</td>\n",
              "      <td>[-1, 2, -3, 3, -1, -2, 4, -5, 4, -2, 1, -1, 2,...</td>\n",
              "      <td>0.666667</td>\n",
              "      <td>Mild</td>\n",
              "    </tr>\n",
              "  </tbody>\n",
              "</table>\n",
              "<p>296 rows × 7 columns</p>\n",
              "</div>\n",
              "      <button class=\"colab-df-convert\" onclick=\"convertToInteractive('df-e4e3c1e1-f5bb-44a8-91e8-8599c0cbed61')\"\n",
              "              title=\"Convert this dataframe to an interactive table.\"\n",
              "              style=\"display:none;\">\n",
              "        \n",
              "  <svg xmlns=\"http://www.w3.org/2000/svg\" height=\"24px\"viewBox=\"0 0 24 24\"\n",
              "       width=\"24px\">\n",
              "    <path d=\"M0 0h24v24H0V0z\" fill=\"none\"/>\n",
              "    <path d=\"M18.56 5.44l.94 2.06.94-2.06 2.06-.94-2.06-.94-.94-2.06-.94 2.06-2.06.94zm-11 1L8.5 8.5l.94-2.06 2.06-.94-2.06-.94L8.5 2.5l-.94 2.06-2.06.94zm10 10l.94 2.06.94-2.06 2.06-.94-2.06-.94-.94-2.06-.94 2.06-2.06.94z\"/><path d=\"M17.41 7.96l-1.37-1.37c-.4-.4-.92-.59-1.43-.59-.52 0-1.04.2-1.43.59L10.3 9.45l-7.72 7.72c-.78.78-.78 2.05 0 2.83L4 21.41c.39.39.9.59 1.41.59.51 0 1.02-.2 1.41-.59l7.78-7.78 2.81-2.81c.8-.78.8-2.07 0-2.86zM5.41 20L4 18.59l7.72-7.72 1.47 1.35L5.41 20z\"/>\n",
              "  </svg>\n",
              "      </button>\n",
              "      \n",
              "  <style>\n",
              "    .colab-df-container {\n",
              "      display:flex;\n",
              "      flex-wrap:wrap;\n",
              "      gap: 12px;\n",
              "    }\n",
              "\n",
              "    .colab-df-convert {\n",
              "      background-color: #E8F0FE;\n",
              "      border: none;\n",
              "      border-radius: 50%;\n",
              "      cursor: pointer;\n",
              "      display: none;\n",
              "      fill: #1967D2;\n",
              "      height: 32px;\n",
              "      padding: 0 0 0 0;\n",
              "      width: 32px;\n",
              "    }\n",
              "\n",
              "    .colab-df-convert:hover {\n",
              "      background-color: #E2EBFA;\n",
              "      box-shadow: 0px 1px 2px rgba(60, 64, 67, 0.3), 0px 1px 3px 1px rgba(60, 64, 67, 0.15);\n",
              "      fill: #174EA6;\n",
              "    }\n",
              "\n",
              "    [theme=dark] .colab-df-convert {\n",
              "      background-color: #3B4455;\n",
              "      fill: #D2E3FC;\n",
              "    }\n",
              "\n",
              "    [theme=dark] .colab-df-convert:hover {\n",
              "      background-color: #434B5C;\n",
              "      box-shadow: 0px 1px 3px 1px rgba(0, 0, 0, 0.15);\n",
              "      filter: drop-shadow(0px 1px 2px rgba(0, 0, 0, 0.3));\n",
              "      fill: #FFFFFF;\n",
              "    }\n",
              "  </style>\n",
              "\n",
              "      <script>\n",
              "        const buttonEl =\n",
              "          document.querySelector('#df-e4e3c1e1-f5bb-44a8-91e8-8599c0cbed61 button.colab-df-convert');\n",
              "        buttonEl.style.display =\n",
              "          google.colab.kernel.accessAllowed ? 'block' : 'none';\n",
              "\n",
              "        async function convertToInteractive(key) {\n",
              "          const element = document.querySelector('#df-e4e3c1e1-f5bb-44a8-91e8-8599c0cbed61');\n",
              "          const dataTable =\n",
              "            await google.colab.kernel.invokeFunction('convertToInteractive',\n",
              "                                                     [key], {});\n",
              "          if (!dataTable) return;\n",
              "\n",
              "          const docLinkHtml = 'Like what you see? Visit the ' +\n",
              "            '<a target=\"_blank\" href=https://colab.research.google.com/notebooks/data_table.ipynb>data table notebook</a>'\n",
              "            + ' to learn more about interactive tables.';\n",
              "          element.innerHTML = '';\n",
              "          dataTable['output_type'] = 'display_data';\n",
              "          await google.colab.output.renderOutput(dataTable, element);\n",
              "          const docLink = document.createElement('div');\n",
              "          docLink.innerHTML = docLinkHtml;\n",
              "          element.appendChild(docLink);\n",
              "        }\n",
              "      </script>\n",
              "    </div>\n",
              "  </div>\n",
              "  "
            ]
          },
          "metadata": {},
          "execution_count": 61
        }
      ]
    },
    {
      "cell_type": "code",
      "source": [
        "def find_status(Condition):\n",
        "    \"\"\"Extract the status of the patient\n",
        "    0: Normal\n",
        "    1: Pathological\"\"\"\n",
        "    Condition = str(Condition)\n",
        "    if (Condition == \"Normal\"):\n",
        "        return 0\n",
        "    else:\n",
        "        return 1"
      ],
      "metadata": {
        "id": "5Ah4jX8CIRqX"
      },
      "execution_count": null,
      "outputs": []
    },
    {
      "cell_type": "code",
      "source": [
        "def find_gt_labels(gt_labels, pandas_data, keys): \n",
        "    for index, rows in pandas_data.iterrows():\n",
        "        if rows.File_Name in keys:\n",
        "            status = find_status(rows.GRBAS_Category)\n",
        "            gt_labels[rows.File_Name] = status\n",
        "    return gt_labels"
      ],
      "metadata": {
        "id": "HVFnu0thHu3t"
      },
      "execution_count": null,
      "outputs": []
    },
    {
      "cell_type": "code",
      "source": [
        "gt_labels = {}\n",
        "gt_labels = find_gt_labels(gt_labels, stanford, keys)"
      ],
      "metadata": {
        "id": "sTAAX9i9Hwe8"
      },
      "execution_count": null,
      "outputs": []
    },
    {
      "cell_type": "code",
      "source": [
        "print(gt_labels)\n",
        "print(predicted_values)"
      ],
      "metadata": {
        "colab": {
          "base_uri": "https://localhost:8080/"
        },
        "id": "mZ6VghSPIoYL",
        "outputId": "dc79ee81-fc2a-4e7f-eabc-53bd8f57ef09"
      },
      "execution_count": null,
      "outputs": [
        {
          "output_type": "stream",
          "name": "stdout",
          "text": [
            "{'PT033ENSS': 0, 'PT076_ENSS': 1, 'LA9019_ENSS': 0, 'PT109_ENSS': 0, 'NYU1007_ENSS': 0, 'LA9027_ENSS': 1, 'NYU1025_ENSS': 1, 'LA9004_ENSS': 1, 'PT054_ENSS': 1, 'SJ5004ENSS': 0, 'PT014ENSS': 1, 'PT032ENSS': 1, 'PT121_ENSS': 1, 'SJ2016_ENSS': 1, 'PT113_ENSS': 0, 'BL10_ENSS': 0, 'PT118_ENSS': 1, 'LA9015_ENSS': 0, 'BL06_ENSS': 1, 'PT017ENSS': 1, 'PT094_ENSS': 1, 'PT122_ENSS': 1, 'PT123_ENSS': 1, 'PT087_ENSS': 1, 'PT024ENSS': 0, 'NYU1018_ENSS': 1, 'BL08_ENSS': 0, 'LA7008_ENSS': 1, 'PT100_ENSS': 1, 'PT072_ENSS': 1, 'PT018ENSS': 1, 'PT046_ENSS': 1, 'Sj30003_E_NSS': 1, 'PT010ENSS': 0, 'SJ4002_eNSS': 0, 'PT080_ENSS': 1, 'NYU1020_ENSS': 0}\n",
            "{'PT033ENSS': 1, 'PT076_ENSS': 1, 'LA9019_ENSS': 0, 'PT109_ENSS': 1, 'NYU1007_ENSS': 0, 'LA9027_ENSS': 1, 'NYU1025_ENSS': 1, 'LA9004_ENSS': 1, 'PT054_ENSS': 1, 'SJ5004ENSS': 0, 'PT014ENSS': 1, 'PT032ENSS': 1, 'PT121_ENSS': 1, 'SJ2016_ENSS': 1, 'PT113_ENSS': 1, 'BL10_ENSS': 0, 'PT118_ENSS': 1, 'LA9015_ENSS': 1, 'BL06_ENSS': 1, 'PT017ENSS': 1, 'PT094_ENSS': 1, 'PT122_ENSS': 1, 'PT123_ENSS': 1, 'PT087_ENSS': 1, 'PT024ENSS': 1, 'NYU1018_ENSS': 1, 'BL08_ENSS': 0, 'LA7008_ENSS': 1, 'PT100_ENSS': 1, 'PT072_ENSS': 1, 'PT018ENSS': 1, 'PT046_ENSS': 1, 'Sj30003_E_NSS': 0, 'PT010ENSS': 1, 'SJ4002_eNSS': 0, 'PT080_ENSS': 1, 'NYU1020_ENSS': 1}\n"
          ]
        }
      ]
    },
    {
      "cell_type": "code",
      "source": [
        "count = 0\n",
        "tp = 0\n",
        "tn = 0\n",
        "fp = 0\n",
        "fn = 0\n",
        "for key in predicted_values:\n",
        "    count += 1\n",
        "    our_est = predicted_values[key]\n",
        "    gt = gt_labels[key]\n",
        "    if gt == 1 and gt == our_est:\n",
        "        tp += 1\n",
        "    elif gt == 1 and gt != our_est:\n",
        "        fn += 1\n",
        "    elif gt == 0 and gt == our_est:\n",
        "        tn += 1\n",
        "    else:\n",
        "        fp += 1\n",
        "\n",
        "\n",
        "acc = (tp + tn)/count\n",
        "prec = tp/(tp + fp)\n",
        "recall = tp/(tp + fn)\n",
        "print('accuracy:', acc)\n",
        "print('F1 score:', (2*prec*recall)/(prec+ recall))"
      ],
      "metadata": {
        "colab": {
          "base_uri": "https://localhost:8080/"
        },
        "id": "8sBrtD2GJ4CF",
        "outputId": "99e8473f-a018-4d12-de30-1dc901d1c9fd"
      },
      "execution_count": null,
      "outputs": [
        {
          "output_type": "stream",
          "name": "stdout",
          "text": [
            "accuracy: 0.7837837837837838\n",
            "F1 score: 0.8518518518518519\n"
          ]
        }
      ]
    },
    {
      "cell_type": "code",
      "source": [
        ""
      ],
      "metadata": {
        "id": "RdG6B1g-P03g"
      },
      "execution_count": null,
      "outputs": []
    }
  ]
}