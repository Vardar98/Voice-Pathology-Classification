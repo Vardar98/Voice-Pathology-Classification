{
  "nbformat": 4,
  "nbformat_minor": 0,
  "metadata": {
    "colab": {
      "name": "voiceNet.ipynb",
      "provenance": [],
      "collapsed_sections": []
    },
    "kernelspec": {
      "name": "python3",
      "display_name": "Python 3"
    },
    "language_info": {
      "name": "python"
    },
    "accelerator": "GPU"
  },
  "cells": [
    {
      "cell_type": "markdown",
      "source": [
        "The code is written by Emil Vardar"
      ],
      "metadata": {
        "id": "5M1ptPjKaZWC"
      }
    },
    {
      "cell_type": "code",
      "execution_count": 1,
      "metadata": {
        "colab": {
          "base_uri": "https://localhost:8080/"
        },
        "id": "TeA-tGnkSYQg",
        "outputId": "38d89087-6bfa-43b7-9193-3feb69efb256"
      },
      "outputs": [
        {
          "output_type": "stream",
          "name": "stdout",
          "text": [
            "Drive already mounted at /content/drive; to attempt to forcibly remount, call drive.mount(\"/content/drive\", force_remount=True).\n"
          ]
        }
      ],
      "source": [
        "from google.colab import drive\n",
        "drive.mount('/content/drive')"
      ]
    },
    {
      "cell_type": "markdown",
      "source": [
        "Import all the necessary packages"
      ],
      "metadata": {
        "id": "GAuolw55SgeQ"
      }
    },
    {
      "cell_type": "code",
      "source": [
        "from __future__ import absolute_import, division, print_function, unicode_literals\n",
        "import tensorflow as tf\n",
        "from tensorflow.keras import datasets, layers, models\n",
        "from tensorflow.keras.models import Model\n",
        "\n",
        "from tensorflow.keras.layers import Input, MaxPooling2D, Dense, Activation, ZeroPadding2D, BatchNormalization, Flatten, Conv2D\n",
        "from tensorflow.keras.layers import AveragePooling2D, Dropout, GlobalMaxPooling2D, GlobalAveragePooling2D\n",
        "from tensorflow.keras.metrics import Recall, Precision, Accuracy\n",
        "from tensorflow.keras.optimizers import Adam, SGD "
      ],
      "metadata": {
        "id": "GhYo7XCHScnn"
      },
      "execution_count": 2,
      "outputs": []
    },
    {
      "cell_type": "code",
      "source": [
        "import json\n",
        "import numpy as np\n",
        "import argparse\n",
        "import os \n",
        "from os.path import isfile, join\n",
        "import h5py\n",
        "import random\n",
        "import pickle\n",
        "\n",
        "\n",
        "!pip3 install pickle5\n",
        "import pickle5 as p\n",
        "import matplotlib.pyplot as plt"
      ],
      "metadata": {
        "colab": {
          "base_uri": "https://localhost:8080/"
        },
        "id": "EyRwTcqaSmK_",
        "outputId": "58ec83e9-ad9b-4d47-c0ab-af5f3fc74a5c"
      },
      "execution_count": 3,
      "outputs": [
        {
          "output_type": "stream",
          "name": "stdout",
          "text": [
            "Looking in indexes: https://pypi.org/simple, https://us-python.pkg.dev/colab-wheels/public/simple/\n",
            "Requirement already satisfied: pickle5 in /usr/local/lib/python3.7/dist-packages (0.0.12)\n"
          ]
        }
      ]
    },
    {
      "cell_type": "markdown",
      "source": [
        "Redefine the German dataset model so that we can load its weight properly"
      ],
      "metadata": {
        "id": "yNoLjW1kS2m8"
      }
    },
    {
      "cell_type": "code",
      "source": [
        "initializer = tf.keras.initializers.GlorotNormal() # Xavier initialization\n",
        "\n",
        "model = models.Sequential()\n",
        "\n",
        "model.add(layers.Conv2D(16, (3, 3), activation='relu', padding='same', input_shape=(224, 224, 3), name = 'conv_1', kernel_initializer=initializer))\n",
        "model.add(layers.BatchNormalization())\n",
        "model.add(layers.MaxPooling2D((2, 2)))\n",
        "\n",
        "model.add(layers.Conv2D(16, (3, 3), strides=(2, 2), activation='relu', padding='same', name = 'conv_2', kernel_initializer=initializer))\n",
        "model.add(layers.BatchNormalization())\n",
        "model.add(layers.MaxPooling2D((2, 2)))\n",
        "\n",
        "model.add(layers.Conv2D(8, (3, 3), strides=(2, 2), activation='relu', padding='same', name= 'conv_3', kernel_initializer=initializer))\n",
        "model.add(layers.BatchNormalization())\n",
        "\n",
        "model.add(layers.Conv2D(4, (3, 3), activation='relu', padding='same', name= 'conv_4'))\n",
        "model.add(layers.BatchNormalization())\n",
        "model.add(layers.Dropout(rate = 0.3))\n",
        "model.add(layers.AveragePooling2D((2, 2)))\n",
        "\n",
        "model.add(layers.Flatten())\n",
        "model.add(layers.Dense(16, activation='elu', name='Dense_layer'))\n",
        "model.add(layers.BatchNormalization())\n",
        "model.add(layers.Dropout(rate = 0.3))\n",
        "model.add(layers.Dense(1, activation='sigmoid'))"
      ],
      "metadata": {
        "id": "7vu8AMRSS2E4"
      },
      "execution_count": 4,
      "outputs": []
    },
    {
      "cell_type": "code",
      "source": [
        "model.load_weights('/content/drive/MyDrive/CS230_Code_Data/Dataset/german_model.h5')"
      ],
      "metadata": {
        "id": "cWv_741bSuYE"
      },
      "execution_count": 5,
      "outputs": []
    },
    {
      "cell_type": "markdown",
      "source": [
        "To do the transfer learning extract only the first layers of the pre-train model. More specifically take the first layers up until (and included) the 4th convolutional layer."
      ],
      "metadata": {
        "id": "v5XU_V4YS_50"
      }
    },
    {
      "cell_type": "code",
      "source": [
        "base_model = model\n",
        "prefinal_model = Model(inputs=base_model.input, outputs=base_model.get_layer('conv_4').output, name = 'prefinal_model')\n",
        "prefinal_model.summary()"
      ],
      "metadata": {
        "colab": {
          "base_uri": "https://localhost:8080/"
        },
        "id": "FnTqW8Z4Sz4O",
        "outputId": "f80f254b-43c1-499e-8c92-39bd07f33c16"
      },
      "execution_count": 6,
      "outputs": [
        {
          "output_type": "stream",
          "name": "stdout",
          "text": [
            "Model: \"prefinal_model\"\n",
            "_________________________________________________________________\n",
            " Layer (type)                Output Shape              Param #   \n",
            "=================================================================\n",
            " conv_1_input (InputLayer)   [(None, 224, 224, 3)]     0         \n",
            "                                                                 \n",
            " conv_1 (Conv2D)             (None, 224, 224, 16)      448       \n",
            "                                                                 \n",
            " batch_normalization (BatchN  (None, 224, 224, 16)     64        \n",
            " ormalization)                                                   \n",
            "                                                                 \n",
            " max_pooling2d (MaxPooling2D  (None, 112, 112, 16)     0         \n",
            " )                                                               \n",
            "                                                                 \n",
            " conv_2 (Conv2D)             (None, 56, 56, 16)        2320      \n",
            "                                                                 \n",
            " batch_normalization_1 (Batc  (None, 56, 56, 16)       64        \n",
            " hNormalization)                                                 \n",
            "                                                                 \n",
            " max_pooling2d_1 (MaxPooling  (None, 28, 28, 16)       0         \n",
            " 2D)                                                             \n",
            "                                                                 \n",
            " conv_3 (Conv2D)             (None, 14, 14, 8)         1160      \n",
            "                                                                 \n",
            " batch_normalization_2 (Batc  (None, 14, 14, 8)        32        \n",
            " hNormalization)                                                 \n",
            "                                                                 \n",
            " conv_4 (Conv2D)             (None, 14, 14, 4)         292       \n",
            "                                                                 \n",
            "=================================================================\n",
            "Total params: 4,380\n",
            "Trainable params: 4,300\n",
            "Non-trainable params: 80\n",
            "_________________________________________________________________\n"
          ]
        }
      ]
    },
    {
      "cell_type": "markdown",
      "source": [
        "Then add new layers on top of the one given above"
      ],
      "metadata": {
        "id": "U4QtJKL6TVJ8"
      }
    },
    {
      "cell_type": "code",
      "source": [
        "X = prefinal_model.output    # x is the output of the last layer of cutted_layer (x=features on layer block4_conv3)\n",
        "\n",
        "X = Dropout(0.3)(X)\n",
        "X = BatchNormalization()(X)\n",
        "X = MaxPooling2D((2,2))(X)\n",
        "X = Flatten()(X)\n",
        "X = Dropout(0.3)(X)\n",
        "X = Dense(16, activation='elu')(X) \n",
        "#X = Dense(4, activation='elu')(X) \n",
        "prediction = Dense(1, activation='sigmoid')(X) \n"
      ],
      "metadata": {
        "id": "7rv_9AEgTTb4"
      },
      "execution_count": 7,
      "outputs": []
    },
    {
      "cell_type": "code",
      "source": [
        "final_model = Model(inputs=base_model.input, outputs=prediction, name = 'final_model')\n",
        "final_model.summary()"
      ],
      "metadata": {
        "colab": {
          "base_uri": "https://localhost:8080/"
        },
        "id": "vWjhpFuVUM0V",
        "outputId": "db690fe7-1de0-451d-8c5c-99408be6906b"
      },
      "execution_count": 8,
      "outputs": [
        {
          "output_type": "stream",
          "name": "stdout",
          "text": [
            "Model: \"final_model\"\n",
            "_________________________________________________________________\n",
            " Layer (type)                Output Shape              Param #   \n",
            "=================================================================\n",
            " conv_1_input (InputLayer)   [(None, 224, 224, 3)]     0         \n",
            "                                                                 \n",
            " conv_1 (Conv2D)             (None, 224, 224, 16)      448       \n",
            "                                                                 \n",
            " batch_normalization (BatchN  (None, 224, 224, 16)     64        \n",
            " ormalization)                                                   \n",
            "                                                                 \n",
            " max_pooling2d (MaxPooling2D  (None, 112, 112, 16)     0         \n",
            " )                                                               \n",
            "                                                                 \n",
            " conv_2 (Conv2D)             (None, 56, 56, 16)        2320      \n",
            "                                                                 \n",
            " batch_normalization_1 (Batc  (None, 56, 56, 16)       64        \n",
            " hNormalization)                                                 \n",
            "                                                                 \n",
            " max_pooling2d_1 (MaxPooling  (None, 28, 28, 16)       0         \n",
            " 2D)                                                             \n",
            "                                                                 \n",
            " conv_3 (Conv2D)             (None, 14, 14, 8)         1160      \n",
            "                                                                 \n",
            " batch_normalization_2 (Batc  (None, 14, 14, 8)        32        \n",
            " hNormalization)                                                 \n",
            "                                                                 \n",
            " conv_4 (Conv2D)             (None, 14, 14, 4)         292       \n",
            "                                                                 \n",
            " dropout_2 (Dropout)         (None, 14, 14, 4)         0         \n",
            "                                                                 \n",
            " batch_normalization_5 (Batc  (None, 14, 14, 4)        16        \n",
            " hNormalization)                                                 \n",
            "                                                                 \n",
            " max_pooling2d_2 (MaxPooling  (None, 7, 7, 4)          0         \n",
            " 2D)                                                             \n",
            "                                                                 \n",
            " flatten_1 (Flatten)         (None, 196)               0         \n",
            "                                                                 \n",
            " dropout_3 (Dropout)         (None, 196)               0         \n",
            "                                                                 \n",
            " dense_1 (Dense)             (None, 16)                3152      \n",
            "                                                                 \n",
            " dense_2 (Dense)             (None, 1)                 17        \n",
            "                                                                 \n",
            "=================================================================\n",
            "Total params: 7,565\n",
            "Trainable params: 7,477\n",
            "Non-trainable params: 88\n",
            "_________________________________________________________________\n"
          ]
        }
      ]
    },
    {
      "cell_type": "markdown",
      "source": [
        "Don't freeze any of the layers"
      ],
      "metadata": {
        "id": "YFrv-Ev4VlJ-"
      }
    },
    {
      "cell_type": "code",
      "source": [
        "for layer in prefinal_model.layers:\n",
        "    layer.trainable = True"
      ],
      "metadata": {
        "id": "YC8apUghT-3Y"
      },
      "execution_count": 9,
      "outputs": []
    },
    {
      "cell_type": "markdown",
      "source": [
        "Import the datasets that has been preprocessed. The imports are dictionaries of type:\n",
        "train_data_dict = {'spectogram:' np.array of shape (224, 224, 3), 'patient:' the id of the patient so that they are not lost, 'status:' 0(healthy) or 1(pathological)}"
      ],
      "metadata": {
        "id": "RJGGi4gwWOYb"
      }
    },
    {
      "cell_type": "code",
      "source": [
        "with open('/content/drive/MyDrive/CS230_Code_Data/train_data', 'rb') as su:\n",
        "    train_data_dict = pickle.load(su)\n",
        "\n",
        "with open('/content/drive/MyDrive/CS230_Code_Data/test_data', 'rb') as su:\n",
        "    test_data_dict = pickle.load(su)\n",
        "\n",
        "with open('/content/drive/MyDrive/CS230_Code_Data/val_data', 'rb') as su:\n",
        "    val_data_dict = pickle.load(su)\n"
      ],
      "metadata": {
        "id": "Sij0kSvkVnmE"
      },
      "execution_count": 10,
      "outputs": []
    },
    {
      "cell_type": "code",
      "source": [
        "print(len(train_data_dict))\n",
        "print(len(test_data_dict))\n",
        "print(len(val_data_dict))"
      ],
      "metadata": {
        "colab": {
          "base_uri": "https://localhost:8080/"
        },
        "id": "V5RlmBp1WsEZ",
        "outputId": "0b70bd3f-3c68-489c-d3ce-cfe7b6109df8"
      },
      "execution_count": 11,
      "outputs": [
        {
          "output_type": "stream",
          "name": "stdout",
          "text": [
            "3039\n",
            "536\n",
            "566\n"
          ]
        }
      ]
    },
    {
      "cell_type": "code",
      "source": [
        "print('The ratio of the train dataset is:', len(train_data_dict)/(len(train_data_dict) + len(test_data_dict) + len(val_data_dict)))"
      ],
      "metadata": {
        "colab": {
          "base_uri": "https://localhost:8080/"
        },
        "id": "mUoEmLEJWtIr",
        "outputId": "f89aac23-f329-45a5-d3be-4a8632b44b6f"
      },
      "execution_count": 12,
      "outputs": [
        {
          "output_type": "stream",
          "name": "stdout",
          "text": [
            "The ratio of the train dataset is: 0.7338807051436851\n"
          ]
        }
      ]
    },
    {
      "cell_type": "markdown",
      "source": [
        "Transfor the spectograms and the status to a keras interpretable form"
      ],
      "metadata": {
        "id": "8DYj4MUYW6eW"
      }
    },
    {
      "cell_type": "code",
      "source": [
        "def matrix_creator(dataset, augment = False):\n",
        "    X = []\n",
        "    y = []\n",
        "    for person in dataset:\n",
        "        spectogram = person['spectogram'] \n",
        "        status = int(person['status'])       \n",
        "        X.append(spectogram)\n",
        "        y.append(status)\n",
        "\n",
        "    X = np.array(X)\n",
        "    y = np.array(y)\n",
        "\n",
        "    y = y.reshape((y.shape[0],1))\n",
        "    return X, y"
      ],
      "metadata": {
        "id": "63iOiFhWW2nS"
      },
      "execution_count": 13,
      "outputs": []
    },
    {
      "cell_type": "code",
      "source": [
        "train_data, train_labels = matrix_creator(train_data_dict)  \n",
        "test_data, test_labels = matrix_creator(test_data_dict)\n",
        "val_data, val_labels = matrix_creator(val_data_dict)"
      ],
      "metadata": {
        "id": "_4AzLdiXW8cb"
      },
      "execution_count": 14,
      "outputs": []
    },
    {
      "cell_type": "code",
      "source": [
        "print(train_data.shape)\n",
        "print(test_data.shape)\n",
        "print(val_data.shape)"
      ],
      "metadata": {
        "colab": {
          "base_uri": "https://localhost:8080/"
        },
        "id": "dRDsstvRXjxZ",
        "outputId": "28c3b943-1171-4a7f-d4a7-e08c041c0ad3"
      },
      "execution_count": 15,
      "outputs": [
        {
          "output_type": "stream",
          "name": "stdout",
          "text": [
            "(3039, 224, 224, 3)\n",
            "(536, 224, 224, 3)\n",
            "(566, 224, 224, 3)\n"
          ]
        }
      ]
    },
    {
      "cell_type": "markdown",
      "source": [
        "See an example spectogram"
      ],
      "metadata": {
        "id": "xf9AL-UGXmcJ"
      }
    },
    {
      "cell_type": "code",
      "source": [
        "image = train_data[18]\n",
        "plt.imshow(image)\n",
        "plt.show()"
      ],
      "metadata": {
        "colab": {
          "base_uri": "https://localhost:8080/",
          "height": 269
        },
        "id": "Myqxd4FLXkuT",
        "outputId": "dfde3a47-69c6-4b7a-f018-ac3a34e5976a"
      },
      "execution_count": 16,
      "outputs": [
        {
          "output_type": "display_data",
          "data": {
            "text/plain": [
              "<Figure size 432x288 with 1 Axes>"
            ],
            "image/png": "[encoded data removed]"
          },
          "metadata": {
            "needs_background": "light"
          }
        }
      ]
    },
    {
      "cell_type": "markdown",
      "source": [
        "Further train the base model on the stanford dataset. \n",
        "We are using Adam as optimizer with lr=5e-5. The loss function is weighted binary cross entropy. "
      ],
      "metadata": {
        "id": "CxaBShEkXza0"
      }
    },
    {
      "cell_type": "code",
      "source": [
        "opt = Adam(learning_rate=5e-5, beta_1 = 0.9, beta_2 = 0.999)\n",
        "final_model.compile(optimizer = opt, loss='binary_crossentropy', metrics=['accuracy', Precision(), Recall()])"
      ],
      "metadata": {
        "id": "6JowR00iXqeC"
      },
      "execution_count": 17,
      "outputs": []
    },
    {
      "cell_type": "code",
      "source": [
        "history = final_model.fit(train_data, train_labels, epochs=30, batch_size=16, class_weight={0:4, 1:2}, validation_data=(val_data, val_labels))"
      ],
      "metadata": {
        "colab": {
          "base_uri": "https://localhost:8080/"
        },
        "id": "2RZ0jjgGYCGx",
        "outputId": "2e428930-7f9f-467b-f09e-ab48e789977c"
      },
      "execution_count": 18,
      "outputs": [
        {
          "output_type": "stream",
          "name": "stdout",
          "text": [
            "Epoch 1/30\n",
            "190/190 [==============================] - 11s 33ms/step - loss: 2.4558 - accuracy: 0.4985 - precision: 0.6654 - recall: 0.4363 - val_loss: 0.7073 - val_accuracy: 0.5371 - val_precision: 0.6951 - val_recall: 0.4441\n",
            "Epoch 2/30\n",
            "190/190 [==============================] - 4s 19ms/step - loss: 2.2364 - accuracy: 0.5137 - precision: 0.6770 - recall: 0.4599 - val_loss: 0.6769 - val_accuracy: 0.5671 - val_precision: 0.7281 - val_recall: 0.4756\n",
            "Epoch 3/30\n",
            "190/190 [==============================] - 3s 16ms/step - loss: 2.0792 - accuracy: 0.5393 - precision: 0.7090 - recall: 0.4758 - val_loss: 0.6585 - val_accuracy: 0.5919 - val_precision: 0.7287 - val_recall: 0.5387\n",
            "Epoch 4/30\n",
            "190/190 [==============================] - 3s 17ms/step - loss: 1.9919 - accuracy: 0.5571 - precision: 0.7209 - recall: 0.5031 - val_loss: 0.6734 - val_accuracy: 0.5866 - val_precision: 0.8042 - val_recall: 0.4355\n",
            "Epoch 5/30\n",
            "190/190 [==============================] - 3s 16ms/step - loss: 1.9557 - accuracy: 0.5541 - precision: 0.7207 - recall: 0.4959 - val_loss: 0.6783 - val_accuracy: 0.5830 - val_precision: 0.8192 - val_recall: 0.4155\n",
            "Epoch 6/30\n",
            "190/190 [==============================] - 3s 17ms/step - loss: 1.8919 - accuracy: 0.5653 - precision: 0.7320 - recall: 0.5067 - val_loss: 0.6539 - val_accuracy: 0.5919 - val_precision: 0.7706 - val_recall: 0.4814\n",
            "Epoch 7/30\n",
            "190/190 [==============================] - 3s 17ms/step - loss: 1.8740 - accuracy: 0.5699 - precision: 0.7456 - recall: 0.4985 - val_loss: 0.6546 - val_accuracy: 0.5972 - val_precision: 0.7951 - val_recall: 0.4670\n",
            "Epoch 8/30\n",
            "190/190 [==============================] - 3s 17ms/step - loss: 1.8165 - accuracy: 0.5768 - precision: 0.7481 - recall: 0.5113 - val_loss: 0.6471 - val_accuracy: 0.6219 - val_precision: 0.8261 - val_recall: 0.4900\n",
            "Epoch 9/30\n",
            "190/190 [==============================] - 3s 17ms/step - loss: 1.8204 - accuracy: 0.5716 - precision: 0.7451 - recall: 0.5031 - val_loss: 0.6626 - val_accuracy: 0.5866 - val_precision: 0.8443 - val_recall: 0.4040\n",
            "Epoch 10/30\n",
            "190/190 [==============================] - 3s 17ms/step - loss: 1.8007 - accuracy: 0.5834 - precision: 0.7580 - recall: 0.5134 - val_loss: 0.6459 - val_accuracy: 0.6078 - val_precision: 0.8038 - val_recall: 0.4814\n",
            "Epoch 11/30\n",
            "190/190 [==============================] - 3s 17ms/step - loss: 1.8177 - accuracy: 0.5788 - precision: 0.7573 - recall: 0.5036 - val_loss: 0.6343 - val_accuracy: 0.6290 - val_precision: 0.8145 - val_recall: 0.5158\n",
            "Epoch 12/30\n",
            "190/190 [==============================] - 3s 17ms/step - loss: 1.7848 - accuracy: 0.5907 - precision: 0.7631 - recall: 0.5231 - val_loss: 0.6507 - val_accuracy: 0.6095 - val_precision: 0.8596 - val_recall: 0.4384\n",
            "Epoch 13/30\n",
            "190/190 [==============================] - 3s 17ms/step - loss: 1.7547 - accuracy: 0.5976 - precision: 0.7774 - recall: 0.5206 - val_loss: 0.6315 - val_accuracy: 0.6219 - val_precision: 0.8111 - val_recall: 0.5043\n",
            "Epoch 14/30\n",
            "190/190 [==============================] - 3s 17ms/step - loss: 1.7466 - accuracy: 0.6074 - precision: 0.7881 - recall: 0.5293 - val_loss: 0.6433 - val_accuracy: 0.6254 - val_precision: 0.8549 - val_recall: 0.4728\n",
            "Epoch 15/30\n",
            "190/190 [==============================] - 3s 16ms/step - loss: 1.7590 - accuracy: 0.6009 - precision: 0.7808 - recall: 0.5236 - val_loss: 0.6339 - val_accuracy: 0.6360 - val_precision: 0.8295 - val_recall: 0.5158\n",
            "Epoch 16/30\n",
            "190/190 [==============================] - 3s 17ms/step - loss: 1.7405 - accuracy: 0.6035 - precision: 0.7742 - recall: 0.5375 - val_loss: 0.6373 - val_accuracy: 0.6343 - val_precision: 0.8586 - val_recall: 0.4871\n",
            "Epoch 17/30\n",
            "190/190 [==============================] - 3s 17ms/step - loss: 1.7487 - accuracy: 0.6147 - precision: 0.7856 - recall: 0.5478 - val_loss: 0.6499 - val_accuracy: 0.6219 - val_precision: 0.8857 - val_recall: 0.4441\n",
            "Epoch 18/30\n",
            "190/190 [==============================] - 3s 17ms/step - loss: 1.7202 - accuracy: 0.6064 - precision: 0.8000 - recall: 0.5139 - val_loss: 0.6254 - val_accuracy: 0.6343 - val_precision: 0.8349 - val_recall: 0.5072\n",
            "Epoch 19/30\n",
            "190/190 [==============================] - 3s 16ms/step - loss: 1.7192 - accuracy: 0.6074 - precision: 0.7816 - recall: 0.5370 - val_loss: 0.6201 - val_accuracy: 0.6484 - val_precision: 0.8125 - val_recall: 0.5587\n",
            "Epoch 20/30\n",
            "190/190 [==============================] - 3s 16ms/step - loss: 1.7043 - accuracy: 0.6081 - precision: 0.7915 - recall: 0.5267 - val_loss: 0.6269 - val_accuracy: 0.6484 - val_precision: 0.8538 - val_recall: 0.5186\n",
            "Epoch 21/30\n",
            "190/190 [==============================] - 3s 17ms/step - loss: 1.7025 - accuracy: 0.6196 - precision: 0.7965 - recall: 0.5452 - val_loss: 0.6340 - val_accuracy: 0.6343 - val_precision: 0.8586 - val_recall: 0.4871\n",
            "Epoch 22/30\n",
            "190/190 [==============================] - 3s 17ms/step - loss: 1.6945 - accuracy: 0.6262 - precision: 0.7982 - recall: 0.5570 - val_loss: 0.6273 - val_accuracy: 0.6396 - val_precision: 0.8502 - val_recall: 0.5043\n",
            "Epoch 23/30\n",
            "190/190 [==============================] - 3s 17ms/step - loss: 1.6806 - accuracy: 0.6183 - precision: 0.8109 - recall: 0.5267 - val_loss: 0.6165 - val_accuracy: 0.6431 - val_precision: 0.8387 - val_recall: 0.5215\n",
            "Epoch 24/30\n",
            "190/190 [==============================] - 3s 16ms/step - loss: 1.6660 - accuracy: 0.6249 - precision: 0.7999 - recall: 0.5524 - val_loss: 0.6168 - val_accuracy: 0.6519 - val_precision: 0.8551 - val_recall: 0.5244\n",
            "Epoch 25/30\n",
            "190/190 [==============================] - 4s 19ms/step - loss: 1.6795 - accuracy: 0.6341 - precision: 0.8169 - recall: 0.5524 - val_loss: 0.6084 - val_accuracy: 0.6643 - val_precision: 0.8383 - val_recall: 0.5645\n",
            "Epoch 26/30\n",
            "190/190 [==============================] - 3s 16ms/step - loss: 1.6519 - accuracy: 0.6473 - precision: 0.8291 - recall: 0.5658 - val_loss: 0.6261 - val_accuracy: 0.6378 - val_precision: 0.8600 - val_recall: 0.4928\n",
            "Epoch 27/30\n",
            "190/190 [==============================] - 3s 17ms/step - loss: 1.6476 - accuracy: 0.6371 - precision: 0.8092 - recall: 0.5668 - val_loss: 0.6198 - val_accuracy: 0.6431 - val_precision: 0.8483 - val_recall: 0.5129\n",
            "Epoch 28/30\n",
            "190/190 [==============================] - 3s 17ms/step - loss: 1.6664 - accuracy: 0.6361 - precision: 0.8182 - recall: 0.5550 - val_loss: 0.6186 - val_accuracy: 0.6360 - val_precision: 0.8454 - val_recall: 0.5014\n",
            "Epoch 29/30\n",
            "190/190 [==============================] - 3s 17ms/step - loss: 1.6344 - accuracy: 0.6443 - precision: 0.8329 - recall: 0.5560 - val_loss: 0.6278 - val_accuracy: 0.6343 - val_precision: 0.8777 - val_recall: 0.4728\n",
            "Epoch 30/30\n",
            "190/190 [==============================] - 3s 17ms/step - loss: 1.6638 - accuracy: 0.6324 - precision: 0.8119 - recall: 0.5545 - val_loss: 0.6272 - val_accuracy: 0.6396 - val_precision: 0.8796 - val_recall: 0.4814\n"
          ]
        }
      ]
    },
    {
      "cell_type": "code",
      "source": [
        "acc_first_train = history.history[\"accuracy\"]\n",
        "acc_first_val = history.history[\"val_accuracy\"]"
      ],
      "metadata": {
        "id": "EWQTWtDAYCo5"
      },
      "execution_count": 19,
      "outputs": []
    },
    {
      "cell_type": "markdown",
      "source": [
        "Further train the model by decreasing the learning rate to 1e-5 and decreasing the weights for the weighted binary cross entropy function"
      ],
      "metadata": {
        "id": "9bgDbQ2NYH4F"
      }
    },
    {
      "cell_type": "code",
      "source": [
        "opt = Adam(learning_rate=1e-5, beta_1 = 0.9, beta_2 = 0.999) # decrease the learning rate and run for 20 more epochs\n",
        "history = final_model.fit(train_data, train_labels, epochs=30, batch_size=16, class_weight={0:3.5, 1:2}, validation_data=(val_data, val_labels))"
      ],
      "metadata": {
        "colab": {
          "base_uri": "https://localhost:8080/"
        },
        "id": "EkyrLH4xYG7J",
        "outputId": "77b41d54-7c5e-474d-82c1-ad00b7309974"
      },
      "execution_count": 20,
      "outputs": [
        {
          "output_type": "stream",
          "name": "stdout",
          "text": [
            "Epoch 1/30\n",
            "190/190 [==============================] - 4s 18ms/step - loss: 1.5568 - accuracy: 0.6446 - precision: 0.7999 - recall: 0.5935 - val_loss: 0.6248 - val_accuracy: 0.6325 - val_precision: 0.8653 - val_recall: 0.4785\n",
            "Epoch 2/30\n",
            "190/190 [==============================] - 3s 17ms/step - loss: 1.5558 - accuracy: 0.6463 - precision: 0.7997 - recall: 0.5971 - val_loss: 0.5966 - val_accuracy: 0.6731 - val_precision: 0.8280 - val_recall: 0.5931\n",
            "Epoch 3/30\n",
            "190/190 [==============================] - 3s 17ms/step - loss: 1.5524 - accuracy: 0.6466 - precision: 0.7887 - recall: 0.6120 - val_loss: 0.6000 - val_accuracy: 0.6625 - val_precision: 0.8376 - val_recall: 0.5616\n",
            "Epoch 4/30\n",
            "190/190 [==============================] - 3s 17ms/step - loss: 1.5256 - accuracy: 0.6565 - precision: 0.8015 - recall: 0.6161 - val_loss: 0.5872 - val_accuracy: 0.6696 - val_precision: 0.8022 - val_recall: 0.6160\n",
            "Epoch 5/30\n",
            "190/190 [==============================] - 3s 17ms/step - loss: 1.5227 - accuracy: 0.6502 - precision: 0.8133 - recall: 0.5889 - val_loss: 0.5886 - val_accuracy: 0.6749 - val_precision: 0.8185 - val_recall: 0.6074\n",
            "Epoch 6/30\n",
            "190/190 [==============================] - 3s 17ms/step - loss: 1.4997 - accuracy: 0.6739 - precision: 0.8087 - recall: 0.6429 - val_loss: 0.5871 - val_accuracy: 0.6625 - val_precision: 0.7992 - val_recall: 0.6046\n",
            "Epoch 7/30\n",
            "190/190 [==============================] - 3s 17ms/step - loss: 1.5163 - accuracy: 0.6499 - precision: 0.7996 - recall: 0.6048 - val_loss: 0.6046 - val_accuracy: 0.6431 - val_precision: 0.8451 - val_recall: 0.5158\n",
            "Epoch 8/30\n",
            "190/190 [==============================] - 3s 17ms/step - loss: 1.5050 - accuracy: 0.6617 - precision: 0.8097 - recall: 0.6166 - val_loss: 0.6025 - val_accuracy: 0.6484 - val_precision: 0.8538 - val_recall: 0.5186\n",
            "Epoch 9/30\n",
            "190/190 [==============================] - 3s 17ms/step - loss: 1.4812 - accuracy: 0.6805 - precision: 0.8172 - recall: 0.6454 - val_loss: 0.5819 - val_accuracy: 0.6678 - val_precision: 0.8084 - val_recall: 0.6046\n",
            "Epoch 10/30\n",
            "190/190 [==============================] - 3s 18ms/step - loss: 1.4979 - accuracy: 0.6673 - precision: 0.8135 - recall: 0.6233 - val_loss: 0.5830 - val_accuracy: 0.6678 - val_precision: 0.8084 - val_recall: 0.6046\n",
            "Epoch 11/30\n",
            "190/190 [==============================] - 3s 17ms/step - loss: 1.5066 - accuracy: 0.6657 - precision: 0.8043 - recall: 0.6316 - val_loss: 0.6071 - val_accuracy: 0.6466 - val_precision: 0.8634 - val_recall: 0.5072\n",
            "Epoch 12/30\n",
            "190/190 [==============================] - 3s 17ms/step - loss: 1.4876 - accuracy: 0.6703 - precision: 0.8198 - recall: 0.6218 - val_loss: 0.5837 - val_accuracy: 0.6696 - val_precision: 0.8293 - val_recall: 0.5845\n",
            "Epoch 13/30\n",
            "190/190 [==============================] - 3s 17ms/step - loss: 1.4960 - accuracy: 0.6759 - precision: 0.8118 - recall: 0.6429 - val_loss: 0.5876 - val_accuracy: 0.6608 - val_precision: 0.8153 - val_recall: 0.5817\n",
            "Epoch 14/30\n",
            "190/190 [==============================] - 3s 17ms/step - loss: 1.4689 - accuracy: 0.6897 - precision: 0.8267 - recall: 0.6521 - val_loss: 0.5894 - val_accuracy: 0.6625 - val_precision: 0.8292 - val_recall: 0.5702\n",
            "Epoch 15/30\n",
            "190/190 [==============================] - 3s 17ms/step - loss: 1.4679 - accuracy: 0.6825 - precision: 0.8167 - recall: 0.6501 - val_loss: 0.6040 - val_accuracy: 0.6502 - val_precision: 0.8479 - val_recall: 0.5272\n",
            "Epoch 16/30\n",
            "190/190 [==============================] - 3s 17ms/step - loss: 1.4719 - accuracy: 0.6805 - precision: 0.8222 - recall: 0.6393 - val_loss: 0.5875 - val_accuracy: 0.6643 - val_precision: 0.8326 - val_recall: 0.5702\n",
            "Epoch 17/30\n",
            "190/190 [==============================] - 3s 18ms/step - loss: 1.4703 - accuracy: 0.6769 - precision: 0.8118 - recall: 0.6449 - val_loss: 0.5859 - val_accuracy: 0.6572 - val_precision: 0.8163 - val_recall: 0.5731\n",
            "Epoch 18/30\n",
            "190/190 [==============================] - 3s 17ms/step - loss: 1.4678 - accuracy: 0.6825 - precision: 0.8242 - recall: 0.6408 - val_loss: 0.5654 - val_accuracy: 0.6714 - val_precision: 0.7492 - val_recall: 0.7020\n",
            "Epoch 19/30\n",
            "190/190 [==============================] - 3s 17ms/step - loss: 1.4739 - accuracy: 0.6927 - precision: 0.8135 - recall: 0.6747 - val_loss: 0.5713 - val_accuracy: 0.6714 - val_precision: 0.7985 - val_recall: 0.6246\n",
            "Epoch 20/30\n",
            "190/190 [==============================] - 3s 17ms/step - loss: 1.4816 - accuracy: 0.6785 - precision: 0.8198 - recall: 0.6382 - val_loss: 0.5729 - val_accuracy: 0.6714 - val_precision: 0.8007 - val_recall: 0.6218\n",
            "Epoch 21/30\n",
            "190/190 [==============================] - 3s 18ms/step - loss: 1.4579 - accuracy: 0.6732 - precision: 0.8053 - recall: 0.6459 - val_loss: 0.5895 - val_accuracy: 0.6555 - val_precision: 0.8348 - val_recall: 0.5501\n",
            "Epoch 22/30\n",
            "190/190 [==============================] - 3s 17ms/step - loss: 1.4582 - accuracy: 0.6874 - precision: 0.8213 - recall: 0.6542 - val_loss: 0.5909 - val_accuracy: 0.6590 - val_precision: 0.8451 - val_recall: 0.5473\n",
            "Epoch 23/30\n",
            "190/190 [==============================] - 3s 17ms/step - loss: 1.4476 - accuracy: 0.6936 - precision: 0.8332 - recall: 0.6521 - val_loss: 0.5761 - val_accuracy: 0.6767 - val_precision: 0.8168 - val_recall: 0.6132\n",
            "Epoch 24/30\n",
            "190/190 [==============================] - 3s 17ms/step - loss: 1.4527 - accuracy: 0.6821 - precision: 0.8141 - recall: 0.6526 - val_loss: 0.5680 - val_accuracy: 0.6837 - val_precision: 0.8080 - val_recall: 0.6390\n",
            "Epoch 25/30\n",
            "190/190 [==============================] - 3s 17ms/step - loss: 1.4520 - accuracy: 0.6811 - precision: 0.8158 - recall: 0.6485 - val_loss: 0.5884 - val_accuracy: 0.6625 - val_precision: 0.8435 - val_recall: 0.5559\n",
            "Epoch 26/30\n",
            "190/190 [==============================] - 3s 17ms/step - loss: 1.4382 - accuracy: 0.6907 - precision: 0.8358 - recall: 0.6434 - val_loss: 0.5821 - val_accuracy: 0.6731 - val_precision: 0.8228 - val_recall: 0.5989\n",
            "Epoch 27/30\n",
            "190/190 [==============================] - 3s 17ms/step - loss: 1.4135 - accuracy: 0.7012 - precision: 0.8302 - recall: 0.6706 - val_loss: 0.5831 - val_accuracy: 0.6519 - val_precision: 0.8167 - val_recall: 0.5616\n",
            "Epoch 28/30\n",
            "190/190 [==============================] - 3s 17ms/step - loss: 1.4154 - accuracy: 0.6976 - precision: 0.8298 - recall: 0.6639 - val_loss: 0.5716 - val_accuracy: 0.6643 - val_precision: 0.8000 - val_recall: 0.6074\n",
            "Epoch 29/30\n",
            "190/190 [==============================] - 3s 17ms/step - loss: 1.4169 - accuracy: 0.6976 - precision: 0.8311 - recall: 0.6624 - val_loss: 0.5694 - val_accuracy: 0.6784 - val_precision: 0.8104 - val_recall: 0.6246\n",
            "Epoch 30/30\n",
            "190/190 [==============================] - 3s 17ms/step - loss: 1.4469 - accuracy: 0.6867 - precision: 0.8174 - recall: 0.6578 - val_loss: 0.5949 - val_accuracy: 0.6572 - val_precision: 0.8539 - val_recall: 0.5358\n"
          ]
        }
      ]
    },
    {
      "cell_type": "code",
      "source": [
        "acc_second_train = history.history[\"accuracy\"]\n",
        "acc_second_val = history.history[\"val_accuracy\"]"
      ],
      "metadata": {
        "id": "LQ86IvApYcQz"
      },
      "execution_count": 21,
      "outputs": []
    },
    {
      "cell_type": "code",
      "source": [
        "opt = Adam(learning_rate=5e-6, beta_1 = 0.9, beta_2 = 0.999) # decrease the learning rate and run for 20 more epochs\n",
        "history = final_model.fit(train_data, train_labels, epochs=10, batch_size=16, class_weight={0:3.5, 1:2}, validation_data=(val_data, val_labels))"
      ],
      "metadata": {
        "colab": {
          "base_uri": "https://localhost:8080/"
        },
        "id": "LB8jTnHWXt3H",
        "outputId": "144b422d-4a7c-4558-f04a-f43a52ab1760"
      },
      "execution_count": 22,
      "outputs": [
        {
          "output_type": "stream",
          "name": "stdout",
          "text": [
            "Epoch 1/10\n",
            "190/190 [==============================] - 3s 18ms/step - loss: 1.4382 - accuracy: 0.6973 - precision: 0.8301 - recall: 0.6629 - val_loss: 0.5759 - val_accuracy: 0.6590 - val_precision: 0.8145 - val_recall: 0.5788\n",
            "Epoch 2/10\n",
            "190/190 [==============================] - 3s 17ms/step - loss: 1.4163 - accuracy: 0.6999 - precision: 0.8323 - recall: 0.6655 - val_loss: 0.5565 - val_accuracy: 0.6855 - val_precision: 0.7879 - val_recall: 0.6705\n",
            "Epoch 3/10\n",
            "190/190 [==============================] - 3s 18ms/step - loss: 1.4168 - accuracy: 0.7025 - precision: 0.8366 - recall: 0.6655 - val_loss: 0.5646 - val_accuracy: 0.6749 - val_precision: 0.7875 - val_recall: 0.6476\n",
            "Epoch 4/10\n",
            "190/190 [==============================] - 3s 17ms/step - loss: 1.4127 - accuracy: 0.7210 - precision: 0.8453 - recall: 0.6906 - val_loss: 0.5744 - val_accuracy: 0.6625 - val_precision: 0.8015 - val_recall: 0.6017\n",
            "Epoch 5/10\n",
            "190/190 [==============================] - 3s 17ms/step - loss: 1.3819 - accuracy: 0.7173 - precision: 0.8442 - recall: 0.6850 - val_loss: 0.5541 - val_accuracy: 0.6873 - val_precision: 0.7756 - val_recall: 0.6934\n",
            "Epoch 6/10\n",
            "190/190 [==============================] - 3s 17ms/step - loss: 1.4062 - accuracy: 0.7032 - precision: 0.8390 - recall: 0.6639 - val_loss: 0.5917 - val_accuracy: 0.6625 - val_precision: 0.8405 - val_recall: 0.5587\n",
            "Epoch 7/10\n",
            "190/190 [==============================] - 3s 17ms/step - loss: 1.4214 - accuracy: 0.6953 - precision: 0.8261 - recall: 0.6639 - val_loss: 0.5643 - val_accuracy: 0.6784 - val_precision: 0.7738 - val_recall: 0.6762\n",
            "Epoch 8/10\n",
            "190/190 [==============================] - 3s 18ms/step - loss: 1.3985 - accuracy: 0.7035 - precision: 0.8301 - recall: 0.6752 - val_loss: 0.5628 - val_accuracy: 0.6908 - val_precision: 0.8199 - val_recall: 0.6390\n",
            "Epoch 9/10\n",
            "190/190 [==============================] - 3s 17ms/step - loss: 1.3952 - accuracy: 0.7094 - precision: 0.8379 - recall: 0.6773 - val_loss: 0.5519 - val_accuracy: 0.6908 - val_precision: 0.7959 - val_recall: 0.6705\n",
            "Epoch 10/10\n",
            "190/190 [==============================] - 3s 17ms/step - loss: 1.3828 - accuracy: 0.7088 - precision: 0.8368 - recall: 0.6773 - val_loss: 0.5784 - val_accuracy: 0.6625 - val_precision: 0.8264 - val_recall: 0.5731\n"
          ]
        }
      ]
    },
    {
      "cell_type": "code",
      "source": [
        "acc_third_train = history.history[\"accuracy\"]\n",
        "acc_third_val = history.history[\"val_accuracy\"]"
      ],
      "metadata": {
        "id": "QXstKmgQXw0E"
      },
      "execution_count": 23,
      "outputs": []
    },
    {
      "cell_type": "markdown",
      "source": [
        "Let's look at the accuracy and F1 score for when the chunks in the test set is seen as individuals. Observe that the test set accuracy here is much lower after we have processed the chunks together to indicate whether one patient has pathological voice or not"
      ],
      "metadata": {
        "id": "cn07OnICYe9I"
      }
    },
    {
      "cell_type": "code",
      "source": [
        "test_loss, test_acc, test_prec, test_recall = final_model.evaluate(test_data, test_labels)\n",
        "print('acc:', test_acc)\n",
        "print('recall:', test_recall)\n",
        "print('precision:', test_prec)\n"
      ],
      "metadata": {
        "colab": {
          "base_uri": "https://localhost:8080/"
        },
        "id": "Guf06qRdYdNd",
        "outputId": "154d4689-4405-43a5-e6fc-02cf0b1d1495"
      },
      "execution_count": 24,
      "outputs": [
        {
          "output_type": "stream",
          "name": "stdout",
          "text": [
            "17/17 [==============================] - 0s 15ms/step - loss: 0.5268 - accuracy: 0.7295 - precision: 0.8826 - recall: 0.6889\n",
            "acc: 0.72947758436203\n",
            "recall: 0.6888889074325562\n",
            "precision: 0.8825622797012329\n"
          ]
        }
      ]
    },
    {
      "cell_type": "code",
      "source": [
        "import matplotlib.pyplot as plt\n",
        "\n",
        "f = plt.figure(figsize=(10,6))\n",
        "acc_train = acc_first_train + acc_second_train + acc_third_train\n",
        "acc_val = acc_first_val + acc_second_val + acc_third_val\n",
        "plt.plot(acc_train, label=\"train accuracy\")\n",
        "plt.plot(acc_val, label=\"val accuracy\")\n",
        "plt.xlabel('epoch', fontsize=20)\n",
        "plt.ylabel('accuracy', fontsize=20)\n",
        "plt.title('accuracy history', fontsize=20)\n",
        "plt.legend(fontsize='large')\n",
        "\n",
        "plt.rcParams.update({'font.size': 20})\n",
        "f.savefig('accuracy_history.pdf', bbox_inches='tight')"
      ],
      "metadata": {
        "colab": {
          "base_uri": "https://localhost:8080/",
          "height": 423
        },
        "id": "D8TPuSUBYwRs",
        "outputId": "c2b81007-e76a-4e42-9b3e-57936d315a8e"
      },
      "execution_count": 43,
      "outputs": [
        {
          "output_type": "display_data",
          "data": {
            "text/plain": [
              "<Figure size 720x432 with 1 Axes>"
            ],
            "image/png": "[encoded data removed]"
          },
          "metadata": {
            "needs_background": "light"
          }
        }
      ]
    },
    {
      "cell_type": "markdown",
      "source": [
        "Process the chunks together so that they indicate if one person is pathological or not. Do it also for the validaiton dataset so that we have 2 differnet results. Observe that the code given below is quite bad and unnecesarily complicated. However, since we did not have enough time left on the project, we could not make it more efficient. "
      ],
      "metadata": {
        "id": "dDtyxFpPY_4s"
      }
    },
    {
      "cell_type": "code",
      "source": [
        "amount = {}\n",
        "prediction_dict = {}\n",
        "keys = []\n",
        "\n",
        "for test_data in test_data_dict:\n",
        "    patient = test_data['patient']\n",
        "    spectogram = test_data['spectogram']\n",
        "    spectogram = np.expand_dims(spectogram, axis = 0)\n",
        "    prediction = final_model.predict(spectogram)\n",
        "    prediction = np.round(prediction[0])\n",
        "    if patient not in prediction_dict:\n",
        "        prediction_dict[patient] = prediction[0]\n",
        "        amount[patient] = 1\n",
        "        keys.append(patient)\n",
        "    else:     \n",
        "        prediction_dict[patient] = prediction_dict[patient] + prediction[0]\n",
        "        amount[patient] = amount[patient] + 1\n"
      ],
      "metadata": {
        "id": "xE_qtP2kY8z4"
      },
      "execution_count": 26,
      "outputs": []
    },
    {
      "cell_type": "code",
      "source": [
        "amount_val = {}\n",
        "prediction_dict_val = {}\n",
        "keys_val = []\n",
        "\n",
        "for val_data in val_data_dict:\n",
        "    patient = val_data['patient']\n",
        "    spectogram = val_data['spectogram']\n",
        "    spectogram = np.expand_dims(spectogram, axis = 0)\n",
        "    prediction = final_model.predict(spectogram)\n",
        "    prediction = np.round(prediction[0])\n",
        "    if patient not in prediction_dict_val:\n",
        "        prediction_dict_val[patient] = prediction[0]\n",
        "        amount_val[patient] = 1\n",
        "        keys_val.append(patient)\n",
        "    else:     \n",
        "        prediction_dict_val[patient] = prediction_dict_val[patient] + prediction[0]\n",
        "        amount_val[patient] = amount_val[patient] + 1\n"
      ],
      "metadata": {
        "id": "TztmBuW4ZQqE"
      },
      "execution_count": 27,
      "outputs": []
    },
    {
      "cell_type": "code",
      "source": [
        "predicted_values = {}\n",
        "for patient in amount:\n",
        "    mean = prediction_dict[patient]/amount[patient]\n",
        "    if mean > 0.5:\n",
        "        predicted_values[patient] = 1\n",
        "    else: \n",
        "        predicted_values[patient] = 0"
      ],
      "metadata": {
        "id": "TBZO2IhNZeqo"
      },
      "execution_count": 28,
      "outputs": []
    },
    {
      "cell_type": "code",
      "source": [
        "predicted_values_val = {}\n",
        "for patient in amount_val:\n",
        "    mean = prediction_dict_val[patient]/amount_val[patient]\n",
        "    if mean > 0.5:\n",
        "        predicted_values_val[patient] = 1\n",
        "    else: \n",
        "        predicted_values_val[patient] = 0"
      ],
      "metadata": {
        "id": "gYBv-oAnZgCJ"
      },
      "execution_count": 29,
      "outputs": []
    },
    {
      "cell_type": "code",
      "source": [
        "print(predicted_values)\n",
        "print(predicted_values_val)"
      ],
      "metadata": {
        "colab": {
          "base_uri": "https://localhost:8080/"
        },
        "id": "73M59GthZlYe",
        "outputId": "d717c81e-b8fa-405d-efea-b1f15cd54dbb"
      },
      "execution_count": 30,
      "outputs": [
        {
          "output_type": "stream",
          "name": "stdout",
          "text": [
            "{'PT033ENSS': 0, 'PT076_ENSS': 1, 'LA9019_ENSS': 0, 'PT109_ENSS': 0, 'NYU1007_ENSS': 0, 'LA9027_ENSS': 1, 'NYU1025_ENSS': 1, 'LA9004_ENSS': 1, 'PT054_ENSS': 1, 'SJ5004ENSS': 0, 'PT014ENSS': 1, 'PT032ENSS': 1, 'PT121_ENSS': 1, 'SJ2016_ENSS': 0, 'PT113_ENSS': 0, 'BL10_ENSS': 0, 'PT118_ENSS': 1, 'LA9015_ENSS': 0, 'BL06_ENSS': 1, 'PT017ENSS': 1, 'PT094_ENSS': 1, 'PT122_ENSS': 1, 'PT123_ENSS': 0, 'PT087_ENSS': 1, 'PT024ENSS': 0, 'NYU1018_ENSS': 0, 'BL08_ENSS': 0, 'LA7008_ENSS': 0, 'PT100_ENSS': 1, 'PT072_ENSS': 0, 'PT018ENSS': 1, 'PT046_ENSS': 1, 'Sj30003_E_NSS': 0, 'PT010ENSS': 0, 'SJ4002_eNSS': 0, 'PT080_ENSS': 1, 'NYU1020_ENSS': 0}\n",
            "{'LA9012_ENSS': 0, 'PT102_ENSS': 0, 'PT098_ENSS': 0, 'PT136_ENSS': 1, 'PT093_ENSS': 0, 'PT015ENSS': 1, 'SJ7001_ENSS': 0, 'Sj4007_eNSS': 0, 'LA9002_ENSS': 0, 'SJ5006ENSS': 0, 'Sj6004_ENSS': 0, 'LA8001_ENSS': 0, 'SJ2011_ENSS': 0, 'PT067_ENSS': 0, 'SJ4001_eNSS': 0, 'LA9014_ENSS': 0, 'PT104_ENSS': 1, 'PT038_ENSS': 1, 'SJ5002ENSS': 0, 'PT012ENSS': 1, 'LA1001ENSS': 0, 'Sj4005_eNSS': 1, 'Sj4004_eNSS': 0, 'PT129_ENSS': 0, 'LA9007_ENSS': 0, 'Sj6001_ENSS': 0, 'PT074_ENSS': 1, 'SJ2003_ENSS': 0, 'PT009_ENSS': 1, 'PT008_ENSS': 1, 'PT005_ENSS': 0, 'NYU1002_ENSS': 1, 'Sj5001ENSS': 0, 'PT047_ENSS': 1, 'LA1003ENSS': 1, 'BL13_ENSS': 0, 'SJ2012_ENSS': 0, 'PT050_ENSS': 1, 'PT051_ENSS': 1, 'PT111_ENSS': 0}\n"
          ]
        }
      ]
    },
    {
      "cell_type": "code",
      "source": [
        "path_to_protocol51 = '/content/drive/MyDrive/CS230_Code_Data/Dataset/pandas_audio_labels.pkl'\n",
        "\n",
        "with open(path_to_protocol51, \"rb\") as fh:\n",
        "  stanford = p.load(fh)"
      ],
      "metadata": {
        "id": "y1ZJ3DN-ZnWV"
      },
      "execution_count": 31,
      "outputs": []
    },
    {
      "cell_type": "code",
      "source": [
        "def find_status(Condition):\n",
        "    \"\"\"Extract the status of the patient\n",
        "    0: Normal\n",
        "    1: Pathological\"\"\"\n",
        "    Condition = str(Condition)\n",
        "    if (Condition == \"Normal\"):\n",
        "        return 0\n",
        "    else:\n",
        "        return 1"
      ],
      "metadata": {
        "id": "HCqsfpYnZoYN"
      },
      "execution_count": 32,
      "outputs": []
    },
    {
      "cell_type": "code",
      "source": [
        "def find_gt_labels(gt_labels, pandas_data, keys): \n",
        "    for index, rows in pandas_data.iterrows():\n",
        "        if rows.File_Name in keys:\n",
        "            status = find_status(rows.GRBAS_Category)\n",
        "            gt_labels[rows.File_Name] = status\n",
        "    return gt_labels"
      ],
      "metadata": {
        "id": "5Xfz-WfeZpcX"
      },
      "execution_count": 33,
      "outputs": []
    },
    {
      "cell_type": "code",
      "source": [
        "gt_labels = {}\n",
        "gt_labels = find_gt_labels(gt_labels, stanford, keys)\n",
        "\n",
        "gt_labels_val = {}\n",
        "gt_labels_val = find_gt_labels(gt_labels_val, stanford, keys_val)"
      ],
      "metadata": {
        "id": "b6UDDAM7ZqRc"
      },
      "execution_count": 34,
      "outputs": []
    },
    {
      "cell_type": "code",
      "source": [
        "print(gt_labels)\n",
        "print(predicted_values)\n",
        "\n",
        "print(gt_labels_val)\n",
        "print(predicted_values_val)"
      ],
      "metadata": {
        "colab": {
          "base_uri": "https://localhost:8080/"
        },
        "id": "bO9ngLq0ZuXb",
        "outputId": "14c83f04-c8af-4185-fa57-d609d2f8124f"
      },
      "execution_count": 35,
      "outputs": [
        {
          "output_type": "stream",
          "name": "stdout",
          "text": [
            "{'PT033ENSS': 0, 'PT076_ENSS': 1, 'LA9019_ENSS': 0, 'PT109_ENSS': 0, 'NYU1007_ENSS': 0, 'LA9027_ENSS': 1, 'NYU1025_ENSS': 1, 'LA9004_ENSS': 1, 'PT054_ENSS': 1, 'SJ5004ENSS': 0, 'PT014ENSS': 1, 'PT032ENSS': 1, 'PT121_ENSS': 1, 'SJ2016_ENSS': 1, 'PT113_ENSS': 0, 'BL10_ENSS': 0, 'PT118_ENSS': 1, 'LA9015_ENSS': 0, 'BL06_ENSS': 1, 'PT017ENSS': 1, 'PT094_ENSS': 1, 'PT122_ENSS': 1, 'PT123_ENSS': 1, 'PT087_ENSS': 1, 'PT024ENSS': 0, 'NYU1018_ENSS': 1, 'BL08_ENSS': 0, 'LA7008_ENSS': 1, 'PT100_ENSS': 1, 'PT072_ENSS': 1, 'PT018ENSS': 1, 'PT046_ENSS': 1, 'Sj30003_E_NSS': 1, 'PT010ENSS': 0, 'SJ4002_eNSS': 0, 'PT080_ENSS': 1, 'NYU1020_ENSS': 0}\n",
            "{'PT033ENSS': 0, 'PT076_ENSS': 1, 'LA9019_ENSS': 0, 'PT109_ENSS': 0, 'NYU1007_ENSS': 0, 'LA9027_ENSS': 1, 'NYU1025_ENSS': 1, 'LA9004_ENSS': 1, 'PT054_ENSS': 1, 'SJ5004ENSS': 0, 'PT014ENSS': 1, 'PT032ENSS': 1, 'PT121_ENSS': 1, 'SJ2016_ENSS': 0, 'PT113_ENSS': 0, 'BL10_ENSS': 0, 'PT118_ENSS': 1, 'LA9015_ENSS': 0, 'BL06_ENSS': 1, 'PT017ENSS': 1, 'PT094_ENSS': 1, 'PT122_ENSS': 1, 'PT123_ENSS': 0, 'PT087_ENSS': 1, 'PT024ENSS': 0, 'NYU1018_ENSS': 0, 'BL08_ENSS': 0, 'LA7008_ENSS': 0, 'PT100_ENSS': 1, 'PT072_ENSS': 0, 'PT018ENSS': 1, 'PT046_ENSS': 1, 'Sj30003_E_NSS': 0, 'PT010ENSS': 0, 'SJ4002_eNSS': 0, 'PT080_ENSS': 1, 'NYU1020_ENSS': 0}\n",
            "{'LA9012_ENSS': 0, 'PT102_ENSS': 1, 'PT098_ENSS': 0, 'PT136_ENSS': 1, 'PT093_ENSS': 0, 'PT015ENSS': 1, 'SJ7001_ENSS': 0, 'Sj4007_eNSS': 1, 'LA9002_ENSS': 1, 'SJ5006ENSS': 1, 'Sj6004_ENSS': 1, 'LA8001_ENSS': 1, 'SJ2011_ENSS': 0, 'PT067_ENSS': 0, 'SJ4001_eNSS': 0, 'LA9014_ENSS': 0, 'PT104_ENSS': 1, 'PT038_ENSS': 1, 'SJ5002ENSS': 1, 'PT012ENSS': 1, 'LA1001ENSS': 0, 'Sj4005_eNSS': 1, 'Sj4004_eNSS': 0, 'PT129_ENSS': 0, 'LA9007_ENSS': 1, 'Sj6001_ENSS': 0, 'PT074_ENSS': 1, 'SJ2003_ENSS': 0, 'PT009_ENSS': 1, 'PT008_ENSS': 1, 'PT005_ENSS': 0, 'NYU1002_ENSS': 1, 'Sj5001ENSS': 1, 'PT047_ENSS': 1, 'LA1003ENSS': 1, 'BL13_ENSS': 1, 'SJ2012_ENSS': 0, 'PT050_ENSS': 1, 'PT051_ENSS': 1, 'PT111_ENSS': 0}\n",
            "{'LA9012_ENSS': 0, 'PT102_ENSS': 0, 'PT098_ENSS': 0, 'PT136_ENSS': 1, 'PT093_ENSS': 0, 'PT015ENSS': 1, 'SJ7001_ENSS': 0, 'Sj4007_eNSS': 0, 'LA9002_ENSS': 0, 'SJ5006ENSS': 0, 'Sj6004_ENSS': 0, 'LA8001_ENSS': 0, 'SJ2011_ENSS': 0, 'PT067_ENSS': 0, 'SJ4001_eNSS': 0, 'LA9014_ENSS': 0, 'PT104_ENSS': 1, 'PT038_ENSS': 1, 'SJ5002ENSS': 0, 'PT012ENSS': 1, 'LA1001ENSS': 0, 'Sj4005_eNSS': 1, 'Sj4004_eNSS': 0, 'PT129_ENSS': 0, 'LA9007_ENSS': 0, 'Sj6001_ENSS': 0, 'PT074_ENSS': 1, 'SJ2003_ENSS': 0, 'PT009_ENSS': 1, 'PT008_ENSS': 1, 'PT005_ENSS': 0, 'NYU1002_ENSS': 1, 'Sj5001ENSS': 0, 'PT047_ENSS': 1, 'LA1003ENSS': 1, 'BL13_ENSS': 0, 'SJ2012_ENSS': 0, 'PT050_ENSS': 1, 'PT051_ENSS': 1, 'PT111_ENSS': 0}\n"
          ]
        }
      ]
    },
    {
      "cell_type": "code",
      "source": [
        "count = 0\n",
        "tp = 0\n",
        "tn = 0\n",
        "fp = 0\n",
        "fn = 0\n",
        "for key in predicted_values:\n",
        "    count += 1\n",
        "    our_est = predicted_values[key]\n",
        "    gt = gt_labels[key]\n",
        "    if gt == 1 and gt == our_est:\n",
        "        tp += 1\n",
        "    elif gt == 1 and gt != our_est:\n",
        "        fn += 1\n",
        "    elif gt == 0 and gt == our_est:\n",
        "        tn += 1\n",
        "    else:\n",
        "        fp += 1\n",
        "\n",
        "\n",
        "acc = (tp + tn)/count\n",
        "prec = tp/(tp + fp)\n",
        "recall = tp/(tp + fn)\n",
        "print('Accuracy for the test set is:', acc)\n",
        "print('F1 score for the test set is:', (2*prec*recall)/(prec+ recall))"
      ],
      "metadata": {
        "colab": {
          "base_uri": "https://localhost:8080/"
        },
        "id": "EL-HIDVxZw-R",
        "outputId": "336ecce3-d274-4162-e3fb-3e9e9da17ec0"
      },
      "execution_count": 39,
      "outputs": [
        {
          "output_type": "stream",
          "name": "stdout",
          "text": [
            "Accuracy for the test set is: 0.8378378378378378\n",
            "F1 score for the test set is: 0.8571428571428571\n"
          ]
        }
      ]
    },
    {
      "cell_type": "code",
      "source": [
        "print('FN on test set:', fn)\n",
        "print('TN on test set:', tn)\n",
        "print('TP on test set:', tp)\n",
        "print('FP on test set:', fp)"
      ],
      "metadata": {
        "colab": {
          "base_uri": "https://localhost:8080/"
        },
        "id": "h1Pf-_XutspZ",
        "outputId": "f46d7964-4384-45f2-8b12-77b6f27e9b23"
      },
      "execution_count": 40,
      "outputs": [
        {
          "output_type": "stream",
          "name": "stdout",
          "text": [
            "FN on test set: 6\n",
            "TN on test set: 13\n",
            "TP on test set: 18\n",
            "FP on test set: 0\n"
          ]
        }
      ]
    },
    {
      "cell_type": "code",
      "source": [
        "count = 0\n",
        "tp = 0\n",
        "tn = 0\n",
        "fp = 0\n",
        "fn = 0\n",
        "for key in predicted_values_val:\n",
        "    count += 1\n",
        "    our_est = predicted_values_val[key]\n",
        "    gt = gt_labels_val[key]\n",
        "    if gt == 1 and gt == our_est:\n",
        "        tp += 1\n",
        "    elif gt == 1 and gt != our_est:\n",
        "        fn += 1\n",
        "    elif gt == 0 and gt == our_est:\n",
        "        tn += 1\n",
        "    else:\n",
        "        fp += 1\n",
        "\n",
        "\n",
        "acc = (tp + tn)/count\n",
        "prec = tp/(tp + fp)\n",
        "recall = tp/(tp + fn)\n",
        "print('Accuracy for the validaiton set is:', acc)\n",
        "print('F1 score for the validaiton set is:', (2*prec*recall)/(prec+ recall))"
      ],
      "metadata": {
        "colab": {
          "base_uri": "https://localhost:8080/"
        },
        "id": "q7QYEpSVZyQb",
        "outputId": "d725cdd3-83af-4af2-dd85-ff727b196062"
      },
      "execution_count": 41,
      "outputs": [
        {
          "output_type": "stream",
          "name": "stdout",
          "text": [
            "Accuracy for the validaiton set is: 0.75\n",
            "F1 score for the validaiton set is: 0.7368421052631579\n"
          ]
        }
      ]
    },
    {
      "cell_type": "code",
      "source": [
        "print('FN on val set:', fn)\n",
        "print('TN on val set:', tn)\n",
        "print('TP on val set:', tp)\n",
        "print('FP on val set:', fp)"
      ],
      "metadata": {
        "colab": {
          "base_uri": "https://localhost:8080/"
        },
        "id": "sIJiXk50t83T",
        "outputId": "86572205-9820-4bea-dfb6-c9d7e4019b9b"
      },
      "execution_count": 42,
      "outputs": [
        {
          "output_type": "stream",
          "name": "stdout",
          "text": [
            "FN on val set: 10\n",
            "TN on val set: 16\n",
            "TP on val set: 14\n",
            "FP on val set: 0\n"
          ]
        }
      ]
    },
    {
      "cell_type": "code",
      "source": [
        "model.save_weights('/content/drive/MyDrive/CS230_Code_Data/Dataset/stanford_model.h5')"
      ],
      "metadata": {
        "id": "QNNg9VmvaTqK"
      },
      "execution_count": 38,
      "outputs": []
    },
    {
      "cell_type": "code",
      "source": [
        ""
      ],
      "metadata": {
        "id": "ZLgsKmyttoHT"
      },
      "execution_count": null,
      "outputs": []
    }
  ]
}